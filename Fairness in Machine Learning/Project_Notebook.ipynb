{
 "cells": [
  {
   "cell_type": "markdown",
   "metadata": {
    "pycharm": {
     "name": "#%% md\n"
    }
   },
   "source": [
    "# Loading and Working The Raw Data\n",
    "\n",
    "To be able to comprehend what data is, it is vital to learn which variables are concerned in the data."
   ]
  },
  {
   "cell_type": "code",
   "execution_count": 87,
   "metadata": {},
   "outputs": [],
   "source": [
    "#Group members: Bora Berk 03709300; Serdar Doruk S ̧enbayrak 03696074; Georgina Joy 03730465; Umut Ekin Gezer 03716498"
   ]
  },
  {
   "cell_type": "code",
   "execution_count": 1,
   "metadata": {
    "pycharm": {
     "name": "#%%\n"
    }
   },
   "outputs": [
    {
     "name": "stdout",
     "output_type": "stream",
     "text": [
      "<class 'pandas.core.frame.DataFrame'>\n",
      "RangeIndex: 402087 entries, 0 to 402086\n",
      "Data columns (total 13 columns):\n",
      " #   Column              Non-Null Count   Dtype \n",
      "---  ------              --------------   ----- \n",
      " 0   state               402087 non-null  object\n",
      " 1   stop_date           402087 non-null  object\n",
      " 2   driver_gender       402087 non-null  object\n",
      " 3   driver_race_raw     402087 non-null  object\n",
      " 4   driver_race         402087 non-null  object\n",
      " 5   violation           402087 non-null  object\n",
      " 6   search_type         402087 non-null  object\n",
      " 7   contraband_found    402087 non-null  bool  \n",
      " 8   stop_outcome        402087 non-null  object\n",
      " 9   search_basis        402087 non-null  object\n",
      " 10  officer_id          402087 non-null  int64 \n",
      " 11  drugs_related_stop  402087 non-null  bool  \n",
      " 12  district            402087 non-null  object\n",
      "dtypes: bool(2), int64(1), object(10)\n",
      "memory usage: 34.5+ MB\n",
      "None\n",
      "0         23\n",
      "1         29\n",
      "2         49\n",
      "3         29\n",
      "4         24\n",
      "          ..\n",
      "402082    18\n",
      "402083    21\n",
      "402084    29\n",
      "402085    18\n",
      "402086    31\n",
      "Name: driver_age, Length: 402087, dtype: int64\n",
      "       state   stop_date driver_gender driver_race_raw driver_race  \\\n",
      "0         NC  2000-07-31             M             W N       White   \n",
      "1         NC  2000-07-31             F             W N       White   \n",
      "2         NC  2000-07-31             F             B N       Black   \n",
      "3         NC  2000-07-31             M             B N       Black   \n",
      "4         NC  2000-07-31             M             U H    Hispanic   \n",
      "...      ...         ...           ...             ...         ...   \n",
      "402082    NC  2015-12-31             M             W N       White   \n",
      "402083    NC  2015-12-31             F             B N       Black   \n",
      "402084    NC  2015-12-31             F             W N       White   \n",
      "402085    NC  2015-12-31             F             W N       White   \n",
      "402086    NC  2015-12-31             M             U H    Hispanic   \n",
      "\n",
      "                  violation          search_type contraband_found  \\\n",
      "0                  Speeding  No Search Conducted            False   \n",
      "1                  Speeding  No Search Conducted            False   \n",
      "2                  Speeding  No Search Conducted            False   \n",
      "3                  Speeding  No Search Conducted            False   \n",
      "4                  Speeding  No Search Conducted            False   \n",
      "...                     ...                  ...              ...   \n",
      "402082             Speeding       Probable Cause             True   \n",
      "402083  Registration/plates   Incident to Arrest            False   \n",
      "402084             Speeding   Incident to Arrest            False   \n",
      "402085                Other       Probable Cause             True   \n",
      "402086                Other   Incident to Arrest            False   \n",
      "\n",
      "       stop_outcome                      search_basis officer_id  \\\n",
      "0            Arrest               No Search Conducted      10606   \n",
      "1            Arrest               No Search Conducted      10606   \n",
      "2            Arrest               No Search Conducted      10606   \n",
      "3            Arrest               No Search Conducted      10606   \n",
      "4            Arrest               No Search Conducted      10606   \n",
      "...             ...                               ...        ...   \n",
      "402082       Arrest  Observation Suspected Contraband      21715   \n",
      "402083       Arrest               Other Official Info      10592   \n",
      "402084       Arrest  Observation Suspected Contraband      21848   \n",
      "402085       Arrest  Observation Suspected Contraband      11887   \n",
      "402086       Arrest               Other Official Info      21553   \n",
      "\n",
      "       drugs_related_stop district  driver_age  \n",
      "0                   False       E3          23  \n",
      "1                   False       E3          29  \n",
      "2                   False       E3          49  \n",
      "3                   False       E3          29  \n",
      "4                   False       E3          24  \n",
      "...                   ...      ...         ...  \n",
      "402082               True       G3          18  \n",
      "402083              False       G5          21  \n",
      "402084              False       E1          29  \n",
      "402085               True       F5          18  \n",
      "402086              False       D5          31  \n",
      "\n",
      "[402087 rows x 14 columns]\n"
     ]
    }
   ],
   "source": [
    "import pandas as pd\n",
    "import numpy as np\n",
    "\n",
    "data_raw = pd.read_csv('NC_policing.csv')\n",
    "data_raw.head()\n",
    "\n",
    "# Solving issues with inputs such as NaN\n",
    "\n",
    "data_raw = data_raw.fillna(False)\n",
    "\n",
    "#Changing all input types to String to avoid clash of types\n",
    "data_age=(data_raw[\"driver_age\"]).astype(int)\n",
    "\n",
    "data_without_age=data_raw.drop(columns='driver_age')\n",
    "\n",
    "print(data_without_age.info())\n",
    "print(data_age)\n",
    "\n",
    "data_without_age = data_without_age.astype(str)\n",
    "\n",
    "data_raw=data_without_age.join(data_age)\n",
    "\n",
    "#data_raw = data_raw.astype(str)\n",
    "print(data_raw)"
   ]
  },
  {
   "cell_type": "markdown",
   "metadata": {
    "collapsed": true,
    "pycharm": {
     "name": "#%% md\n"
    }
   },
   "source": [
    "# Cleaning The Data Set and Separating y_Values\n",
    "\n",
    "As the given data set contains both relevant and irrelevant information, the first step taken should be separating variables that theoretically does not have an influence on the selected result.\n",
    "state: As all police stops took place in NC, this input obviously does not carry any value as a variable.\n",
    "stop_date: Date on which events happen is irrelevant, since every actor behaves in constant manner.\n",
    "driver_race_raw: Any information involved in driver_race_raw is present in data through driver_race, making this column also redundant.\n",
    "officer_id: Considering every actor acts indifferently, and a unitary police perception is being sought, officer in patrol should be neglected, though relevant."
   ]
  },
  {
   "cell_type": "code",
   "execution_count": 2,
   "metadata": {
    "pycharm": {
     "name": "#%%\n"
    }
   },
   "outputs": [
    {
     "name": "stdout",
     "output_type": "stream",
     "text": [
      "<class 'pandas.core.frame.DataFrame'>\n",
      "RangeIndex: 402087 entries, 0 to 402086\n",
      "Data columns (total 9 columns):\n",
      " #   Column              Non-Null Count   Dtype \n",
      "---  ------              --------------   ----- \n",
      " 0   driver_gender       402087 non-null  object\n",
      " 1   driver_race         402087 non-null  object\n",
      " 2   violation           402087 non-null  object\n",
      " 3   search_type         402087 non-null  object\n",
      " 4   contraband_found    402087 non-null  object\n",
      " 5   search_basis        402087 non-null  object\n",
      " 6   drugs_related_stop  402087 non-null  object\n",
      " 7   district            402087 non-null  object\n",
      " 8   driver_age          402087 non-null  int64 \n",
      "dtypes: int64(1), object(8)\n",
      "memory usage: 27.6+ MB\n"
     ]
    },
    {
     "data": {
      "text/html": [
       "<div>\n",
       "<style scoped>\n",
       "    .dataframe tbody tr th:only-of-type {\n",
       "        vertical-align: middle;\n",
       "    }\n",
       "\n",
       "    .dataframe tbody tr th {\n",
       "        vertical-align: top;\n",
       "    }\n",
       "\n",
       "    .dataframe thead th {\n",
       "        text-align: right;\n",
       "    }\n",
       "</style>\n",
       "<table border=\"1\" class=\"dataframe\">\n",
       "  <thead>\n",
       "    <tr style=\"text-align: right;\">\n",
       "      <th></th>\n",
       "      <th>driver_gender</th>\n",
       "      <th>driver_race</th>\n",
       "      <th>violation</th>\n",
       "      <th>search_type</th>\n",
       "      <th>contraband_found</th>\n",
       "      <th>search_basis</th>\n",
       "      <th>drugs_related_stop</th>\n",
       "      <th>district</th>\n",
       "      <th>driver_age</th>\n",
       "    </tr>\n",
       "  </thead>\n",
       "  <tbody>\n",
       "    <tr>\n",
       "      <th>0</th>\n",
       "      <td>M</td>\n",
       "      <td>White</td>\n",
       "      <td>Speeding</td>\n",
       "      <td>No Search Conducted</td>\n",
       "      <td>False</td>\n",
       "      <td>No Search Conducted</td>\n",
       "      <td>False</td>\n",
       "      <td>E3</td>\n",
       "      <td>23</td>\n",
       "    </tr>\n",
       "    <tr>\n",
       "      <th>1</th>\n",
       "      <td>F</td>\n",
       "      <td>White</td>\n",
       "      <td>Speeding</td>\n",
       "      <td>No Search Conducted</td>\n",
       "      <td>False</td>\n",
       "      <td>No Search Conducted</td>\n",
       "      <td>False</td>\n",
       "      <td>E3</td>\n",
       "      <td>29</td>\n",
       "    </tr>\n",
       "    <tr>\n",
       "      <th>2</th>\n",
       "      <td>F</td>\n",
       "      <td>Black</td>\n",
       "      <td>Speeding</td>\n",
       "      <td>No Search Conducted</td>\n",
       "      <td>False</td>\n",
       "      <td>No Search Conducted</td>\n",
       "      <td>False</td>\n",
       "      <td>E3</td>\n",
       "      <td>49</td>\n",
       "    </tr>\n",
       "    <tr>\n",
       "      <th>3</th>\n",
       "      <td>M</td>\n",
       "      <td>Black</td>\n",
       "      <td>Speeding</td>\n",
       "      <td>No Search Conducted</td>\n",
       "      <td>False</td>\n",
       "      <td>No Search Conducted</td>\n",
       "      <td>False</td>\n",
       "      <td>E3</td>\n",
       "      <td>29</td>\n",
       "    </tr>\n",
       "    <tr>\n",
       "      <th>4</th>\n",
       "      <td>M</td>\n",
       "      <td>Hispanic</td>\n",
       "      <td>Speeding</td>\n",
       "      <td>No Search Conducted</td>\n",
       "      <td>False</td>\n",
       "      <td>No Search Conducted</td>\n",
       "      <td>False</td>\n",
       "      <td>E3</td>\n",
       "      <td>24</td>\n",
       "    </tr>\n",
       "  </tbody>\n",
       "</table>\n",
       "</div>"
      ],
      "text/plain": [
       "  driver_gender driver_race violation          search_type contraband_found  \\\n",
       "0             M       White  Speeding  No Search Conducted            False   \n",
       "1             F       White  Speeding  No Search Conducted            False   \n",
       "2             F       Black  Speeding  No Search Conducted            False   \n",
       "3             M       Black  Speeding  No Search Conducted            False   \n",
       "4             M    Hispanic  Speeding  No Search Conducted            False   \n",
       "\n",
       "          search_basis drugs_related_stop district  driver_age  \n",
       "0  No Search Conducted              False       E3          23  \n",
       "1  No Search Conducted              False       E3          29  \n",
       "2  No Search Conducted              False       E3          49  \n",
       "3  No Search Conducted              False       E3          29  \n",
       "4  No Search Conducted              False       E3          24  "
      ]
     },
     "execution_count": 2,
     "metadata": {},
     "output_type": "execute_result"
    }
   ],
   "source": [
    "data = data_raw.drop(columns=['state','stop_date','driver_race_raw','officer_id'])\n",
    "y = data.stop_outcome\n",
    "X = data.drop(columns='stop_outcome')\n",
    "\n",
    "X.info()\n",
    "X.head()"
   ]
  },
  {
   "cell_type": "markdown",
   "metadata": {
    "pycharm": {
     "name": "#%% md\n"
    }
   },
   "source": [
    "# Encoding Non-Numerical Values"
   ]
  },
  {
   "cell_type": "code",
   "execution_count": 3,
   "metadata": {
    "pycharm": {
     "name": "#%%\n"
    }
   },
   "outputs": [],
   "source": [
    "from sklearn import preprocessing\n",
    "encoder = preprocessing.LabelEncoder()\n",
    "y_encoded = encoder.fit_transform(y)\n",
    "\n"
   ]
  },
  {
   "cell_type": "markdown",
   "metadata": {
    "pycharm": {
     "name": "#%% md\n"
    }
   },
   "source": [
    "# Making X Suitable For Labeling\n",
    "\n",
    "Analog to y values that are boolean, have hierarchical order are already in numbers are dropped. Moreover,\n",
    "race is also dropped as it requires one hot-encoding to ensure political correctness.\n",
    "Search_basis type is also dropped to correctly handle mix types concerning multiple reasons."
   ]
  },
  {
   "cell_type": "code",
   "execution_count": 4,
   "metadata": {
    "pycharm": {
     "name": "#%%\n"
    }
   },
   "outputs": [],
   "source": [
    "X_numeric = X.drop(columns=[\"search_type\", \"driver_race\",\"driver_age\",\"search_basis\"])\n",
    "#X_numeric.head()"
   ]
  },
  {
   "cell_type": "markdown",
   "metadata": {
    "pycharm": {
     "is_executing": true,
     "name": "#%% md\n"
    }
   },
   "source": [
    "Using dictionary to make sure search types hierarchical nature is taken into account"
   ]
  },
  {
   "cell_type": "code",
   "execution_count": 5,
   "metadata": {
    "pycharm": {
     "name": "#%%\n"
    }
   },
   "outputs": [],
   "source": [
    "replacements_search = {'No Search Conducted': 0, 'Consent': 1, 'Protective Frisk': 2,\n",
    "                     'Warrant': 3, 'Probable Cause': 4, 'Incident to Arrest': 5}\n",
    "search_type = X['search_type'].replace(replacements_search)\n"
   ]
  },
  {
   "cell_type": "markdown",
   "metadata": {},
   "source": [
    "Using one hot encoding for fields for which either political correctness (race) or\n",
    "the possibility of simultaneous existence is required; Label encoder is used for the rest."
   ]
  },
  {
   "cell_type": "code",
   "execution_count": 6,
   "metadata": {
    "pycharm": {
     "name": "#%%\n"
    }
   },
   "outputs": [],
   "source": [
    "for column in X_numeric:\n",
    "    X_numeric[column] = encoder.fit_transform(X_numeric[column])\n",
    "#X_numeric.head()\n",
    "\n",
    "\n",
    "# One Hot Encoding For Race\n",
    "\n",
    "X_race = X['driver_race']\n",
    "X_race = pd.get_dummies(X_race)\n",
    "#X_race.head()\n",
    "\n",
    "# One Hot Encoding For Search Basis Through Split&Merge\n",
    "\n",
    "X_search_basis = X['search_basis']\n",
    "X_search_basis = X_search_basis.str.split(',', expand=False)\n",
    "X_search_basis = X_search_basis.str.join('|').str.get_dummies()"
   ]
  },
  {
   "cell_type": "markdown",
   "metadata": {
    "pycharm": {
     "is_executing": true,
     "name": "#%% md\n"
    }
   },
   "source": [
    "# Final Result After Cleaning and Ordering of The Raw Data (Aufgabe 1)"
   ]
  },
  {
   "cell_type": "code",
   "execution_count": 7,
   "metadata": {
    "pycharm": {
     "name": "#%%\n"
    }
   },
   "outputs": [
    {
     "data": {
      "text/html": [
       "<div>\n",
       "<style scoped>\n",
       "    .dataframe tbody tr th:only-of-type {\n",
       "        vertical-align: middle;\n",
       "    }\n",
       "\n",
       "    .dataframe tbody tr th {\n",
       "        vertical-align: top;\n",
       "    }\n",
       "\n",
       "    .dataframe thead th {\n",
       "        text-align: right;\n",
       "    }\n",
       "</style>\n",
       "<table border=\"1\" class=\"dataframe\">\n",
       "  <thead>\n",
       "    <tr style=\"text-align: right;\">\n",
       "      <th></th>\n",
       "      <th>Asian</th>\n",
       "      <th>Black</th>\n",
       "      <th>Hispanic</th>\n",
       "      <th>Other</th>\n",
       "      <th>White</th>\n",
       "      <th>driver_age</th>\n",
       "      <th>driver_gender</th>\n",
       "      <th>violation</th>\n",
       "      <th>contraband_found</th>\n",
       "      <th>drugs_related_stop</th>\n",
       "      <th>district</th>\n",
       "      <th>Erratic Suspicious Behaviour</th>\n",
       "      <th>Informant Tip</th>\n",
       "      <th>No Search Conducted</th>\n",
       "      <th>Observation Suspected Contraband</th>\n",
       "      <th>Other Official Info</th>\n",
       "      <th>Suspicious Movement</th>\n",
       "      <th>Witness Observation</th>\n",
       "    </tr>\n",
       "  </thead>\n",
       "  <tbody>\n",
       "    <tr>\n",
       "      <th>0</th>\n",
       "      <td>0</td>\n",
       "      <td>0</td>\n",
       "      <td>0</td>\n",
       "      <td>0</td>\n",
       "      <td>1</td>\n",
       "      <td>23</td>\n",
       "      <td>1</td>\n",
       "      <td>6</td>\n",
       "      <td>0</td>\n",
       "      <td>0</td>\n",
       "      <td>34</td>\n",
       "      <td>0</td>\n",
       "      <td>0</td>\n",
       "      <td>1</td>\n",
       "      <td>0</td>\n",
       "      <td>0</td>\n",
       "      <td>0</td>\n",
       "      <td>0</td>\n",
       "    </tr>\n",
       "    <tr>\n",
       "      <th>1</th>\n",
       "      <td>0</td>\n",
       "      <td>0</td>\n",
       "      <td>0</td>\n",
       "      <td>0</td>\n",
       "      <td>1</td>\n",
       "      <td>29</td>\n",
       "      <td>0</td>\n",
       "      <td>6</td>\n",
       "      <td>0</td>\n",
       "      <td>0</td>\n",
       "      <td>34</td>\n",
       "      <td>0</td>\n",
       "      <td>0</td>\n",
       "      <td>1</td>\n",
       "      <td>0</td>\n",
       "      <td>0</td>\n",
       "      <td>0</td>\n",
       "      <td>0</td>\n",
       "    </tr>\n",
       "    <tr>\n",
       "      <th>2</th>\n",
       "      <td>0</td>\n",
       "      <td>1</td>\n",
       "      <td>0</td>\n",
       "      <td>0</td>\n",
       "      <td>0</td>\n",
       "      <td>49</td>\n",
       "      <td>0</td>\n",
       "      <td>6</td>\n",
       "      <td>0</td>\n",
       "      <td>0</td>\n",
       "      <td>34</td>\n",
       "      <td>0</td>\n",
       "      <td>0</td>\n",
       "      <td>1</td>\n",
       "      <td>0</td>\n",
       "      <td>0</td>\n",
       "      <td>0</td>\n",
       "      <td>0</td>\n",
       "    </tr>\n",
       "    <tr>\n",
       "      <th>3</th>\n",
       "      <td>0</td>\n",
       "      <td>1</td>\n",
       "      <td>0</td>\n",
       "      <td>0</td>\n",
       "      <td>0</td>\n",
       "      <td>29</td>\n",
       "      <td>1</td>\n",
       "      <td>6</td>\n",
       "      <td>0</td>\n",
       "      <td>0</td>\n",
       "      <td>34</td>\n",
       "      <td>0</td>\n",
       "      <td>0</td>\n",
       "      <td>1</td>\n",
       "      <td>0</td>\n",
       "      <td>0</td>\n",
       "      <td>0</td>\n",
       "      <td>0</td>\n",
       "    </tr>\n",
       "    <tr>\n",
       "      <th>4</th>\n",
       "      <td>0</td>\n",
       "      <td>0</td>\n",
       "      <td>1</td>\n",
       "      <td>0</td>\n",
       "      <td>0</td>\n",
       "      <td>24</td>\n",
       "      <td>1</td>\n",
       "      <td>6</td>\n",
       "      <td>0</td>\n",
       "      <td>0</td>\n",
       "      <td>34</td>\n",
       "      <td>0</td>\n",
       "      <td>0</td>\n",
       "      <td>1</td>\n",
       "      <td>0</td>\n",
       "      <td>0</td>\n",
       "      <td>0</td>\n",
       "      <td>0</td>\n",
       "    </tr>\n",
       "  </tbody>\n",
       "</table>\n",
       "</div>"
      ],
      "text/plain": [
       "   Asian  Black  Hispanic  Other  White  driver_age  driver_gender  violation  \\\n",
       "0      0      0         0      0      1          23              1          6   \n",
       "1      0      0         0      0      1          29              0          6   \n",
       "2      0      1         0      0      0          49              0          6   \n",
       "3      0      1         0      0      0          29              1          6   \n",
       "4      0      0         1      0      0          24              1          6   \n",
       "\n",
       "   contraband_found  drugs_related_stop  district  \\\n",
       "0                 0                   0        34   \n",
       "1                 0                   0        34   \n",
       "2                 0                   0        34   \n",
       "3                 0                   0        34   \n",
       "4                 0                   0        34   \n",
       "\n",
       "   Erratic Suspicious Behaviour  Informant Tip  No Search Conducted  \\\n",
       "0                             0              0                    1   \n",
       "1                             0              0                    1   \n",
       "2                             0              0                    1   \n",
       "3                             0              0                    1   \n",
       "4                             0              0                    1   \n",
       "\n",
       "   Observation Suspected Contraband  Other Official Info  Suspicious Movement  \\\n",
       "0                                 0                    0                    0   \n",
       "1                                 0                    0                    0   \n",
       "2                                 0                    0                    0   \n",
       "3                                 0                    0                    0   \n",
       "4                                 0                    0                    0   \n",
       "\n",
       "   Witness Observation  \n",
       "0                    0  \n",
       "1                    0  \n",
       "2                    0  \n",
       "3                    0  \n",
       "4                    0  "
      ]
     },
     "execution_count": 7,
     "metadata": {},
     "output_type": "execute_result"
    }
   ],
   "source": [
    "X_encoded = X_race.join(X.driver_age).join(X_numeric).join(X_search_basis)\n",
    "X_encoded.head()"
   ]
  },
  {
   "cell_type": "code",
   "execution_count": 8,
   "metadata": {},
   "outputs": [
    {
     "name": "stdout",
     "output_type": "stream",
     "text": [
      "<class 'pandas.core.frame.DataFrame'>\n",
      "RangeIndex: 402087 entries, 0 to 402086\n",
      "Data columns (total 18 columns):\n",
      " #   Column                            Non-Null Count   Dtype\n",
      "---  ------                            --------------   -----\n",
      " 0   Asian                             402087 non-null  uint8\n",
      " 1   Black                             402087 non-null  uint8\n",
      " 2   Hispanic                          402087 non-null  uint8\n",
      " 3   Other                             402087 non-null  uint8\n",
      " 4   White                             402087 non-null  uint8\n",
      " 5   driver_age                        402087 non-null  int64\n",
      " 6   driver_gender                     402087 non-null  int64\n",
      " 7   violation                         402087 non-null  int64\n",
      " 8   contraband_found                  402087 non-null  int64\n",
      " 9   drugs_related_stop                402087 non-null  int64\n",
      " 10  district                          402087 non-null  int64\n",
      " 11  Erratic Suspicious Behaviour      402087 non-null  int64\n",
      " 12  Informant Tip                     402087 non-null  int64\n",
      " 13  No Search Conducted               402087 non-null  int64\n",
      " 14  Observation Suspected Contraband  402087 non-null  int64\n",
      " 15  Other Official Info               402087 non-null  int64\n",
      " 16  Suspicious Movement               402087 non-null  int64\n",
      " 17  Witness Observation               402087 non-null  int64\n",
      "dtypes: int64(13), uint8(5)\n",
      "memory usage: 41.8 MB\n"
     ]
    }
   ],
   "source": [
    "X_encoded.info()"
   ]
  },
  {
   "cell_type": "markdown",
   "metadata": {},
   "source": [
    "Splitting feature and target into the train and test data"
   ]
  },
  {
   "cell_type": "code",
   "execution_count": 9,
   "metadata": {},
   "outputs": [],
   "source": [
    "from sklearn.model_selection import train_test_split\n",
    "\n",
    "# Split the data into training and test set\n",
    "# test_size=0.3: 70% training set, 30% test set\n",
    "# random_state=350: fix the random set to get the same result every time you run the code (for tutorial purposes)\n",
    "X_train, X_test, y_train, y_test = train_test_split(X_encoded, y_encoded, test_size=0.3, random_state=350)"
   ]
  },
  {
   "cell_type": "markdown",
   "metadata": {},
   "source": [
    "# Scaling the train and test data "
   ]
  },
  {
   "cell_type": "code",
   "execution_count": 10,
   "metadata": {},
   "outputs": [
    {
     "data": {
      "text/html": [
       "<div>\n",
       "<style scoped>\n",
       "    .dataframe tbody tr th:only-of-type {\n",
       "        vertical-align: middle;\n",
       "    }\n",
       "\n",
       "    .dataframe tbody tr th {\n",
       "        vertical-align: top;\n",
       "    }\n",
       "\n",
       "    .dataframe thead th {\n",
       "        text-align: right;\n",
       "    }\n",
       "</style>\n",
       "<table border=\"1\" class=\"dataframe\">\n",
       "  <thead>\n",
       "    <tr style=\"text-align: right;\">\n",
       "      <th></th>\n",
       "      <th>Asian</th>\n",
       "      <th>Black</th>\n",
       "      <th>Hispanic</th>\n",
       "      <th>Other</th>\n",
       "      <th>White</th>\n",
       "      <th>driver_age</th>\n",
       "      <th>driver_gender</th>\n",
       "      <th>violation</th>\n",
       "      <th>contraband_found</th>\n",
       "      <th>drugs_related_stop</th>\n",
       "      <th>district</th>\n",
       "      <th>Erratic Suspicious Behaviour</th>\n",
       "      <th>Informant Tip</th>\n",
       "      <th>No Search Conducted</th>\n",
       "      <th>Observation Suspected Contraband</th>\n",
       "      <th>Other Official Info</th>\n",
       "      <th>Suspicious Movement</th>\n",
       "      <th>Witness Observation</th>\n",
       "    </tr>\n",
       "  </thead>\n",
       "  <tbody>\n",
       "    <tr>\n",
       "      <th>356440</th>\n",
       "      <td>0</td>\n",
       "      <td>0</td>\n",
       "      <td>0</td>\n",
       "      <td>0</td>\n",
       "      <td>1</td>\n",
       "      <td>44</td>\n",
       "      <td>1</td>\n",
       "      <td>2</td>\n",
       "      <td>1</td>\n",
       "      <td>1</td>\n",
       "      <td>19</td>\n",
       "      <td>1</td>\n",
       "      <td>0</td>\n",
       "      <td>0</td>\n",
       "      <td>0</td>\n",
       "      <td>0</td>\n",
       "      <td>0</td>\n",
       "      <td>0</td>\n",
       "    </tr>\n",
       "    <tr>\n",
       "      <th>290208</th>\n",
       "      <td>0</td>\n",
       "      <td>0</td>\n",
       "      <td>0</td>\n",
       "      <td>0</td>\n",
       "      <td>1</td>\n",
       "      <td>38</td>\n",
       "      <td>1</td>\n",
       "      <td>2</td>\n",
       "      <td>0</td>\n",
       "      <td>0</td>\n",
       "      <td>13</td>\n",
       "      <td>0</td>\n",
       "      <td>0</td>\n",
       "      <td>1</td>\n",
       "      <td>0</td>\n",
       "      <td>0</td>\n",
       "      <td>0</td>\n",
       "      <td>0</td>\n",
       "    </tr>\n",
       "    <tr>\n",
       "      <th>6515</th>\n",
       "      <td>0</td>\n",
       "      <td>1</td>\n",
       "      <td>0</td>\n",
       "      <td>0</td>\n",
       "      <td>0</td>\n",
       "      <td>27</td>\n",
       "      <td>1</td>\n",
       "      <td>0</td>\n",
       "      <td>0</td>\n",
       "      <td>0</td>\n",
       "      <td>20</td>\n",
       "      <td>0</td>\n",
       "      <td>0</td>\n",
       "      <td>1</td>\n",
       "      <td>0</td>\n",
       "      <td>0</td>\n",
       "      <td>0</td>\n",
       "      <td>0</td>\n",
       "    </tr>\n",
       "    <tr>\n",
       "      <th>171793</th>\n",
       "      <td>0</td>\n",
       "      <td>0</td>\n",
       "      <td>0</td>\n",
       "      <td>0</td>\n",
       "      <td>1</td>\n",
       "      <td>41</td>\n",
       "      <td>1</td>\n",
       "      <td>2</td>\n",
       "      <td>0</td>\n",
       "      <td>0</td>\n",
       "      <td>15</td>\n",
       "      <td>0</td>\n",
       "      <td>0</td>\n",
       "      <td>1</td>\n",
       "      <td>0</td>\n",
       "      <td>0</td>\n",
       "      <td>0</td>\n",
       "      <td>0</td>\n",
       "    </tr>\n",
       "    <tr>\n",
       "      <th>294958</th>\n",
       "      <td>0</td>\n",
       "      <td>0</td>\n",
       "      <td>0</td>\n",
       "      <td>0</td>\n",
       "      <td>1</td>\n",
       "      <td>58</td>\n",
       "      <td>1</td>\n",
       "      <td>2</td>\n",
       "      <td>0</td>\n",
       "      <td>0</td>\n",
       "      <td>42</td>\n",
       "      <td>0</td>\n",
       "      <td>0</td>\n",
       "      <td>1</td>\n",
       "      <td>0</td>\n",
       "      <td>0</td>\n",
       "      <td>0</td>\n",
       "      <td>0</td>\n",
       "    </tr>\n",
       "    <tr>\n",
       "      <th>...</th>\n",
       "      <td>...</td>\n",
       "      <td>...</td>\n",
       "      <td>...</td>\n",
       "      <td>...</td>\n",
       "      <td>...</td>\n",
       "      <td>...</td>\n",
       "      <td>...</td>\n",
       "      <td>...</td>\n",
       "      <td>...</td>\n",
       "      <td>...</td>\n",
       "      <td>...</td>\n",
       "      <td>...</td>\n",
       "      <td>...</td>\n",
       "      <td>...</td>\n",
       "      <td>...</td>\n",
       "      <td>...</td>\n",
       "      <td>...</td>\n",
       "      <td>...</td>\n",
       "    </tr>\n",
       "    <tr>\n",
       "      <th>149949</th>\n",
       "      <td>0</td>\n",
       "      <td>1</td>\n",
       "      <td>0</td>\n",
       "      <td>0</td>\n",
       "      <td>0</td>\n",
       "      <td>33</td>\n",
       "      <td>1</td>\n",
       "      <td>2</td>\n",
       "      <td>0</td>\n",
       "      <td>0</td>\n",
       "      <td>56</td>\n",
       "      <td>0</td>\n",
       "      <td>0</td>\n",
       "      <td>1</td>\n",
       "      <td>0</td>\n",
       "      <td>0</td>\n",
       "      <td>0</td>\n",
       "      <td>0</td>\n",
       "    </tr>\n",
       "    <tr>\n",
       "      <th>156092</th>\n",
       "      <td>0</td>\n",
       "      <td>0</td>\n",
       "      <td>0</td>\n",
       "      <td>0</td>\n",
       "      <td>1</td>\n",
       "      <td>20</td>\n",
       "      <td>1</td>\n",
       "      <td>5</td>\n",
       "      <td>0</td>\n",
       "      <td>0</td>\n",
       "      <td>41</td>\n",
       "      <td>0</td>\n",
       "      <td>0</td>\n",
       "      <td>1</td>\n",
       "      <td>0</td>\n",
       "      <td>0</td>\n",
       "      <td>0</td>\n",
       "      <td>0</td>\n",
       "    </tr>\n",
       "    <tr>\n",
       "      <th>241589</th>\n",
       "      <td>0</td>\n",
       "      <td>0</td>\n",
       "      <td>0</td>\n",
       "      <td>0</td>\n",
       "      <td>1</td>\n",
       "      <td>37</td>\n",
       "      <td>1</td>\n",
       "      <td>2</td>\n",
       "      <td>0</td>\n",
       "      <td>0</td>\n",
       "      <td>43</td>\n",
       "      <td>0</td>\n",
       "      <td>0</td>\n",
       "      <td>1</td>\n",
       "      <td>0</td>\n",
       "      <td>0</td>\n",
       "      <td>0</td>\n",
       "      <td>0</td>\n",
       "    </tr>\n",
       "    <tr>\n",
       "      <th>373640</th>\n",
       "      <td>0</td>\n",
       "      <td>0</td>\n",
       "      <td>0</td>\n",
       "      <td>0</td>\n",
       "      <td>1</td>\n",
       "      <td>58</td>\n",
       "      <td>1</td>\n",
       "      <td>2</td>\n",
       "      <td>0</td>\n",
       "      <td>0</td>\n",
       "      <td>6</td>\n",
       "      <td>0</td>\n",
       "      <td>0</td>\n",
       "      <td>1</td>\n",
       "      <td>0</td>\n",
       "      <td>0</td>\n",
       "      <td>0</td>\n",
       "      <td>0</td>\n",
       "    </tr>\n",
       "    <tr>\n",
       "      <th>206832</th>\n",
       "      <td>0</td>\n",
       "      <td>1</td>\n",
       "      <td>0</td>\n",
       "      <td>0</td>\n",
       "      <td>0</td>\n",
       "      <td>36</td>\n",
       "      <td>1</td>\n",
       "      <td>2</td>\n",
       "      <td>0</td>\n",
       "      <td>0</td>\n",
       "      <td>15</td>\n",
       "      <td>0</td>\n",
       "      <td>0</td>\n",
       "      <td>1</td>\n",
       "      <td>0</td>\n",
       "      <td>0</td>\n",
       "      <td>0</td>\n",
       "      <td>0</td>\n",
       "    </tr>\n",
       "  </tbody>\n",
       "</table>\n",
       "<p>100 rows × 18 columns</p>\n",
       "</div>"
      ],
      "text/plain": [
       "        Asian  Black  Hispanic  Other  White  driver_age  driver_gender  \\\n",
       "356440      0      0         0      0      1          44              1   \n",
       "290208      0      0         0      0      1          38              1   \n",
       "6515        0      1         0      0      0          27              1   \n",
       "171793      0      0         0      0      1          41              1   \n",
       "294958      0      0         0      0      1          58              1   \n",
       "...       ...    ...       ...    ...    ...         ...            ...   \n",
       "149949      0      1         0      0      0          33              1   \n",
       "156092      0      0         0      0      1          20              1   \n",
       "241589      0      0         0      0      1          37              1   \n",
       "373640      0      0         0      0      1          58              1   \n",
       "206832      0      1         0      0      0          36              1   \n",
       "\n",
       "        violation  contraband_found  drugs_related_stop  district  \\\n",
       "356440          2                 1                   1        19   \n",
       "290208          2                 0                   0        13   \n",
       "6515            0                 0                   0        20   \n",
       "171793          2                 0                   0        15   \n",
       "294958          2                 0                   0        42   \n",
       "...           ...               ...                 ...       ...   \n",
       "149949          2                 0                   0        56   \n",
       "156092          5                 0                   0        41   \n",
       "241589          2                 0                   0        43   \n",
       "373640          2                 0                   0         6   \n",
       "206832          2                 0                   0        15   \n",
       "\n",
       "        Erratic Suspicious Behaviour  Informant Tip  No Search Conducted  \\\n",
       "356440                             1              0                    0   \n",
       "290208                             0              0                    1   \n",
       "6515                               0              0                    1   \n",
       "171793                             0              0                    1   \n",
       "294958                             0              0                    1   \n",
       "...                              ...            ...                  ...   \n",
       "149949                             0              0                    1   \n",
       "156092                             0              0                    1   \n",
       "241589                             0              0                    1   \n",
       "373640                             0              0                    1   \n",
       "206832                             0              0                    1   \n",
       "\n",
       "        Observation Suspected Contraband  Other Official Info  \\\n",
       "356440                                 0                    0   \n",
       "290208                                 0                    0   \n",
       "6515                                   0                    0   \n",
       "171793                                 0                    0   \n",
       "294958                                 0                    0   \n",
       "...                                  ...                  ...   \n",
       "149949                                 0                    0   \n",
       "156092                                 0                    0   \n",
       "241589                                 0                    0   \n",
       "373640                                 0                    0   \n",
       "206832                                 0                    0   \n",
       "\n",
       "        Suspicious Movement  Witness Observation  \n",
       "356440                    0                    0  \n",
       "290208                    0                    0  \n",
       "6515                      0                    0  \n",
       "171793                    0                    0  \n",
       "294958                    0                    0  \n",
       "...                     ...                  ...  \n",
       "149949                    0                    0  \n",
       "156092                    0                    0  \n",
       "241589                    0                    0  \n",
       "373640                    0                    0  \n",
       "206832                    0                    0  \n",
       "\n",
       "[100 rows x 18 columns]"
      ]
     },
     "execution_count": 10,
     "metadata": {},
     "output_type": "execute_result"
    }
   ],
   "source": [
    "from sklearn.preprocessing import StandardScaler\n",
    "# Creating a scaler object (here with default settings)\n",
    "scaler = StandardScaler()\n",
    "# Replacing the values in our X_train by the normalized ones\n",
    "X_train.values[:] = scaler.fit_transform(X_train)\n",
    "# Replacing the values in our X_test by the normalized ones\n",
    "X_test.values[:] = scaler.transform(X_test)\n",
    "\n",
    "X_train.head(100)"
   ]
  },
  {
   "cell_type": "code",
   "execution_count": 11,
   "metadata": {},
   "outputs": [
    {
     "data": {
      "text/html": [
       "<div>\n",
       "<style scoped>\n",
       "    .dataframe tbody tr th:only-of-type {\n",
       "        vertical-align: middle;\n",
       "    }\n",
       "\n",
       "    .dataframe tbody tr th {\n",
       "        vertical-align: top;\n",
       "    }\n",
       "\n",
       "    .dataframe thead th {\n",
       "        text-align: right;\n",
       "    }\n",
       "</style>\n",
       "<table border=\"1\" class=\"dataframe\">\n",
       "  <thead>\n",
       "    <tr style=\"text-align: right;\">\n",
       "      <th></th>\n",
       "      <th>Asian</th>\n",
       "      <th>Black</th>\n",
       "      <th>Hispanic</th>\n",
       "      <th>Other</th>\n",
       "      <th>White</th>\n",
       "      <th>driver_age</th>\n",
       "      <th>driver_gender</th>\n",
       "      <th>violation</th>\n",
       "      <th>contraband_found</th>\n",
       "      <th>drugs_related_stop</th>\n",
       "      <th>district</th>\n",
       "      <th>Erratic Suspicious Behaviour</th>\n",
       "      <th>Informant Tip</th>\n",
       "      <th>No Search Conducted</th>\n",
       "      <th>Observation Suspected Contraband</th>\n",
       "      <th>Other Official Info</th>\n",
       "      <th>Suspicious Movement</th>\n",
       "      <th>Witness Observation</th>\n",
       "    </tr>\n",
       "  </thead>\n",
       "  <tbody>\n",
       "    <tr>\n",
       "      <th>356440</th>\n",
       "      <td>0</td>\n",
       "      <td>0</td>\n",
       "      <td>0</td>\n",
       "      <td>0</td>\n",
       "      <td>1</td>\n",
       "      <td>44</td>\n",
       "      <td>1</td>\n",
       "      <td>2</td>\n",
       "      <td>1</td>\n",
       "      <td>1</td>\n",
       "      <td>19</td>\n",
       "      <td>1</td>\n",
       "      <td>0</td>\n",
       "      <td>0</td>\n",
       "      <td>0</td>\n",
       "      <td>0</td>\n",
       "      <td>0</td>\n",
       "      <td>0</td>\n",
       "    </tr>\n",
       "    <tr>\n",
       "      <th>290208</th>\n",
       "      <td>0</td>\n",
       "      <td>0</td>\n",
       "      <td>0</td>\n",
       "      <td>0</td>\n",
       "      <td>1</td>\n",
       "      <td>38</td>\n",
       "      <td>1</td>\n",
       "      <td>2</td>\n",
       "      <td>0</td>\n",
       "      <td>0</td>\n",
       "      <td>13</td>\n",
       "      <td>0</td>\n",
       "      <td>0</td>\n",
       "      <td>1</td>\n",
       "      <td>0</td>\n",
       "      <td>0</td>\n",
       "      <td>0</td>\n",
       "      <td>0</td>\n",
       "    </tr>\n",
       "    <tr>\n",
       "      <th>6515</th>\n",
       "      <td>0</td>\n",
       "      <td>1</td>\n",
       "      <td>0</td>\n",
       "      <td>0</td>\n",
       "      <td>0</td>\n",
       "      <td>27</td>\n",
       "      <td>1</td>\n",
       "      <td>0</td>\n",
       "      <td>0</td>\n",
       "      <td>0</td>\n",
       "      <td>20</td>\n",
       "      <td>0</td>\n",
       "      <td>0</td>\n",
       "      <td>1</td>\n",
       "      <td>0</td>\n",
       "      <td>0</td>\n",
       "      <td>0</td>\n",
       "      <td>0</td>\n",
       "    </tr>\n",
       "    <tr>\n",
       "      <th>171793</th>\n",
       "      <td>0</td>\n",
       "      <td>0</td>\n",
       "      <td>0</td>\n",
       "      <td>0</td>\n",
       "      <td>1</td>\n",
       "      <td>41</td>\n",
       "      <td>1</td>\n",
       "      <td>2</td>\n",
       "      <td>0</td>\n",
       "      <td>0</td>\n",
       "      <td>15</td>\n",
       "      <td>0</td>\n",
       "      <td>0</td>\n",
       "      <td>1</td>\n",
       "      <td>0</td>\n",
       "      <td>0</td>\n",
       "      <td>0</td>\n",
       "      <td>0</td>\n",
       "    </tr>\n",
       "    <tr>\n",
       "      <th>294958</th>\n",
       "      <td>0</td>\n",
       "      <td>0</td>\n",
       "      <td>0</td>\n",
       "      <td>0</td>\n",
       "      <td>1</td>\n",
       "      <td>58</td>\n",
       "      <td>1</td>\n",
       "      <td>2</td>\n",
       "      <td>0</td>\n",
       "      <td>0</td>\n",
       "      <td>42</td>\n",
       "      <td>0</td>\n",
       "      <td>0</td>\n",
       "      <td>1</td>\n",
       "      <td>0</td>\n",
       "      <td>0</td>\n",
       "      <td>0</td>\n",
       "      <td>0</td>\n",
       "    </tr>\n",
       "    <tr>\n",
       "      <th>8195</th>\n",
       "      <td>0</td>\n",
       "      <td>0</td>\n",
       "      <td>1</td>\n",
       "      <td>0</td>\n",
       "      <td>0</td>\n",
       "      <td>30</td>\n",
       "      <td>1</td>\n",
       "      <td>0</td>\n",
       "      <td>0</td>\n",
       "      <td>0</td>\n",
       "      <td>57</td>\n",
       "      <td>0</td>\n",
       "      <td>0</td>\n",
       "      <td>1</td>\n",
       "      <td>0</td>\n",
       "      <td>0</td>\n",
       "      <td>0</td>\n",
       "      <td>0</td>\n",
       "    </tr>\n",
       "    <tr>\n",
       "      <th>189479</th>\n",
       "      <td>0</td>\n",
       "      <td>0</td>\n",
       "      <td>0</td>\n",
       "      <td>0</td>\n",
       "      <td>1</td>\n",
       "      <td>55</td>\n",
       "      <td>1</td>\n",
       "      <td>2</td>\n",
       "      <td>0</td>\n",
       "      <td>0</td>\n",
       "      <td>35</td>\n",
       "      <td>0</td>\n",
       "      <td>0</td>\n",
       "      <td>1</td>\n",
       "      <td>0</td>\n",
       "      <td>0</td>\n",
       "      <td>0</td>\n",
       "      <td>0</td>\n",
       "    </tr>\n",
       "    <tr>\n",
       "      <th>278142</th>\n",
       "      <td>0</td>\n",
       "      <td>0</td>\n",
       "      <td>0</td>\n",
       "      <td>0</td>\n",
       "      <td>1</td>\n",
       "      <td>56</td>\n",
       "      <td>1</td>\n",
       "      <td>2</td>\n",
       "      <td>0</td>\n",
       "      <td>0</td>\n",
       "      <td>43</td>\n",
       "      <td>0</td>\n",
       "      <td>0</td>\n",
       "      <td>1</td>\n",
       "      <td>0</td>\n",
       "      <td>0</td>\n",
       "      <td>0</td>\n",
       "      <td>0</td>\n",
       "    </tr>\n",
       "    <tr>\n",
       "      <th>309571</th>\n",
       "      <td>0</td>\n",
       "      <td>0</td>\n",
       "      <td>0</td>\n",
       "      <td>0</td>\n",
       "      <td>1</td>\n",
       "      <td>44</td>\n",
       "      <td>1</td>\n",
       "      <td>2</td>\n",
       "      <td>0</td>\n",
       "      <td>0</td>\n",
       "      <td>46</td>\n",
       "      <td>0</td>\n",
       "      <td>0</td>\n",
       "      <td>1</td>\n",
       "      <td>0</td>\n",
       "      <td>0</td>\n",
       "      <td>0</td>\n",
       "      <td>0</td>\n",
       "    </tr>\n",
       "    <tr>\n",
       "      <th>301026</th>\n",
       "      <td>0</td>\n",
       "      <td>0</td>\n",
       "      <td>0</td>\n",
       "      <td>0</td>\n",
       "      <td>1</td>\n",
       "      <td>37</td>\n",
       "      <td>1</td>\n",
       "      <td>2</td>\n",
       "      <td>0</td>\n",
       "      <td>0</td>\n",
       "      <td>56</td>\n",
       "      <td>0</td>\n",
       "      <td>0</td>\n",
       "      <td>1</td>\n",
       "      <td>0</td>\n",
       "      <td>0</td>\n",
       "      <td>0</td>\n",
       "      <td>0</td>\n",
       "    </tr>\n",
       "    <tr>\n",
       "      <th>348424</th>\n",
       "      <td>0</td>\n",
       "      <td>0</td>\n",
       "      <td>0</td>\n",
       "      <td>0</td>\n",
       "      <td>1</td>\n",
       "      <td>52</td>\n",
       "      <td>0</td>\n",
       "      <td>0</td>\n",
       "      <td>0</td>\n",
       "      <td>0</td>\n",
       "      <td>50</td>\n",
       "      <td>0</td>\n",
       "      <td>0</td>\n",
       "      <td>1</td>\n",
       "      <td>0</td>\n",
       "      <td>0</td>\n",
       "      <td>0</td>\n",
       "      <td>0</td>\n",
       "    </tr>\n",
       "    <tr>\n",
       "      <th>354548</th>\n",
       "      <td>0</td>\n",
       "      <td>0</td>\n",
       "      <td>0</td>\n",
       "      <td>0</td>\n",
       "      <td>1</td>\n",
       "      <td>61</td>\n",
       "      <td>1</td>\n",
       "      <td>4</td>\n",
       "      <td>0</td>\n",
       "      <td>0</td>\n",
       "      <td>37</td>\n",
       "      <td>0</td>\n",
       "      <td>0</td>\n",
       "      <td>1</td>\n",
       "      <td>0</td>\n",
       "      <td>0</td>\n",
       "      <td>0</td>\n",
       "      <td>0</td>\n",
       "    </tr>\n",
       "    <tr>\n",
       "      <th>384772</th>\n",
       "      <td>0</td>\n",
       "      <td>1</td>\n",
       "      <td>0</td>\n",
       "      <td>0</td>\n",
       "      <td>0</td>\n",
       "      <td>36</td>\n",
       "      <td>1</td>\n",
       "      <td>2</td>\n",
       "      <td>0</td>\n",
       "      <td>0</td>\n",
       "      <td>35</td>\n",
       "      <td>0</td>\n",
       "      <td>0</td>\n",
       "      <td>1</td>\n",
       "      <td>0</td>\n",
       "      <td>0</td>\n",
       "      <td>0</td>\n",
       "      <td>0</td>\n",
       "    </tr>\n",
       "    <tr>\n",
       "      <th>749</th>\n",
       "      <td>0</td>\n",
       "      <td>1</td>\n",
       "      <td>0</td>\n",
       "      <td>0</td>\n",
       "      <td>0</td>\n",
       "      <td>49</td>\n",
       "      <td>1</td>\n",
       "      <td>6</td>\n",
       "      <td>0</td>\n",
       "      <td>0</td>\n",
       "      <td>28</td>\n",
       "      <td>1</td>\n",
       "      <td>0</td>\n",
       "      <td>0</td>\n",
       "      <td>0</td>\n",
       "      <td>0</td>\n",
       "      <td>0</td>\n",
       "      <td>0</td>\n",
       "    </tr>\n",
       "    <tr>\n",
       "      <th>89927</th>\n",
       "      <td>0</td>\n",
       "      <td>0</td>\n",
       "      <td>0</td>\n",
       "      <td>0</td>\n",
       "      <td>1</td>\n",
       "      <td>37</td>\n",
       "      <td>1</td>\n",
       "      <td>6</td>\n",
       "      <td>0</td>\n",
       "      <td>0</td>\n",
       "      <td>20</td>\n",
       "      <td>0</td>\n",
       "      <td>0</td>\n",
       "      <td>1</td>\n",
       "      <td>0</td>\n",
       "      <td>0</td>\n",
       "      <td>0</td>\n",
       "      <td>0</td>\n",
       "    </tr>\n",
       "    <tr>\n",
       "      <th>163863</th>\n",
       "      <td>0</td>\n",
       "      <td>0</td>\n",
       "      <td>0</td>\n",
       "      <td>0</td>\n",
       "      <td>1</td>\n",
       "      <td>45</td>\n",
       "      <td>1</td>\n",
       "      <td>2</td>\n",
       "      <td>0</td>\n",
       "      <td>0</td>\n",
       "      <td>17</td>\n",
       "      <td>0</td>\n",
       "      <td>0</td>\n",
       "      <td>1</td>\n",
       "      <td>0</td>\n",
       "      <td>0</td>\n",
       "      <td>0</td>\n",
       "      <td>0</td>\n",
       "    </tr>\n",
       "    <tr>\n",
       "      <th>377299</th>\n",
       "      <td>0</td>\n",
       "      <td>1</td>\n",
       "      <td>0</td>\n",
       "      <td>0</td>\n",
       "      <td>0</td>\n",
       "      <td>51</td>\n",
       "      <td>1</td>\n",
       "      <td>2</td>\n",
       "      <td>0</td>\n",
       "      <td>0</td>\n",
       "      <td>31</td>\n",
       "      <td>0</td>\n",
       "      <td>0</td>\n",
       "      <td>1</td>\n",
       "      <td>0</td>\n",
       "      <td>0</td>\n",
       "      <td>0</td>\n",
       "      <td>0</td>\n",
       "    </tr>\n",
       "    <tr>\n",
       "      <th>199657</th>\n",
       "      <td>0</td>\n",
       "      <td>1</td>\n",
       "      <td>0</td>\n",
       "      <td>0</td>\n",
       "      <td>0</td>\n",
       "      <td>34</td>\n",
       "      <td>1</td>\n",
       "      <td>2</td>\n",
       "      <td>0</td>\n",
       "      <td>0</td>\n",
       "      <td>56</td>\n",
       "      <td>0</td>\n",
       "      <td>0</td>\n",
       "      <td>1</td>\n",
       "      <td>0</td>\n",
       "      <td>0</td>\n",
       "      <td>0</td>\n",
       "      <td>0</td>\n",
       "    </tr>\n",
       "    <tr>\n",
       "      <th>242002</th>\n",
       "      <td>0</td>\n",
       "      <td>0</td>\n",
       "      <td>0</td>\n",
       "      <td>0</td>\n",
       "      <td>1</td>\n",
       "      <td>22</td>\n",
       "      <td>0</td>\n",
       "      <td>2</td>\n",
       "      <td>0</td>\n",
       "      <td>0</td>\n",
       "      <td>37</td>\n",
       "      <td>0</td>\n",
       "      <td>0</td>\n",
       "      <td>0</td>\n",
       "      <td>1</td>\n",
       "      <td>0</td>\n",
       "      <td>0</td>\n",
       "      <td>0</td>\n",
       "    </tr>\n",
       "    <tr>\n",
       "      <th>10058</th>\n",
       "      <td>0</td>\n",
       "      <td>0</td>\n",
       "      <td>0</td>\n",
       "      <td>0</td>\n",
       "      <td>1</td>\n",
       "      <td>33</td>\n",
       "      <td>0</td>\n",
       "      <td>0</td>\n",
       "      <td>0</td>\n",
       "      <td>0</td>\n",
       "      <td>51</td>\n",
       "      <td>0</td>\n",
       "      <td>0</td>\n",
       "      <td>1</td>\n",
       "      <td>0</td>\n",
       "      <td>0</td>\n",
       "      <td>0</td>\n",
       "      <td>0</td>\n",
       "    </tr>\n",
       "  </tbody>\n",
       "</table>\n",
       "</div>"
      ],
      "text/plain": [
       "        Asian  Black  Hispanic  Other  White  driver_age  driver_gender  \\\n",
       "356440      0      0         0      0      1          44              1   \n",
       "290208      0      0         0      0      1          38              1   \n",
       "6515        0      1         0      0      0          27              1   \n",
       "171793      0      0         0      0      1          41              1   \n",
       "294958      0      0         0      0      1          58              1   \n",
       "8195        0      0         1      0      0          30              1   \n",
       "189479      0      0         0      0      1          55              1   \n",
       "278142      0      0         0      0      1          56              1   \n",
       "309571      0      0         0      0      1          44              1   \n",
       "301026      0      0         0      0      1          37              1   \n",
       "348424      0      0         0      0      1          52              0   \n",
       "354548      0      0         0      0      1          61              1   \n",
       "384772      0      1         0      0      0          36              1   \n",
       "749         0      1         0      0      0          49              1   \n",
       "89927       0      0         0      0      1          37              1   \n",
       "163863      0      0         0      0      1          45              1   \n",
       "377299      0      1         0      0      0          51              1   \n",
       "199657      0      1         0      0      0          34              1   \n",
       "242002      0      0         0      0      1          22              0   \n",
       "10058       0      0         0      0      1          33              0   \n",
       "\n",
       "        violation  contraband_found  drugs_related_stop  district  \\\n",
       "356440          2                 1                   1        19   \n",
       "290208          2                 0                   0        13   \n",
       "6515            0                 0                   0        20   \n",
       "171793          2                 0                   0        15   \n",
       "294958          2                 0                   0        42   \n",
       "8195            0                 0                   0        57   \n",
       "189479          2                 0                   0        35   \n",
       "278142          2                 0                   0        43   \n",
       "309571          2                 0                   0        46   \n",
       "301026          2                 0                   0        56   \n",
       "348424          0                 0                   0        50   \n",
       "354548          4                 0                   0        37   \n",
       "384772          2                 0                   0        35   \n",
       "749             6                 0                   0        28   \n",
       "89927           6                 0                   0        20   \n",
       "163863          2                 0                   0        17   \n",
       "377299          2                 0                   0        31   \n",
       "199657          2                 0                   0        56   \n",
       "242002          2                 0                   0        37   \n",
       "10058           0                 0                   0        51   \n",
       "\n",
       "        Erratic Suspicious Behaviour  Informant Tip  No Search Conducted  \\\n",
       "356440                             1              0                    0   \n",
       "290208                             0              0                    1   \n",
       "6515                               0              0                    1   \n",
       "171793                             0              0                    1   \n",
       "294958                             0              0                    1   \n",
       "8195                               0              0                    1   \n",
       "189479                             0              0                    1   \n",
       "278142                             0              0                    1   \n",
       "309571                             0              0                    1   \n",
       "301026                             0              0                    1   \n",
       "348424                             0              0                    1   \n",
       "354548                             0              0                    1   \n",
       "384772                             0              0                    1   \n",
       "749                                1              0                    0   \n",
       "89927                              0              0                    1   \n",
       "163863                             0              0                    1   \n",
       "377299                             0              0                    1   \n",
       "199657                             0              0                    1   \n",
       "242002                             0              0                    0   \n",
       "10058                              0              0                    1   \n",
       "\n",
       "        Observation Suspected Contraband  Other Official Info  \\\n",
       "356440                                 0                    0   \n",
       "290208                                 0                    0   \n",
       "6515                                   0                    0   \n",
       "171793                                 0                    0   \n",
       "294958                                 0                    0   \n",
       "8195                                   0                    0   \n",
       "189479                                 0                    0   \n",
       "278142                                 0                    0   \n",
       "309571                                 0                    0   \n",
       "301026                                 0                    0   \n",
       "348424                                 0                    0   \n",
       "354548                                 0                    0   \n",
       "384772                                 0                    0   \n",
       "749                                    0                    0   \n",
       "89927                                  0                    0   \n",
       "163863                                 0                    0   \n",
       "377299                                 0                    0   \n",
       "199657                                 0                    0   \n",
       "242002                                 1                    0   \n",
       "10058                                  0                    0   \n",
       "\n",
       "        Suspicious Movement  Witness Observation  \n",
       "356440                    0                    0  \n",
       "290208                    0                    0  \n",
       "6515                      0                    0  \n",
       "171793                    0                    0  \n",
       "294958                    0                    0  \n",
       "8195                      0                    0  \n",
       "189479                    0                    0  \n",
       "278142                    0                    0  \n",
       "309571                    0                    0  \n",
       "301026                    0                    0  \n",
       "348424                    0                    0  \n",
       "354548                    0                    0  \n",
       "384772                    0                    0  \n",
       "749                       0                    0  \n",
       "89927                     0                    0  \n",
       "163863                    0                    0  \n",
       "377299                    0                    0  \n",
       "199657                    0                    0  \n",
       "242002                    0                    0  \n",
       "10058                     0                    0  "
      ]
     },
     "execution_count": 11,
     "metadata": {},
     "output_type": "execute_result"
    }
   ],
   "source": [
    "X_train.head(20)"
   ]
  },
  {
   "cell_type": "code",
   "execution_count": 12,
   "metadata": {},
   "outputs": [
    {
     "name": "stdout",
     "output_type": "stream",
     "text": [
      "Number of Total Cases: 402087\n",
      "Number of Cases Resulting Arrest: 123814\n",
      "Number of Cases Closed Without Action: 278273\n",
      "Percentile of Arrests: 30.79%\n",
      "37021 83606\n"
     ]
    }
   ],
   "source": [
    "data_arrest = y_encoded[y_encoded == 0]\n",
    "data_no_act = y_encoded[y_encoded == 1]\n",
    "\n",
    "print(\"Number of Total Cases: \" + str(len(y_encoded))) \n",
    "print(\"Number of Cases Resulting Arrest: \" + str(len(data_arrest)))\n",
    "print(\"Number of Cases Closed Without Action: \" + str(len(data_no_act)))\n",
    "print(\"Percentile of Arrests: \" + str(\"{:.2f}\".format(100*(len(data_arrest))/len(y_encoded))) + \"%\")\n",
    "\n",
    "data_arrest_test = y_test[y_test == 0]\n",
    "data_noact_test = y_test[y_test == 1]\n",
    "print(len(data_arrest_test), len(data_noact_test))"
   ]
  },
  {
   "cell_type": "markdown",
   "metadata": {},
   "source": [
    "# First method : KNeighborsClassifier"
   ]
  },
  {
   "cell_type": "code",
   "execution_count": 13,
   "metadata": {},
   "outputs": [
    {
     "data": {
      "text/plain": [
       "KNeighborsClassifier(n_neighbors=1)"
      ]
     },
     "execution_count": 13,
     "metadata": {},
     "output_type": "execute_result"
    }
   ],
   "source": [
    "from sklearn.neighbors import KNeighborsClassifier\n",
    "from sklearn.metrics import plot_confusion_matrix\n",
    "import matplotlib.pyplot as plt\n",
    "\n",
    "\n",
    "# Create an instance of KNN with n_neighbors=1 (k=1)\n",
    "knn = KNeighborsClassifier(n_neighbors=1)\n",
    "# Train the model on the training set with the encoded labels\n",
    "knn.fit(X_train, y_train)"
   ]
  },
  {
   "cell_type": "code",
   "execution_count": 14,
   "metadata": {},
   "outputs": [
    {
     "data": {
      "text/plain": [
       "<Figure size 432x288 with 0 Axes>"
      ]
     },
     "metadata": {},
     "output_type": "display_data"
    },
    {
     "data": {
      "image/png": "[encoded data removed]",
      "text/plain": [
       "<Figure size 432x288 with 2 Axes>"
      ]
     },
     "metadata": {
      "needs_background": "light"
     },
     "output_type": "display_data"
    },
    {
     "data": {
      "text/plain": [
       "<Figure size 432x288 with 0 Axes>"
      ]
     },
     "metadata": {},
     "output_type": "display_data"
    },
    {
     "data": {
      "image/png": "[encoded data removed]",
      "text/plain": [
       "<Figure size 432x288 with 2 Axes>"
      ]
     },
     "metadata": {
      "needs_background": "light"
     },
     "output_type": "display_data"
    }
   ],
   "source": [
    "# Plot the confusion matrix for the training set\n",
    "plt.figure()\n",
    "plot_confusion_matrix(knn, X_train, y_train, display_labels=['Arrest','No Action'])\n",
    "plt.title('Training set confusion matrix of KNeighborsClassifier')\n",
    "plt.show()\n",
    "\n",
    "# Plot the confusion matrix for the test set\n",
    "plt.figure()\n",
    "plot_confusion_matrix(knn, X_test, y_test, display_labels=['Arrest','No Action'])\n",
    "plt.title('Test set confusion matrix of KNeighborsClassifier')\n",
    "plt.show()"
   ]
  },
  {
   "cell_type": "markdown",
   "metadata": {},
   "source": [
    "# Second Method : DecisionTreeClassifier"
   ]
  },
  {
   "cell_type": "code",
   "execution_count": null,
   "metadata": {},
   "outputs": [],
   "source": [
    "from sklearn.tree import DecisionTreeClassifier, plot_tree\n",
    "from sklearn.metrics import plot_confusion_matrix\n",
    "import matplotlib.pyplot as plt\n",
    "\n",
    "# Maximum depth of the tree\n",
    "md=6\n",
    "# The minimum number of samples required to split an internal node\n",
    "mss=18\n",
    "# Maximum number of allowed leaf nodes\n",
    "mln=10\n",
    "\n",
    "# Create an instance of the decision tree classifier with the predefined parameters\n",
    "dct = DecisionTreeClassifier(random_state=42, max_depth=md, min_samples_split=mss, max_leaf_nodes=mln, criterion='gini')\n",
    "\n",
    "# Train the model using the training set\n",
    "dct.fit(X_train, y_train)\n",
    "\n",
    "# Plot a graphical representation of the splits within the grown decision tree\n",
    "plt.figure(figsize=[15,15])\n",
    "plot_tree(dct, filled=True, feature_names=X_train.columns)\n",
    "plt.show()\n",
    "\n",
    "\n",
    "# Plot the confusion matrix for the training set\n",
    "plt.figure()\n",
    "plot_confusion_matrix(dct, X_train, y_train, display_labels=['Arrest', 'No Action'])\n",
    "plt.title('Training set confusion matrix of Decision Tree')\n",
    "plt.show()\n",
    "\n",
    "# Plot the confusion matrix for the test set\n",
    "plt.figure()\n",
    "plot_confusion_matrix(dct, X_test, y_test, display_labels=['Arrest', 'No Action'])\n",
    "plt.title('Test set confusion matrix of Decision Tree')\n",
    "plt.show()"
   ]
  },
  {
   "cell_type": "markdown",
   "metadata": {},
   "source": [
    "# Dummy Classifier (strategy: select not to arrest)"
   ]
  },
  {
   "cell_type": "code",
   "execution_count": 51,
   "metadata": {},
   "outputs": [
    {
     "name": "stdout",
     "output_type": "stream",
     "text": [
      "0.6930952440166795\n"
     ]
    },
    {
     "data": {
      "text/plain": [
       "<sklearn.metrics._plot.confusion_matrix.ConfusionMatrixDisplay at 0x7fea1c63c890>"
      ]
     },
     "execution_count": 51,
     "metadata": {},
     "output_type": "execute_result"
    },
    {
     "data": {
      "image/png": "[encoded data removed]",
      "text/plain": [
       "<Figure size 432x288 with 2 Axes>"
      ]
     },
     "metadata": {
      "needs_background": "light"
     },
     "output_type": "display_data"
    }
   ],
   "source": [
    "#dclf = DummyClassifier(strategy = s, random_state = 1, constant ='M') \n",
    "#Recall of DC:\t\t 0.0\n",
    "\n",
    "from sklearn.dummy import DummyClassifier\n",
    "from sklearn.metrics import plot_confusion_matrix\n",
    "clf_dummy = DummyClassifier(strategy = 'constant', constant=1).fit(X_train,y_train)\n",
    "print(clf_dummy.score(X_test,y_test))\n",
    "\n",
    "plot_confusion_matrix(clf_dummy, X_test, y_test, display_labels=['Arrest','No Action'])"
   ]
  },
  {
   "cell_type": "markdown",
   "metadata": {},
   "source": [
    "# Precision and Recall (Calculating tp,fp,fn,tn):"
   ]
  },
  {
   "cell_type": "code",
   "execution_count": 52,
   "metadata": {},
   "outputs": [],
   "source": [
    "# 4 entries in the matrix:\n",
    "#tp: true positive for each classifier\n",
    "#fp: false positive\n",
    "#fn: false negative\n",
    "#tn: true negative"
   ]
  },
  {
   "cell_type": "code",
   "execution_count": 53,
   "metadata": {},
   "outputs": [],
   "source": [
    "from sklearn.metrics import confusion_matrix\n",
    "#For the KNN\n",
    "[[tn_knn, fp_knn], [fn_knn, tp_knn]] = confusion_matrix(y_test, knn.predict(X_test))\n",
    "#For the Decision Tree\n",
    "[[tn_dct, fp_dct], [fn_dct, tp_dct]] = confusion_matrix(y_test, dct.predict(X_test))\n",
    "#For Dummy Classifier\n",
    "[[tn_dc, fp_dc], [fn_dc, tp_dc]] = confusion_matrix(y_test, clf_dummy.predict(X_test))"
   ]
  },
  {
   "cell_type": "code",
   "execution_count": 54,
   "metadata": {
    "scrolled": true
   },
   "outputs": [
    {
     "name": "stdout",
     "output_type": "stream",
     "text": [
      "Recall of KNN:\t\t 0.9265722555797431\n",
      "Precision of KNN:\t 0.9217762758653515\n",
      "Recall of DCT:\t\t 0.9750855201779777\n",
      "Precision of DCT:\t 0.9228531322873509\n",
      "Recall of DC:\t\t 1.0\n",
      "Precision of DC:\t 0.6930952440166795\n"
     ]
    }
   ],
   "source": [
    "def recall(tp,fn):\n",
    "    return tp / (tp + fn)\n",
    "\n",
    "def precision(tp,fp):\n",
    "    return tp / (tp + fp)\n",
    "\n",
    "recall_knn = recall(tp_knn,fn_knn)\n",
    "precision_knn = precision(tp_knn,fp_knn)\n",
    "\n",
    "recall_dct = recall(tp_dct,fn_dct)\n",
    "precision_dct = precision(tp_dct,fp_dct)\n",
    "\n",
    "recall_dc = recall(tp_dc,fn_dc)\n",
    "precision_dc = precision(tp_dc,fp_dc)\n",
    "\n",
    "print('Recall of KNN:\\t\\t',recall_knn)\n",
    "print('Precision of KNN:\\t',precision_knn)\n",
    "print('Recall of DCT:\\t\\t',recall_dct)\n",
    "print('Precision of DCT:\\t',precision_dct)\n",
    "print('Recall of DC:\\t\\t',recall_dc)\n",
    "print('Precision of DC:\\t',precision_dc)"
   ]
  },
  {
   "cell_type": "code",
   "execution_count": 55,
   "metadata": {},
   "outputs": [
    {
     "name": "stdout",
     "output_type": "stream",
     "text": [
      "0 37021 0 83606\n"
     ]
    }
   ],
   "source": [
    "print(tn_dc, fp_dc, fn_dc, tp_dc)"
   ]
  },
  {
   "cell_type": "markdown",
   "metadata": {},
   "source": [
    "Higher precision values suggest that a better classification took place regarding the relevancy of the selected data in all data available, while higher recall values point out a higher proportion of the data that should be selected is selected. Considering that DCT returns higher results in both context and DC returns worst (nan- Not A Number- is the natural result of the formula highlighting the unappropriateness of the method selected) It is possible to reach the conclusion that both of the given methods work far better than dummy while DCT triumphs over KNN."
   ]
  },
  {
   "cell_type": "markdown",
   "metadata": {},
   "source": [
    "# F1 scores"
   ]
  },
  {
   "cell_type": "code",
   "execution_count": 56,
   "metadata": {
    "pycharm": {
     "is_executing": true
    }
   },
   "outputs": [
    {
     "name": "stdout",
     "output_type": "stream",
     "text": [
      "F1 Score of KNeighborsClassifier:\t 0.9241680435677346\n",
      "F1 Score of DecisionTreeClassifier:\t 0.948250593216396\n",
      "F1 of Dummy Classifier:\t 0.8187315468117298\n"
     ]
    }
   ],
   "source": [
    "from sklearn.metrics import f1_score\n",
    "\n",
    "f1_knn = f1_score(y_test, knn.predict(X_test))\n",
    "f1_dct = f1_score(y_test, dct.predict(X_test))\n",
    "f1_dc = f1_score(y_test, clf_dummy.predict(X_test))\n",
    "\n",
    "print('F1 Score of KNeighborsClassifier:\\t',f1_knn)\n",
    "print('F1 Score of DecisionTreeClassifier:\\t',f1_dct)\n",
    "print('F1 of Dummy Classifier:\\t',f1_dc)"
   ]
  },
  {
   "cell_type": "markdown",
   "metadata": {
    "pycharm": {
     "is_executing": true
    }
   },
   "source": [
    "As f1 score is the natural combinational of how well a method does concerning recall and precision, the results are in accordance with the conclusions drawn for the recall and precision. "
   ]
  },
  {
   "cell_type": "markdown",
   "metadata": {},
   "source": [
    "# Precision Recall Curves"
   ]
  },
  {
   "cell_type": "code",
   "execution_count": 57,
   "metadata": {
    "pycharm": {
     "is_executing": true
    }
   },
   "outputs": [
    {
     "name": "stdout",
     "output_type": "stream",
     "text": [
      "[0. 1.] [0.00141636 0.05139994 0.18246687 0.23208887 0.54006969 0.64229317\n",
      " 0.70542491 0.76051882 0.78780984 0.96545877] [1.]\n"
     ]
    },
    {
     "data": {
      "image/png": "[encoded data removed]",
      "text/plain": [
       "<Figure size 720x720 with 1 Axes>"
      ]
     },
     "metadata": {
      "needs_background": "light"
     },
     "output_type": "display_data"
    }
   ],
   "source": [
    "from sklearn.metrics import precision_recall_curve\n",
    "\n",
    "precision_knn, recall_knn, thresholds_knn = precision_recall_curve(y_test, knn.predict_proba(X_test)[:, 1])\n",
    "precision_dct, recall_dct, thresholds_dct = precision_recall_curve(y_test, dct.predict_proba(X_test)[:, 1])\n",
    "precision_dc, recall_dc, thresholds_dc = precision_recall_curve(y_test, clf_dummy.predict_proba(X_test)[:, 1])\n",
    "\n",
    "print(thresholds_knn,thresholds_dct ,thresholds_dc)\n",
    "#Plot the curve\n",
    "plt.figure(figsize=[10,10])\n",
    "plt.plot(recall_knn, precision_knn, label='KNN')\n",
    "plt.plot(recall_dct, precision_dct, label='Decision Tree')\n",
    "plt.plot(recall_dc, precision_dc, label='Dummy Classifier')\n",
    "plt.xlabel('Recall')\n",
    "plt.ylabel('Precision')\n",
    "plt.title('Precision-Recall-Curves')\n",
    "plt.legend(loc='upper right')\n",
    "plt.show()"
   ]
  },
  {
   "cell_type": "markdown",
   "metadata": {},
   "source": [
    "# ROC CURVES"
   ]
  },
  {
   "cell_type": "code",
   "execution_count": 59,
   "metadata": {
    "pycharm": {
     "is_executing": true
    }
   },
   "outputs": [
    {
     "name": "stdout",
     "output_type": "stream",
     "text": [
      "('KNN Threshold:', array([2., 1., 0.]), ' Decision Tree Threshold:', array([1.96545877e+00, 9.65458766e-01, 7.87809843e-01, 7.60518823e-01,\n",
      "       7.05424910e-01, 6.42293169e-01, 5.40069686e-01, 2.32088870e-01,\n",
      "       1.82466871e-01, 5.13999380e-02, 1.41635764e-03]), ' Dummy Classifier Threshold:', array([2., 1.]))\n"
     ]
    },
    {
     "data": {
      "image/png": "[encoded data removed]",
      "text/plain": [
       "<Figure size 432x432 with 1 Axes>"
      ]
     },
     "metadata": {
      "needs_background": "light"
     },
     "output_type": "display_data"
    }
   ],
   "source": [
    "from sklearn.metrics import roc_curve, auc\n",
    "\n",
    "#Calculate the false positive and true positive rates for KNN, Decision Tree and Dummy Classifier\n",
    "\n",
    "fpr_knn, tpr_knn, thresholds_knn = roc_curve(y_test, knn.predict_proba(X_test)[:, 1])\n",
    "fpr_dct, tpr_dct, thresholds_dct = roc_curve(y_test, dct.predict_proba(X_test)[:, 1])\n",
    "fpr_dc, tpr_dc, thresholds_dc = roc_curve(y_test, clf_dummy.predict_proba(X_test)[:, 1])\n",
    "\n",
    "\n",
    "thresholds=(\"KNN Threshold:\",thresholds_knn,\" Decision Tree Threshold:\",thresholds_dct,\" Dummy Classifier Threshold:\",thresholds_dc)\n",
    "print(thresholds)\n",
    "#Calculate the area under the curve\n",
    "auc_knn = auc(fpr_knn, tpr_knn)\n",
    "auc_dct = auc(fpr_dct, tpr_dct)\n",
    "auc_dc = auc(fpr_dc, tpr_dc)\n",
    "\n",
    "#Plot the ROC curve\n",
    "plt.figure(figsize=[6,6])\n",
    "plt.plot([0, 1], [0, 1], 'k--')\n",
    "plt.plot(fpr_knn, tpr_knn, label='KNN(area = {:.3f})'.format(auc_knn))\n",
    "plt.plot(fpr_dct, tpr_dct, label='Decision Tree(area = {:.3f})'.format(auc_dct))\n",
    "plt.plot(fpr_dc, tpr_dc, label='Dummy Classifier(area = {:.3f})'.format(auc_dc))\n",
    "plt.xlabel('False positive rate')\n",
    "plt.ylabel('True positive rate')\n",
    "plt.title('ROC curve of Decision Tree')\n",
    "plt.legend(loc='lower right')\n",
    "plt.show()"
   ]
  },
  {
   "cell_type": "markdown",
   "metadata": {
    "pycharm": {
     "is_executing": true
    }
   },
   "source": [
    "The consequential tendency can also be illustrated through ROC curves, as the AUCs (Area Under Curve) are  direct results of the selected method's excellence in the f1. DTC algorithm yields the most upper left curve with the biggest AUC, suggesting its success. "
   ]
  },
  {
   "cell_type": "markdown",
   "metadata": {},
   "source": [
    "**************************** End of Task 2 ***************************************************"
   ]
  },
  {
   "cell_type": "markdown",
   "metadata": {},
   "source": [
    "Task 3 :Which of the features in the dataset are suitable to form groups that can be checked for fairness. Use the results of one of your classifiers to calculate independence, separation and sufficiency for those groups. What do you notice?"
   ]
  },
  {
   "cell_type": "markdown",
   "metadata": {},
   "source": [
    "# Define independence, separation and sufficiency functions:"
   ]
  },
  {
   "cell_type": "code",
   "execution_count": 24,
   "metadata": {
    "pycharm": {
     "is_executing": true
    }
   },
   "outputs": [],
   "source": [
    "def independence(tn, fp, fn, tp):\n",
    "    \n",
    "    independence = (tp + fp) / (tn + fp + fn + tp)\n",
    "    \n",
    "    return independence\n",
    "\n",
    "\n",
    "\n",
    "def separation(tn, fp, fn, tp):\n",
    "    \n",
    "    Y_1 = tp / (tp + fp)\n",
    "    Y_0 = tn / (tn + fn)\n",
    "    \n",
    "        \n",
    "    return Y_1, Y_0\n",
    "\n",
    "\n",
    "def sufficiency(tn, fp, fn, tp):\n",
    "    \n",
    "    R_1 = tp / (tp + fn)\n",
    "    R_0= fp / (fp + tn)\n",
    "    \n",
    "    return R_1, R_0"
   ]
  },
  {
   "cell_type": "markdown",
   "metadata": {},
   "source": [
    "First, form a group according to gender Decision Tree has the best performance compare to KNN and Dummy Classifier:"
   ]
  },
  {
   "cell_type": "markdown",
   "metadata": {},
   "source": [
    "# 1-)Gender Part"
   ]
  },
  {
   "cell_type": "code",
   "execution_count": 25,
   "metadata": {
    "pycharm": {
     "is_executing": true
    }
   },
   "outputs": [
    {
     "name": "stdout",
     "output_type": "stream",
     "text": [
      "0         M\n",
      "1         F\n",
      "2         F\n",
      "3         M\n",
      "4         M\n",
      "         ..\n",
      "402082    M\n",
      "402083    F\n",
      "402084    F\n",
      "402085    F\n",
      "402086    M\n",
      "Name: driver_gender, Length: 402087, dtype: object\n",
      "['M' 'F']\n",
      "0         1\n",
      "1         0\n",
      "2         0\n",
      "3         1\n",
      "4         1\n",
      "         ..\n",
      "402082    1\n",
      "402083    0\n",
      "402084    0\n",
      "402085    0\n",
      "402086    1\n",
      "Name: driver_gender, Length: 402087, dtype: int64\n",
      "['Arrest' 'No Action']\n",
      "0         Arrest\n",
      "1         Arrest\n",
      "2         Arrest\n",
      "3         Arrest\n",
      "4         Arrest\n",
      "           ...  \n",
      "402082    Arrest\n",
      "402083    Arrest\n",
      "402084    Arrest\n",
      "402085    Arrest\n",
      "402086    Arrest\n",
      "Name: stop_outcome, Length: 402087, dtype: object\n",
      "[0 0 0 ... 0 0 0]\n"
     ]
    }
   ],
   "source": [
    "print(data_raw[\"driver_gender\"])\n",
    "print(data_raw[\"driver_gender\"].unique())\n",
    "print(X_encoded[\"driver_gender\"])\n",
    "print(data_raw[\"stop_outcome\"].unique())\n",
    "print(data_raw[\"stop_outcome\"])\n",
    "print(y_encoded)\n",
    "\n",
    "#group 0 :female\n",
    "#group 1 :male"
   ]
  },
  {
   "cell_type": "code",
   "execution_count": 26,
   "metadata": {
    "pycharm": {
     "is_executing": true
    }
   },
   "outputs": [],
   "source": [
    "from sklearn.metrics import confusion_matrix\n",
    "\n",
    "group_female = X_test[\"driver_gender\"]== 0\n",
    "group_male = X_test[\"driver_gender\"]== 1\n",
    "\n",
    "data_female=data_raw[data_raw[\"driver_gender\"]==\"F\"]\n",
    "data_male=data_raw[data_raw[\"driver_gender\"]==\"M\"]\n"
   ]
  },
  {
   "cell_type": "markdown",
   "metadata": {},
   "source": [
    "Distribution of gender in the data"
   ]
  },
  {
   "cell_type": "code",
   "execution_count": 27,
   "metadata": {
    "pycharm": {
     "is_executing": true
    }
   },
   "outputs": [
    {
     "data": {
      "image/png": "[encoded data removed]",
      "text/plain": [
       "<Figure size 720x360 with 1 Axes>"
      ]
     },
     "metadata": {
      "needs_background": "light"
     },
     "output_type": "display_data"
    }
   ],
   "source": [
    "plt.figure(figsize=(10,5))\n",
    "plt.hist(data_raw['driver_gender'], label='Gender')\n",
    "plt.legend()\n",
    "plt.ylabel('Frequency')\n",
    "plt.xlabel('gender')\n",
    "plt.title(\"Distribution of gender in the data\")\n",
    "plt.show()"
   ]
  },
  {
   "cell_type": "code",
   "execution_count": 28,
   "metadata": {
    "pycharm": {
     "is_executing": true
    }
   },
   "outputs": [
    {
     "name": "stderr",
     "output_type": "stream",
     "text": [
      "/Users/umutekingezer/opt/anaconda3/lib/python3.7/site-packages/numpy/core/_asarray.py:83: VisibleDeprecationWarning: Creating an ndarray from ragged nested sequences (which is a list-or-tuple of lists-or-tuples-or ndarrays with different lengths or shapes) is deprecated. If you meant to do this, you must specify 'dtype=object' when creating the ndarray\n",
      "  return array(a, dtype, copy=False, order=order)\n"
     ]
    },
    {
     "data": {
      "image/png": "[encoded data removed]",
      "text/plain": [
       "<Figure size 720x360 with 1 Axes>"
      ]
     },
     "metadata": {
      "needs_background": "light"
     },
     "output_type": "display_data"
    }
   ],
   "source": [
    "#Plot the distribution\n",
    "plt.figure(figsize=(10,5))\n",
    "\n",
    "\n",
    "plt.hist([data_raw['stop_outcome'], data_female['stop_outcome'], data_male['stop_outcome']], density=True, \n",
    "           label=['Overall', 'Female', 'Male'])\n",
    "\n",
    "plt.xlabel('Stop Outcomes')\n",
    "plt.title('Distribution of Stop Outcomes Density (in range 0-10) among gender')\n",
    "plt.legend(loc='best')\n",
    "plt.show()"
   ]
  },
  {
   "cell_type": "code",
   "execution_count": 29,
   "metadata": {
    "pycharm": {
     "is_executing": true
    }
   },
   "outputs": [],
   "source": [
    "\n",
    "from sklearn.metrics import confusion_matrix\n",
    "\n",
    "#y_pred for Decision Tree Classifier\n",
    "y_pred=dct.predict(X_test)\n",
    "\n",
    "#take confusion matrix of both groups\n",
    "\n",
    "cm_female = confusion_matrix(y_test[group_female], y_pred[group_female])\n",
    "cm_male = confusion_matrix(y_test[group_male], y_pred[group_male])\n",
    "\n",
    "tn_female, fp_female, fn_female, tp_female = cm_female.ravel()\n",
    "tn_male, fp_male, fn_male, tp_male = cm_male.ravel()\n"
   ]
  },
  {
   "cell_type": "code",
   "execution_count": 30,
   "metadata": {
    "pycharm": {
     "is_executing": true
    }
   },
   "outputs": [
    {
     "data": {
      "text/plain": [
       "<Figure size 432x288 with 0 Axes>"
      ]
     },
     "metadata": {},
     "output_type": "display_data"
    },
    {
     "data": {
      "image/png": "[encoded data removed]",
      "text/plain": [
       "<Figure size 432x288 with 2 Axes>"
      ]
     },
     "metadata": {
      "needs_background": "light"
     },
     "output_type": "display_data"
    },
    {
     "data": {
      "text/plain": [
       "<Figure size 432x288 with 0 Axes>"
      ]
     },
     "metadata": {},
     "output_type": "display_data"
    },
    {
     "data": {
      "image/png": "[encoded data removed]",
      "text/plain": [
       "<Figure size 432x288 with 2 Axes>"
      ]
     },
     "metadata": {
      "needs_background": "light"
     },
     "output_type": "display_data"
    }
   ],
   "source": [
    "# YOUR CODE HERE\n",
    "from sklearn.metrics import ConfusionMatrixDisplay\n",
    "\n",
    "plt.figure()\n",
    "disp = ConfusionMatrixDisplay(confusion_matrix=cm_female, display_labels=['Arrest', 'No Action'])\n",
    "disp.plot()\n",
    "plt.xticks(rotation=45)\n",
    "plt.grid(False)\n",
    "plt.title(\"Confusion matrix for classifying Female People\")\n",
    "plt.show()\n",
    "\n",
    "plt.figure()\n",
    "disp = ConfusionMatrixDisplay(confusion_matrix=cm_male, display_labels=['Arrest', 'No Action'])\n",
    "disp.plot()\n",
    "plt.xticks(rotation=45)\n",
    "plt.grid(False)\n",
    "plt.title(\"Confusion matrix for classifying Male People\")\n",
    "plt.show()"
   ]
  },
  {
   "cell_type": "markdown",
   "metadata": {},
   "source": [
    "# Calculate Independence,Separation and Sufficiency Functions for Gender:"
   ]
  },
  {
   "cell_type": "code",
   "execution_count": 31,
   "metadata": {
    "pycharm": {
     "is_executing": true
    }
   },
   "outputs": [
    {
     "data": {
      "text/plain": [
       "(0.7508707607699359, 0.8819455894476504)"
      ]
     },
     "execution_count": 31,
     "metadata": {},
     "output_type": "execute_result"
    }
   ],
   "source": [
    "sufficiency(tn_female, fp_female, fn_female, tp_female)\n",
    "independence(tn_female, fp_female, fn_female, tp_female)\n",
    "separation(tn_female, fp_female, fn_female, tp_female)\n"
   ]
  },
  {
   "cell_type": "markdown",
   "metadata": {},
   "source": [
    "# Independence Gender"
   ]
  },
  {
   "cell_type": "code",
   "execution_count": 32,
   "metadata": {
    "pycharm": {
     "is_executing": true
    }
   },
   "outputs": [
    {
     "name": "stdout",
     "output_type": "stream",
     "text": [
      "Independence Female:\t 0.4735243055555556\n",
      "Independence Male:\t 0.7596487851375255\n"
     ]
    }
   ],
   "source": [
    "independence_female=independence(tn_female, fp_female, fn_female, tp_female)\n",
    "independence_male=independence(tn_male, fp_male, fn_male, tp_male)\n",
    "\n",
    "\n",
    "print('Independence Female:\\t',independence_female)\n",
    "print('Independence Male:\\t',independence_male)\n"
   ]
  },
  {
   "cell_type": "markdown",
   "metadata": {},
   "source": [
    "# Separation Gender"
   ]
  },
  {
   "cell_type": "code",
   "execution_count": 33,
   "metadata": {
    "pycharm": {
     "is_executing": true
    }
   },
   "outputs": [
    {
     "name": "stdout",
     "output_type": "stream",
     "text": [
      "Separation Y1 Female:\t 0.7508707607699359\n",
      "Separation Y0 Female:\t 0.8819455894476504\n",
      "**************************************************\n",
      "Separation Y1 Male:\t 0.9341722669304924\n",
      "Separation Y0 Male:\t 0.9478721781574131\n"
     ]
    }
   ],
   "source": [
    "(separation_female_y1,separation_female_y0) = separation(tn_female, fp_female, fn_female, tp_female)\n",
    "(separation_male_y1,separation_male_y0) = separation(tn_male, fp_male, fn_male, tp_male)\n",
    "\n",
    "print('Separation Y1 Female:\\t',separation_female_y1)\n",
    "print('Separation Y0 Female:\\t',separation_female_y0)\n",
    "print(\"*\"*50)\n",
    "print('Separation Y1 Male:\\t',separation_male_y1)\n",
    "print('Separation Y0 Male:\\t',separation_male_y0)"
   ]
  },
  {
   "cell_type": "markdown",
   "metadata": {},
   "source": [
    "# Sufficiency Gender"
   ]
  },
  {
   "cell_type": "code",
   "execution_count": 34,
   "metadata": {
    "pycharm": {
     "is_executing": true
    }
   },
   "outputs": [
    {
     "name": "stdout",
     "output_type": "stream",
     "text": [
      "Sufficiency R1 Female:\t 0.8512053200332502\n",
      "Sufficiency R0 Female:\t 0.20259391771019677\n",
      "**************************************************\n",
      "Sufficiency R1 Male:\t 0.9826509632713151\n",
      "Sufficiency R0 Male:\t 0.17998878369016594\n"
     ]
    }
   ],
   "source": [
    "(sufficiency_female_r1,sufficiency_female_r0) = sufficiency(tn_female, fp_female, fn_female, tp_female)\n",
    "(sufficiency_male_r1,sufficiency_male_r0) = sufficiency(tn_male, fp_male, fn_male, tp_male)\n",
    "\n",
    "print('Sufficiency R1 Female:\\t',sufficiency_female_r1)\n",
    "print('Sufficiency R0 Female:\\t',sufficiency_female_r0)\n",
    "print(\"*\"*50)\n",
    "print('Sufficiency R1 Male:\\t',sufficiency_male_r1)\n",
    "print('Sufficiency R0 Male:\\t',sufficiency_male_r0)\n"
   ]
  },
  {
   "cell_type": "code",
   "execution_count": 35,
   "metadata": {
    "pycharm": {
     "is_executing": true
    }
   },
   "outputs": [],
   "source": [
    "# TODO : Interpret the Independence,Separation and Sufficiency result and find sensitive group and report !!!"
   ]
  },
  {
   "cell_type": "markdown",
   "metadata": {},
   "source": [
    "# 2-) Race Comparision"
   ]
  },
  {
   "cell_type": "code",
   "execution_count": 36,
   "metadata": {
    "pycharm": {
     "is_executing": true
    }
   },
   "outputs": [
    {
     "name": "stdout",
     "output_type": "stream",
     "text": [
      "0        White\n",
      "1        White\n",
      "2        Black\n",
      "3        Black\n",
      "4     Hispanic\n",
      "5        Black\n",
      "6        Black\n",
      "7        White\n",
      "8        Black\n",
      "9        Black\n",
      "10       Black\n",
      "11       Black\n",
      "12    Hispanic\n",
      "13       Black\n",
      "14    Hispanic\n",
      "15    Hispanic\n",
      "16       White\n",
      "17       White\n",
      "18       Black\n",
      "19       White\n",
      "20       White\n",
      "21    Hispanic\n",
      "22       Black\n",
      "23       Black\n",
      "24       White\n",
      "25       Black\n",
      "26       White\n",
      "27       White\n",
      "28    Hispanic\n",
      "29       White\n",
      "30       White\n",
      "31       White\n",
      "32    Hispanic\n",
      "33       White\n",
      "34       Black\n",
      "35       White\n",
      "36       Black\n",
      "37       White\n",
      "38       White\n",
      "39       White\n",
      "Name: driver_race, dtype: object\n",
      "['White' 'Black' 'Hispanic' 'Other' 'Asian']\n"
     ]
    }
   ],
   "source": [
    "print(data_raw[\"driver_race\"].head(40))\n",
    "print(data_raw[\"driver_race\"].unique())\n",
    "#print(X_encoded[\"driver_race\"])\n",
    "#print(data_raw[\"stop_outcome\"].unique())\n",
    "#print(data_raw[\"stop_outcome\"])\n",
    "#print(y_encoded)\n",
    "\n"
   ]
  },
  {
   "cell_type": "code",
   "execution_count": 37,
   "metadata": {
    "pycharm": {
     "is_executing": true
    }
   },
   "outputs": [
    {
     "data": {
      "image/png": "[encoded data removed]",
      "text/plain": [
       "<Figure size 720x360 with 1 Axes>"
      ]
     },
     "metadata": {
      "needs_background": "light"
     },
     "output_type": "display_data"
    }
   ],
   "source": [
    "plt.figure(figsize=(10,5))\n",
    "plt.hist(data_raw['driver_race'], label='Frequency')\n",
    "plt.legend()\n",
    "plt.ylabel('Frequency')\n",
    "plt.xlabel('Ethnicity')\n",
    "plt.xticks(rotation=45)\n",
    "plt.title(\"Distribution of ethnicity in the data\")\n",
    "plt.show()"
   ]
  },
  {
   "cell_type": "code",
   "execution_count": 38,
   "metadata": {
    "pycharm": {
     "is_executing": true
    }
   },
   "outputs": [
    {
     "data": {
      "text/html": [
       "<div>\n",
       "<style scoped>\n",
       "    .dataframe tbody tr th:only-of-type {\n",
       "        vertical-align: middle;\n",
       "    }\n",
       "\n",
       "    .dataframe tbody tr th {\n",
       "        vertical-align: top;\n",
       "    }\n",
       "\n",
       "    .dataframe thead th {\n",
       "        text-align: right;\n",
       "    }\n",
       "</style>\n",
       "<table border=\"1\" class=\"dataframe\">\n",
       "  <thead>\n",
       "    <tr style=\"text-align: right;\">\n",
       "      <th></th>\n",
       "      <th>Asian</th>\n",
       "      <th>Black</th>\n",
       "      <th>Hispanic</th>\n",
       "      <th>Other</th>\n",
       "      <th>White</th>\n",
       "      <th>driver_age</th>\n",
       "      <th>driver_gender</th>\n",
       "      <th>violation</th>\n",
       "      <th>contraband_found</th>\n",
       "      <th>drugs_related_stop</th>\n",
       "      <th>district</th>\n",
       "      <th>Erratic Suspicious Behaviour</th>\n",
       "      <th>Informant Tip</th>\n",
       "      <th>No Search Conducted</th>\n",
       "      <th>Observation Suspected Contraband</th>\n",
       "      <th>Other Official Info</th>\n",
       "      <th>Suspicious Movement</th>\n",
       "      <th>Witness Observation</th>\n",
       "    </tr>\n",
       "  </thead>\n",
       "  <tbody>\n",
       "    <tr>\n",
       "      <th>354085</th>\n",
       "      <td>0</td>\n",
       "      <td>1</td>\n",
       "      <td>0</td>\n",
       "      <td>0</td>\n",
       "      <td>0</td>\n",
       "      <td>65</td>\n",
       "      <td>1</td>\n",
       "      <td>2</td>\n",
       "      <td>0</td>\n",
       "      <td>0</td>\n",
       "      <td>43</td>\n",
       "      <td>0</td>\n",
       "      <td>0</td>\n",
       "      <td>1</td>\n",
       "      <td>0</td>\n",
       "      <td>0</td>\n",
       "      <td>0</td>\n",
       "      <td>0</td>\n",
       "    </tr>\n",
       "    <tr>\n",
       "      <th>118627</th>\n",
       "      <td>0</td>\n",
       "      <td>0</td>\n",
       "      <td>0</td>\n",
       "      <td>0</td>\n",
       "      <td>1</td>\n",
       "      <td>46</td>\n",
       "      <td>1</td>\n",
       "      <td>2</td>\n",
       "      <td>0</td>\n",
       "      <td>0</td>\n",
       "      <td>14</td>\n",
       "      <td>0</td>\n",
       "      <td>0</td>\n",
       "      <td>1</td>\n",
       "      <td>0</td>\n",
       "      <td>0</td>\n",
       "      <td>0</td>\n",
       "      <td>0</td>\n",
       "    </tr>\n",
       "    <tr>\n",
       "      <th>193691</th>\n",
       "      <td>0</td>\n",
       "      <td>0</td>\n",
       "      <td>0</td>\n",
       "      <td>0</td>\n",
       "      <td>1</td>\n",
       "      <td>41</td>\n",
       "      <td>1</td>\n",
       "      <td>2</td>\n",
       "      <td>0</td>\n",
       "      <td>0</td>\n",
       "      <td>23</td>\n",
       "      <td>0</td>\n",
       "      <td>0</td>\n",
       "      <td>1</td>\n",
       "      <td>0</td>\n",
       "      <td>0</td>\n",
       "      <td>0</td>\n",
       "      <td>0</td>\n",
       "    </tr>\n",
       "    <tr>\n",
       "      <th>355816</th>\n",
       "      <td>0</td>\n",
       "      <td>0</td>\n",
       "      <td>0</td>\n",
       "      <td>0</td>\n",
       "      <td>1</td>\n",
       "      <td>51</td>\n",
       "      <td>1</td>\n",
       "      <td>2</td>\n",
       "      <td>0</td>\n",
       "      <td>0</td>\n",
       "      <td>42</td>\n",
       "      <td>0</td>\n",
       "      <td>0</td>\n",
       "      <td>1</td>\n",
       "      <td>0</td>\n",
       "      <td>0</td>\n",
       "      <td>0</td>\n",
       "      <td>0</td>\n",
       "    </tr>\n",
       "    <tr>\n",
       "      <th>391386</th>\n",
       "      <td>0</td>\n",
       "      <td>0</td>\n",
       "      <td>0</td>\n",
       "      <td>0</td>\n",
       "      <td>1</td>\n",
       "      <td>53</td>\n",
       "      <td>1</td>\n",
       "      <td>5</td>\n",
       "      <td>0</td>\n",
       "      <td>0</td>\n",
       "      <td>16</td>\n",
       "      <td>1</td>\n",
       "      <td>0</td>\n",
       "      <td>0</td>\n",
       "      <td>0</td>\n",
       "      <td>0</td>\n",
       "      <td>0</td>\n",
       "      <td>0</td>\n",
       "    </tr>\n",
       "    <tr>\n",
       "      <th>...</th>\n",
       "      <td>...</td>\n",
       "      <td>...</td>\n",
       "      <td>...</td>\n",
       "      <td>...</td>\n",
       "      <td>...</td>\n",
       "      <td>...</td>\n",
       "      <td>...</td>\n",
       "      <td>...</td>\n",
       "      <td>...</td>\n",
       "      <td>...</td>\n",
       "      <td>...</td>\n",
       "      <td>...</td>\n",
       "      <td>...</td>\n",
       "      <td>...</td>\n",
       "      <td>...</td>\n",
       "      <td>...</td>\n",
       "      <td>...</td>\n",
       "      <td>...</td>\n",
       "    </tr>\n",
       "    <tr>\n",
       "      <th>99811</th>\n",
       "      <td>0</td>\n",
       "      <td>0</td>\n",
       "      <td>0</td>\n",
       "      <td>0</td>\n",
       "      <td>1</td>\n",
       "      <td>54</td>\n",
       "      <td>1</td>\n",
       "      <td>2</td>\n",
       "      <td>0</td>\n",
       "      <td>0</td>\n",
       "      <td>28</td>\n",
       "      <td>0</td>\n",
       "      <td>0</td>\n",
       "      <td>1</td>\n",
       "      <td>0</td>\n",
       "      <td>0</td>\n",
       "      <td>0</td>\n",
       "      <td>0</td>\n",
       "    </tr>\n",
       "    <tr>\n",
       "      <th>249870</th>\n",
       "      <td>0</td>\n",
       "      <td>0</td>\n",
       "      <td>0</td>\n",
       "      <td>0</td>\n",
       "      <td>1</td>\n",
       "      <td>46</td>\n",
       "      <td>1</td>\n",
       "      <td>2</td>\n",
       "      <td>0</td>\n",
       "      <td>0</td>\n",
       "      <td>26</td>\n",
       "      <td>0</td>\n",
       "      <td>0</td>\n",
       "      <td>1</td>\n",
       "      <td>0</td>\n",
       "      <td>0</td>\n",
       "      <td>0</td>\n",
       "      <td>0</td>\n",
       "    </tr>\n",
       "    <tr>\n",
       "      <th>45103</th>\n",
       "      <td>0</td>\n",
       "      <td>0</td>\n",
       "      <td>0</td>\n",
       "      <td>0</td>\n",
       "      <td>1</td>\n",
       "      <td>26</td>\n",
       "      <td>1</td>\n",
       "      <td>6</td>\n",
       "      <td>0</td>\n",
       "      <td>0</td>\n",
       "      <td>14</td>\n",
       "      <td>0</td>\n",
       "      <td>0</td>\n",
       "      <td>1</td>\n",
       "      <td>0</td>\n",
       "      <td>0</td>\n",
       "      <td>0</td>\n",
       "      <td>0</td>\n",
       "    </tr>\n",
       "    <tr>\n",
       "      <th>7644</th>\n",
       "      <td>0</td>\n",
       "      <td>1</td>\n",
       "      <td>0</td>\n",
       "      <td>0</td>\n",
       "      <td>0</td>\n",
       "      <td>40</td>\n",
       "      <td>1</td>\n",
       "      <td>0</td>\n",
       "      <td>0</td>\n",
       "      <td>0</td>\n",
       "      <td>9</td>\n",
       "      <td>0</td>\n",
       "      <td>0</td>\n",
       "      <td>1</td>\n",
       "      <td>0</td>\n",
       "      <td>0</td>\n",
       "      <td>0</td>\n",
       "      <td>0</td>\n",
       "    </tr>\n",
       "    <tr>\n",
       "      <th>220751</th>\n",
       "      <td>0</td>\n",
       "      <td>0</td>\n",
       "      <td>1</td>\n",
       "      <td>0</td>\n",
       "      <td>0</td>\n",
       "      <td>18</td>\n",
       "      <td>1</td>\n",
       "      <td>2</td>\n",
       "      <td>0</td>\n",
       "      <td>0</td>\n",
       "      <td>25</td>\n",
       "      <td>0</td>\n",
       "      <td>0</td>\n",
       "      <td>1</td>\n",
       "      <td>0</td>\n",
       "      <td>0</td>\n",
       "      <td>0</td>\n",
       "      <td>0</td>\n",
       "    </tr>\n",
       "  </tbody>\n",
       "</table>\n",
       "<p>120627 rows × 18 columns</p>\n",
       "</div>"
      ],
      "text/plain": [
       "        Asian  Black  Hispanic  Other  White  driver_age  driver_gender  \\\n",
       "354085      0      1         0      0      0          65              1   \n",
       "118627      0      0         0      0      1          46              1   \n",
       "193691      0      0         0      0      1          41              1   \n",
       "355816      0      0         0      0      1          51              1   \n",
       "391386      0      0         0      0      1          53              1   \n",
       "...       ...    ...       ...    ...    ...         ...            ...   \n",
       "99811       0      0         0      0      1          54              1   \n",
       "249870      0      0         0      0      1          46              1   \n",
       "45103       0      0         0      0      1          26              1   \n",
       "7644        0      1         0      0      0          40              1   \n",
       "220751      0      0         1      0      0          18              1   \n",
       "\n",
       "        violation  contraband_found  drugs_related_stop  district  \\\n",
       "354085          2                 0                   0        43   \n",
       "118627          2                 0                   0        14   \n",
       "193691          2                 0                   0        23   \n",
       "355816          2                 0                   0        42   \n",
       "391386          5                 0                   0        16   \n",
       "...           ...               ...                 ...       ...   \n",
       "99811           2                 0                   0        28   \n",
       "249870          2                 0                   0        26   \n",
       "45103           6                 0                   0        14   \n",
       "7644            0                 0                   0         9   \n",
       "220751          2                 0                   0        25   \n",
       "\n",
       "        Erratic Suspicious Behaviour  Informant Tip  No Search Conducted  \\\n",
       "354085                             0              0                    1   \n",
       "118627                             0              0                    1   \n",
       "193691                             0              0                    1   \n",
       "355816                             0              0                    1   \n",
       "391386                             1              0                    0   \n",
       "...                              ...            ...                  ...   \n",
       "99811                              0              0                    1   \n",
       "249870                             0              0                    1   \n",
       "45103                              0              0                    1   \n",
       "7644                               0              0                    1   \n",
       "220751                             0              0                    1   \n",
       "\n",
       "        Observation Suspected Contraband  Other Official Info  \\\n",
       "354085                                 0                    0   \n",
       "118627                                 0                    0   \n",
       "193691                                 0                    0   \n",
       "355816                                 0                    0   \n",
       "391386                                 0                    0   \n",
       "...                                  ...                  ...   \n",
       "99811                                  0                    0   \n",
       "249870                                 0                    0   \n",
       "45103                                  0                    0   \n",
       "7644                                   0                    0   \n",
       "220751                                 0                    0   \n",
       "\n",
       "        Suspicious Movement  Witness Observation  \n",
       "354085                    0                    0  \n",
       "118627                    0                    0  \n",
       "193691                    0                    0  \n",
       "355816                    0                    0  \n",
       "391386                    0                    0  \n",
       "...                     ...                  ...  \n",
       "99811                     0                    0  \n",
       "249870                    0                    0  \n",
       "45103                     0                    0  \n",
       "7644                      0                    0  \n",
       "220751                    0                    0  \n",
       "\n",
       "[120627 rows x 18 columns]"
      ]
     },
     "execution_count": 38,
     "metadata": {},
     "output_type": "execute_result"
    }
   ],
   "source": [
    "X_test"
   ]
  },
  {
   "cell_type": "code",
   "execution_count": 39,
   "metadata": {
    "pycharm": {
     "is_executing": true
    }
   },
   "outputs": [],
   "source": [
    "group_black = X_test[\"Black\"]== 1\n",
    "group_hispanic = X_test[\"Hispanic\"]== 1\n",
    "group_white= X_test[\"White\"]==1\n",
    "group_asian=X_test[\"Asian\"]==1\n",
    "group_other=X_test[\"Other\"]==1\n",
    "\n",
    "data_black=data_raw[data_raw[\"driver_race\"]==\"Black\"]\n",
    "data_hispanic=data_raw[data_raw[\"driver_race\"]==\"Hispanic\"]\n",
    "data_white=data_raw[data_raw[\"driver_race\"]==\"White\"]\n",
    "data_asian=data_raw[data_raw[\"driver_race\"]==\"Asian\"]\n",
    "data_other=data_raw[data_raw[\"driver_race\"]==\"Other\"]\n",
    "\n"
   ]
  },
  {
   "cell_type": "code",
   "execution_count": 40,
   "metadata": {
    "pycharm": {
     "is_executing": true
    }
   },
   "outputs": [
    {
     "data": {
      "text/html": [
       "<div>\n",
       "<style scoped>\n",
       "    .dataframe tbody tr th:only-of-type {\n",
       "        vertical-align: middle;\n",
       "    }\n",
       "\n",
       "    .dataframe tbody tr th {\n",
       "        vertical-align: top;\n",
       "    }\n",
       "\n",
       "    .dataframe thead th {\n",
       "        text-align: right;\n",
       "    }\n",
       "</style>\n",
       "<table border=\"1\" class=\"dataframe\">\n",
       "  <thead>\n",
       "    <tr style=\"text-align: right;\">\n",
       "      <th></th>\n",
       "      <th>state</th>\n",
       "      <th>stop_date</th>\n",
       "      <th>driver_gender</th>\n",
       "      <th>driver_race_raw</th>\n",
       "      <th>driver_race</th>\n",
       "      <th>violation</th>\n",
       "      <th>search_type</th>\n",
       "      <th>contraband_found</th>\n",
       "      <th>stop_outcome</th>\n",
       "      <th>search_basis</th>\n",
       "      <th>officer_id</th>\n",
       "      <th>drugs_related_stop</th>\n",
       "      <th>district</th>\n",
       "      <th>driver_age</th>\n",
       "    </tr>\n",
       "  </thead>\n",
       "  <tbody>\n",
       "    <tr>\n",
       "      <th>2</th>\n",
       "      <td>NC</td>\n",
       "      <td>2000-07-31</td>\n",
       "      <td>F</td>\n",
       "      <td>B N</td>\n",
       "      <td>Black</td>\n",
       "      <td>Speeding</td>\n",
       "      <td>No Search Conducted</td>\n",
       "      <td>False</td>\n",
       "      <td>Arrest</td>\n",
       "      <td>No Search Conducted</td>\n",
       "      <td>10606</td>\n",
       "      <td>False</td>\n",
       "      <td>E3</td>\n",
       "      <td>49</td>\n",
       "    </tr>\n",
       "    <tr>\n",
       "      <th>3</th>\n",
       "      <td>NC</td>\n",
       "      <td>2000-07-31</td>\n",
       "      <td>M</td>\n",
       "      <td>B N</td>\n",
       "      <td>Black</td>\n",
       "      <td>Speeding</td>\n",
       "      <td>No Search Conducted</td>\n",
       "      <td>False</td>\n",
       "      <td>Arrest</td>\n",
       "      <td>No Search Conducted</td>\n",
       "      <td>10606</td>\n",
       "      <td>False</td>\n",
       "      <td>E3</td>\n",
       "      <td>29</td>\n",
       "    </tr>\n",
       "    <tr>\n",
       "      <th>5</th>\n",
       "      <td>NC</td>\n",
       "      <td>2000-07-31</td>\n",
       "      <td>M</td>\n",
       "      <td>B N</td>\n",
       "      <td>Black</td>\n",
       "      <td>Speeding</td>\n",
       "      <td>No Search Conducted</td>\n",
       "      <td>False</td>\n",
       "      <td>Arrest</td>\n",
       "      <td>No Search Conducted</td>\n",
       "      <td>10606</td>\n",
       "      <td>False</td>\n",
       "      <td>E3</td>\n",
       "      <td>21</td>\n",
       "    </tr>\n",
       "    <tr>\n",
       "      <th>6</th>\n",
       "      <td>NC</td>\n",
       "      <td>2000-07-31</td>\n",
       "      <td>M</td>\n",
       "      <td>B N</td>\n",
       "      <td>Black</td>\n",
       "      <td>Speeding</td>\n",
       "      <td>No Search Conducted</td>\n",
       "      <td>False</td>\n",
       "      <td>Arrest</td>\n",
       "      <td>No Search Conducted</td>\n",
       "      <td>10606</td>\n",
       "      <td>False</td>\n",
       "      <td>E3</td>\n",
       "      <td>33</td>\n",
       "    </tr>\n",
       "    <tr>\n",
       "      <th>8</th>\n",
       "      <td>NC</td>\n",
       "      <td>2000-08-01</td>\n",
       "      <td>M</td>\n",
       "      <td>B N</td>\n",
       "      <td>Black</td>\n",
       "      <td>Speeding</td>\n",
       "      <td>Protective Frisk</td>\n",
       "      <td>False</td>\n",
       "      <td>Arrest</td>\n",
       "      <td>Observation Suspected Contraband</td>\n",
       "      <td>10241</td>\n",
       "      <td>False</td>\n",
       "      <td>E2</td>\n",
       "      <td>28</td>\n",
       "    </tr>\n",
       "    <tr>\n",
       "      <th>...</th>\n",
       "      <td>...</td>\n",
       "      <td>...</td>\n",
       "      <td>...</td>\n",
       "      <td>...</td>\n",
       "      <td>...</td>\n",
       "      <td>...</td>\n",
       "      <td>...</td>\n",
       "      <td>...</td>\n",
       "      <td>...</td>\n",
       "      <td>...</td>\n",
       "      <td>...</td>\n",
       "      <td>...</td>\n",
       "      <td>...</td>\n",
       "      <td>...</td>\n",
       "    </tr>\n",
       "    <tr>\n",
       "      <th>402075</th>\n",
       "      <td>NC</td>\n",
       "      <td>2015-12-31</td>\n",
       "      <td>M</td>\n",
       "      <td>B N</td>\n",
       "      <td>Black</td>\n",
       "      <td>Other</td>\n",
       "      <td>No Search Conducted</td>\n",
       "      <td>False</td>\n",
       "      <td>No Action</td>\n",
       "      <td>No Search Conducted</td>\n",
       "      <td>21428</td>\n",
       "      <td>False</td>\n",
       "      <td>D6</td>\n",
       "      <td>44</td>\n",
       "    </tr>\n",
       "    <tr>\n",
       "      <th>402076</th>\n",
       "      <td>NC</td>\n",
       "      <td>2015-12-31</td>\n",
       "      <td>M</td>\n",
       "      <td>B N</td>\n",
       "      <td>Black</td>\n",
       "      <td>Other</td>\n",
       "      <td>No Search Conducted</td>\n",
       "      <td>False</td>\n",
       "      <td>No Action</td>\n",
       "      <td>No Search Conducted</td>\n",
       "      <td>10121</td>\n",
       "      <td>False</td>\n",
       "      <td>C4</td>\n",
       "      <td>40</td>\n",
       "    </tr>\n",
       "    <tr>\n",
       "      <th>402077</th>\n",
       "      <td>NC</td>\n",
       "      <td>2015-12-31</td>\n",
       "      <td>M</td>\n",
       "      <td>B N</td>\n",
       "      <td>Black</td>\n",
       "      <td>Other</td>\n",
       "      <td>No Search Conducted</td>\n",
       "      <td>False</td>\n",
       "      <td>No Action</td>\n",
       "      <td>No Search Conducted</td>\n",
       "      <td>21327</td>\n",
       "      <td>False</td>\n",
       "      <td>A6</td>\n",
       "      <td>64</td>\n",
       "    </tr>\n",
       "    <tr>\n",
       "      <th>402081</th>\n",
       "      <td>NC</td>\n",
       "      <td>2015-12-31</td>\n",
       "      <td>M</td>\n",
       "      <td>B N</td>\n",
       "      <td>Black</td>\n",
       "      <td>Speeding</td>\n",
       "      <td>Incident to Arrest</td>\n",
       "      <td>False</td>\n",
       "      <td>Arrest</td>\n",
       "      <td>Other Official Info</td>\n",
       "      <td>21443</td>\n",
       "      <td>False</td>\n",
       "      <td>E3</td>\n",
       "      <td>37</td>\n",
       "    </tr>\n",
       "    <tr>\n",
       "      <th>402083</th>\n",
       "      <td>NC</td>\n",
       "      <td>2015-12-31</td>\n",
       "      <td>F</td>\n",
       "      <td>B N</td>\n",
       "      <td>Black</td>\n",
       "      <td>Registration/plates</td>\n",
       "      <td>Incident to Arrest</td>\n",
       "      <td>False</td>\n",
       "      <td>Arrest</td>\n",
       "      <td>Other Official Info</td>\n",
       "      <td>10592</td>\n",
       "      <td>False</td>\n",
       "      <td>G5</td>\n",
       "      <td>21</td>\n",
       "    </tr>\n",
       "  </tbody>\n",
       "</table>\n",
       "<p>102919 rows × 14 columns</p>\n",
       "</div>"
      ],
      "text/plain": [
       "       state   stop_date driver_gender driver_race_raw driver_race  \\\n",
       "2         NC  2000-07-31             F             B N       Black   \n",
       "3         NC  2000-07-31             M             B N       Black   \n",
       "5         NC  2000-07-31             M             B N       Black   \n",
       "6         NC  2000-07-31             M             B N       Black   \n",
       "8         NC  2000-08-01             M             B N       Black   \n",
       "...      ...         ...           ...             ...         ...   \n",
       "402075    NC  2015-12-31             M             B N       Black   \n",
       "402076    NC  2015-12-31             M             B N       Black   \n",
       "402077    NC  2015-12-31             M             B N       Black   \n",
       "402081    NC  2015-12-31             M             B N       Black   \n",
       "402083    NC  2015-12-31             F             B N       Black   \n",
       "\n",
       "                  violation          search_type contraband_found  \\\n",
       "2                  Speeding  No Search Conducted            False   \n",
       "3                  Speeding  No Search Conducted            False   \n",
       "5                  Speeding  No Search Conducted            False   \n",
       "6                  Speeding  No Search Conducted            False   \n",
       "8                  Speeding     Protective Frisk            False   \n",
       "...                     ...                  ...              ...   \n",
       "402075                Other  No Search Conducted            False   \n",
       "402076                Other  No Search Conducted            False   \n",
       "402077                Other  No Search Conducted            False   \n",
       "402081             Speeding   Incident to Arrest            False   \n",
       "402083  Registration/plates   Incident to Arrest            False   \n",
       "\n",
       "       stop_outcome                      search_basis officer_id  \\\n",
       "2            Arrest               No Search Conducted      10606   \n",
       "3            Arrest               No Search Conducted      10606   \n",
       "5            Arrest               No Search Conducted      10606   \n",
       "6            Arrest               No Search Conducted      10606   \n",
       "8            Arrest  Observation Suspected Contraband      10241   \n",
       "...             ...                               ...        ...   \n",
       "402075    No Action               No Search Conducted      21428   \n",
       "402076    No Action               No Search Conducted      10121   \n",
       "402077    No Action               No Search Conducted      21327   \n",
       "402081       Arrest               Other Official Info      21443   \n",
       "402083       Arrest               Other Official Info      10592   \n",
       "\n",
       "       drugs_related_stop district  driver_age  \n",
       "2                   False       E3          49  \n",
       "3                   False       E3          29  \n",
       "5                   False       E3          21  \n",
       "6                   False       E3          33  \n",
       "8                   False       E2          28  \n",
       "...                   ...      ...         ...  \n",
       "402075              False       D6          44  \n",
       "402076              False       C4          40  \n",
       "402077              False       A6          64  \n",
       "402081              False       E3          37  \n",
       "402083              False       G5          21  \n",
       "\n",
       "[102919 rows x 14 columns]"
      ]
     },
     "execution_count": 40,
     "metadata": {},
     "output_type": "execute_result"
    }
   ],
   "source": [
    "data_black"
   ]
  },
  {
   "cell_type": "code",
   "execution_count": 41,
   "metadata": {
    "pycharm": {
     "is_executing": true
    }
   },
   "outputs": [
    {
     "data": {
      "text/html": [
       "<div>\n",
       "<style scoped>\n",
       "    .dataframe tbody tr th:only-of-type {\n",
       "        vertical-align: middle;\n",
       "    }\n",
       "\n",
       "    .dataframe tbody tr th {\n",
       "        vertical-align: top;\n",
       "    }\n",
       "\n",
       "    .dataframe thead th {\n",
       "        text-align: right;\n",
       "    }\n",
       "</style>\n",
       "<table border=\"1\" class=\"dataframe\">\n",
       "  <thead>\n",
       "    <tr style=\"text-align: right;\">\n",
       "      <th></th>\n",
       "      <th>state</th>\n",
       "      <th>stop_date</th>\n",
       "      <th>driver_gender</th>\n",
       "      <th>driver_race_raw</th>\n",
       "      <th>driver_race</th>\n",
       "      <th>violation</th>\n",
       "      <th>search_type</th>\n",
       "      <th>contraband_found</th>\n",
       "      <th>stop_outcome</th>\n",
       "      <th>search_basis</th>\n",
       "      <th>officer_id</th>\n",
       "      <th>drugs_related_stop</th>\n",
       "      <th>district</th>\n",
       "      <th>driver_age</th>\n",
       "    </tr>\n",
       "  </thead>\n",
       "  <tbody>\n",
       "    <tr>\n",
       "      <th>4</th>\n",
       "      <td>NC</td>\n",
       "      <td>2000-07-31</td>\n",
       "      <td>M</td>\n",
       "      <td>U H</td>\n",
       "      <td>Hispanic</td>\n",
       "      <td>Speeding</td>\n",
       "      <td>No Search Conducted</td>\n",
       "      <td>False</td>\n",
       "      <td>Arrest</td>\n",
       "      <td>No Search Conducted</td>\n",
       "      <td>10606</td>\n",
       "      <td>False</td>\n",
       "      <td>E3</td>\n",
       "      <td>24</td>\n",
       "    </tr>\n",
       "    <tr>\n",
       "      <th>12</th>\n",
       "      <td>NC</td>\n",
       "      <td>2000-08-01</td>\n",
       "      <td>M</td>\n",
       "      <td>U H</td>\n",
       "      <td>Hispanic</td>\n",
       "      <td>DUI</td>\n",
       "      <td>No Search Conducted</td>\n",
       "      <td>False</td>\n",
       "      <td>Arrest</td>\n",
       "      <td>No Search Conducted</td>\n",
       "      <td>10233</td>\n",
       "      <td>False</td>\n",
       "      <td>C6</td>\n",
       "      <td>20</td>\n",
       "    </tr>\n",
       "    <tr>\n",
       "      <th>14</th>\n",
       "      <td>NC</td>\n",
       "      <td>2000-08-01</td>\n",
       "      <td>M</td>\n",
       "      <td>U H</td>\n",
       "      <td>Hispanic</td>\n",
       "      <td>Equipment</td>\n",
       "      <td>No Search Conducted</td>\n",
       "      <td>False</td>\n",
       "      <td>Arrest</td>\n",
       "      <td>No Search Conducted</td>\n",
       "      <td>10475</td>\n",
       "      <td>False</td>\n",
       "      <td>F1</td>\n",
       "      <td>33</td>\n",
       "    </tr>\n",
       "    <tr>\n",
       "      <th>15</th>\n",
       "      <td>NC</td>\n",
       "      <td>2000-08-01</td>\n",
       "      <td>M</td>\n",
       "      <td>U H</td>\n",
       "      <td>Hispanic</td>\n",
       "      <td>Speeding</td>\n",
       "      <td>Incident to Arrest</td>\n",
       "      <td>False</td>\n",
       "      <td>Arrest</td>\n",
       "      <td>Erratic Suspicious Behaviour</td>\n",
       "      <td>11205</td>\n",
       "      <td>False</td>\n",
       "      <td>A2</td>\n",
       "      <td>20</td>\n",
       "    </tr>\n",
       "    <tr>\n",
       "      <th>21</th>\n",
       "      <td>NC</td>\n",
       "      <td>2000-08-01</td>\n",
       "      <td>M</td>\n",
       "      <td>U H</td>\n",
       "      <td>Hispanic</td>\n",
       "      <td>Other</td>\n",
       "      <td>No Search Conducted</td>\n",
       "      <td>False</td>\n",
       "      <td>No Action</td>\n",
       "      <td>No Search Conducted</td>\n",
       "      <td>10227</td>\n",
       "      <td>False</td>\n",
       "      <td>C5</td>\n",
       "      <td>50</td>\n",
       "    </tr>\n",
       "    <tr>\n",
       "      <th>...</th>\n",
       "      <td>...</td>\n",
       "      <td>...</td>\n",
       "      <td>...</td>\n",
       "      <td>...</td>\n",
       "      <td>...</td>\n",
       "      <td>...</td>\n",
       "      <td>...</td>\n",
       "      <td>...</td>\n",
       "      <td>...</td>\n",
       "      <td>...</td>\n",
       "      <td>...</td>\n",
       "      <td>...</td>\n",
       "      <td>...</td>\n",
       "      <td>...</td>\n",
       "    </tr>\n",
       "    <tr>\n",
       "      <th>402007</th>\n",
       "      <td>NC</td>\n",
       "      <td>2015-12-30</td>\n",
       "      <td>M</td>\n",
       "      <td>U H</td>\n",
       "      <td>Hispanic</td>\n",
       "      <td>Other</td>\n",
       "      <td>No Search Conducted</td>\n",
       "      <td>False</td>\n",
       "      <td>No Action</td>\n",
       "      <td>No Search Conducted</td>\n",
       "      <td>11463</td>\n",
       "      <td>False</td>\n",
       "      <td>C8</td>\n",
       "      <td>39</td>\n",
       "    </tr>\n",
       "    <tr>\n",
       "      <th>402016</th>\n",
       "      <td>NC</td>\n",
       "      <td>2015-12-30</td>\n",
       "      <td>M</td>\n",
       "      <td>U H</td>\n",
       "      <td>Hispanic</td>\n",
       "      <td>Registration/plates</td>\n",
       "      <td>No Search Conducted</td>\n",
       "      <td>False</td>\n",
       "      <td>No Action</td>\n",
       "      <td>No Search Conducted</td>\n",
       "      <td>11395</td>\n",
       "      <td>False</td>\n",
       "      <td>D2</td>\n",
       "      <td>45</td>\n",
       "    </tr>\n",
       "    <tr>\n",
       "      <th>402028</th>\n",
       "      <td>NC</td>\n",
       "      <td>2015-12-30</td>\n",
       "      <td>M</td>\n",
       "      <td>U H</td>\n",
       "      <td>Hispanic</td>\n",
       "      <td>Other</td>\n",
       "      <td>No Search Conducted</td>\n",
       "      <td>False</td>\n",
       "      <td>No Action</td>\n",
       "      <td>No Search Conducted</td>\n",
       "      <td>10664</td>\n",
       "      <td>False</td>\n",
       "      <td>G4</td>\n",
       "      <td>26</td>\n",
       "    </tr>\n",
       "    <tr>\n",
       "      <th>402042</th>\n",
       "      <td>NC</td>\n",
       "      <td>2015-12-31</td>\n",
       "      <td>M</td>\n",
       "      <td>U H</td>\n",
       "      <td>Hispanic</td>\n",
       "      <td>Registration/plates</td>\n",
       "      <td>No Search Conducted</td>\n",
       "      <td>False</td>\n",
       "      <td>No Action</td>\n",
       "      <td>No Search Conducted</td>\n",
       "      <td>11395</td>\n",
       "      <td>False</td>\n",
       "      <td>D2</td>\n",
       "      <td>53</td>\n",
       "    </tr>\n",
       "    <tr>\n",
       "      <th>402086</th>\n",
       "      <td>NC</td>\n",
       "      <td>2015-12-31</td>\n",
       "      <td>M</td>\n",
       "      <td>U H</td>\n",
       "      <td>Hispanic</td>\n",
       "      <td>Other</td>\n",
       "      <td>Incident to Arrest</td>\n",
       "      <td>False</td>\n",
       "      <td>Arrest</td>\n",
       "      <td>Other Official Info</td>\n",
       "      <td>21553</td>\n",
       "      <td>False</td>\n",
       "      <td>D5</td>\n",
       "      <td>31</td>\n",
       "    </tr>\n",
       "  </tbody>\n",
       "</table>\n",
       "<p>30715 rows × 14 columns</p>\n",
       "</div>"
      ],
      "text/plain": [
       "       state   stop_date driver_gender driver_race_raw driver_race  \\\n",
       "4         NC  2000-07-31             M             U H    Hispanic   \n",
       "12        NC  2000-08-01             M             U H    Hispanic   \n",
       "14        NC  2000-08-01             M             U H    Hispanic   \n",
       "15        NC  2000-08-01             M             U H    Hispanic   \n",
       "21        NC  2000-08-01             M             U H    Hispanic   \n",
       "...      ...         ...           ...             ...         ...   \n",
       "402007    NC  2015-12-30             M             U H    Hispanic   \n",
       "402016    NC  2015-12-30             M             U H    Hispanic   \n",
       "402028    NC  2015-12-30             M             U H    Hispanic   \n",
       "402042    NC  2015-12-31             M             U H    Hispanic   \n",
       "402086    NC  2015-12-31             M             U H    Hispanic   \n",
       "\n",
       "                  violation          search_type contraband_found  \\\n",
       "4                  Speeding  No Search Conducted            False   \n",
       "12                      DUI  No Search Conducted            False   \n",
       "14                Equipment  No Search Conducted            False   \n",
       "15                 Speeding   Incident to Arrest            False   \n",
       "21                    Other  No Search Conducted            False   \n",
       "...                     ...                  ...              ...   \n",
       "402007                Other  No Search Conducted            False   \n",
       "402016  Registration/plates  No Search Conducted            False   \n",
       "402028                Other  No Search Conducted            False   \n",
       "402042  Registration/plates  No Search Conducted            False   \n",
       "402086                Other   Incident to Arrest            False   \n",
       "\n",
       "       stop_outcome                  search_basis officer_id  \\\n",
       "4            Arrest           No Search Conducted      10606   \n",
       "12           Arrest           No Search Conducted      10233   \n",
       "14           Arrest           No Search Conducted      10475   \n",
       "15           Arrest  Erratic Suspicious Behaviour      11205   \n",
       "21        No Action           No Search Conducted      10227   \n",
       "...             ...                           ...        ...   \n",
       "402007    No Action           No Search Conducted      11463   \n",
       "402016    No Action           No Search Conducted      11395   \n",
       "402028    No Action           No Search Conducted      10664   \n",
       "402042    No Action           No Search Conducted      11395   \n",
       "402086       Arrest           Other Official Info      21553   \n",
       "\n",
       "       drugs_related_stop district  driver_age  \n",
       "4                   False       E3          24  \n",
       "12                  False       C6          20  \n",
       "14                  False       F1          33  \n",
       "15                  False       A2          20  \n",
       "21                  False       C5          50  \n",
       "...                   ...      ...         ...  \n",
       "402007              False       C8          39  \n",
       "402016              False       D2          45  \n",
       "402028              False       G4          26  \n",
       "402042              False       D2          53  \n",
       "402086              False       D5          31  \n",
       "\n",
       "[30715 rows x 14 columns]"
      ]
     },
     "execution_count": 41,
     "metadata": {},
     "output_type": "execute_result"
    }
   ],
   "source": [
    "data_hispanic"
   ]
  },
  {
   "cell_type": "code",
   "execution_count": 42,
   "metadata": {
    "pycharm": {
     "is_executing": true
    }
   },
   "outputs": [
    {
     "name": "stderr",
     "output_type": "stream",
     "text": [
      "/Users/umutekingezer/opt/anaconda3/lib/python3.7/site-packages/numpy/core/_asarray.py:83: VisibleDeprecationWarning: Creating an ndarray from ragged nested sequences (which is a list-or-tuple of lists-or-tuples-or ndarrays with different lengths or shapes) is deprecated. If you meant to do this, you must specify 'dtype=object' when creating the ndarray\n",
      "  return array(a, dtype, copy=False, order=order)\n"
     ]
    },
    {
     "data": {
      "image/png": "[encoded data removed]",
      "text/plain": [
       "<Figure size 576x360 with 1 Axes>"
      ]
     },
     "metadata": {
      "needs_background": "light"
     },
     "output_type": "display_data"
    }
   ],
   "source": [
    "#Plot the distribution\n",
    "plt.figure(figsize=(8,5))\n",
    "\n",
    "\n",
    "plt.hist([data_raw['stop_outcome'], data_black['stop_outcome'], data_hispanic['stop_outcome'],data_white['stop_outcome'],data_asian['stop_outcome'],data_other['stop_outcome']], density=True, \n",
    "           label=['Overall', 'Afro-American', 'Hispanic','White','Asian','Other'])\n",
    "\n",
    "plt.xlabel('Stop Outcomes')\n",
    "plt.title('Distribution of Stop Outcomes Density (in range 0-10) among ethnicity')\n",
    "plt.legend(loc='best')\n",
    "plt.show()"
   ]
  },
  {
   "cell_type": "code",
   "execution_count": 43,
   "metadata": {
    "pycharm": {
     "is_executing": true
    }
   },
   "outputs": [],
   "source": [
    "#take confusion matrix of both groups\n",
    "\n",
    "cm_black = confusion_matrix(y_test[group_black], y_pred[group_black])\n",
    "cm_hispanic = confusion_matrix(y_test[group_hispanic], y_pred[group_hispanic])\n",
    "cm_white = confusion_matrix(y_test[group_white], y_pred[group_white])\n",
    "cm_asian = confusion_matrix(y_test[group_asian], y_pred[group_asian])\n",
    "cm_other = confusion_matrix(y_test[group_other], y_pred[group_other])\n",
    "\n",
    "\n",
    "\n",
    "tn_black, fp_black, fn_black, tp_black = cm_black.ravel()\n",
    "tn_hispanic, fp_hispanic, fn_hispanic, tp_hispanic = cm_hispanic.ravel()\n",
    "tn_white, fp_white, fn_white, tp_white = cm_white.ravel()\n",
    "tn_asian, fp_asian, fn_asian, tp_asian = cm_asian.ravel()\n",
    "tn_other, fp_other, fn_other, tp_other = cm_other.ravel()\n"
   ]
  },
  {
   "cell_type": "code",
   "execution_count": 44,
   "metadata": {
    "pycharm": {
     "is_executing": true
    }
   },
   "outputs": [
    {
     "data": {
      "text/plain": [
       "<Figure size 432x288 with 0 Axes>"
      ]
     },
     "metadata": {},
     "output_type": "display_data"
    },
    {
     "data": {
      "image/png": "[encoded data removed]",
      "text/plain": [
       "<Figure size 432x288 with 2 Axes>"
      ]
     },
     "metadata": {
      "needs_background": "light"
     },
     "output_type": "display_data"
    },
    {
     "data": {
      "text/plain": [
       "<Figure size 432x288 with 0 Axes>"
      ]
     },
     "metadata": {},
     "output_type": "display_data"
    },
    {
     "data": {
      "image/png": "[encoded data removed]",
      "text/plain": [
       "<Figure size 432x288 with 2 Axes>"
      ]
     },
     "metadata": {
      "needs_background": "light"
     },
     "output_type": "display_data"
    },
    {
     "data": {
      "text/plain": [
       "<Figure size 432x288 with 0 Axes>"
      ]
     },
     "metadata": {},
     "output_type": "display_data"
    },
    {
     "data": {
      "image/png": "[encoded data removed]",
      "text/plain": [
       "<Figure size 432x288 with 2 Axes>"
      ]
     },
     "metadata": {
      "needs_background": "light"
     },
     "output_type": "display_data"
    },
    {
     "data": {
      "text/plain": [
       "<Figure size 432x288 with 0 Axes>"
      ]
     },
     "metadata": {},
     "output_type": "display_data"
    },
    {
     "data": {
      "image/png": "[encoded data removed]",
      "text/plain": [
       "<Figure size 432x288 with 2 Axes>"
      ]
     },
     "metadata": {
      "needs_background": "light"
     },
     "output_type": "display_data"
    },
    {
     "data": {
      "text/plain": [
       "<Figure size 432x288 with 0 Axes>"
      ]
     },
     "metadata": {},
     "output_type": "display_data"
    },
    {
     "data": {
      "image/png": "[encoded data removed]",
      "text/plain": [
       "<Figure size 432x288 with 2 Axes>"
      ]
     },
     "metadata": {
      "needs_background": "light"
     },
     "output_type": "display_data"
    }
   ],
   "source": [
    "plt.figure()\n",
    "disp = ConfusionMatrixDisplay(confusion_matrix=cm_black, display_labels=['Arrest', 'No Action'])\n",
    "disp.plot()\n",
    "plt.xticks(rotation=45)\n",
    "plt.grid(False)\n",
    "plt.title(\"Confusion matrix for Afro American People\")\n",
    "plt.show()\n",
    "\n",
    "plt.figure()\n",
    "disp = ConfusionMatrixDisplay(confusion_matrix=cm_hispanic, display_labels=['Arrest', 'No Action'])\n",
    "disp.plot()\n",
    "plt.xticks(rotation=45)\n",
    "plt.grid(False)\n",
    "plt.title(\"Confusion matrix for Hispanic People\")\n",
    "plt.show()\n",
    "\n",
    "plt.figure()\n",
    "disp = ConfusionMatrixDisplay(confusion_matrix=cm_white, display_labels=['Arrest', 'No Action'])\n",
    "disp.plot()\n",
    "plt.xticks(rotation=45)\n",
    "plt.grid(False)\n",
    "plt.title(\"Confusion matrix for White People\")\n",
    "plt.show()\n",
    "\n",
    "plt.figure()\n",
    "disp = ConfusionMatrixDisplay(confusion_matrix=cm_asian, display_labels=['Arrest', 'No Action'])\n",
    "disp.plot()\n",
    "plt.xticks(rotation=45)\n",
    "plt.grid(False)\n",
    "plt.title(\"Confusion matrix for Asian People\")\n",
    "plt.show()\n",
    "\n",
    "plt.figure()\n",
    "disp = ConfusionMatrixDisplay(confusion_matrix=cm_other, display_labels=['Arrest', 'No Action'])\n",
    "disp.plot()\n",
    "plt.xticks(rotation=45)\n",
    "plt.grid(False)\n",
    "plt.title(\"Confusion matrix for Other Ethnicity\")\n",
    "plt.show()\n",
    "\n"
   ]
  },
  {
   "cell_type": "markdown",
   "metadata": {},
   "source": [
    "# Calculate Independence,Separation and Sufficiency Functions for Ethnicity:"
   ]
  },
  {
   "cell_type": "markdown",
   "metadata": {},
   "source": [
    "# Independence for Ethnicity "
   ]
  },
  {
   "cell_type": "code",
   "execution_count": 45,
   "metadata": {
    "pycharm": {
     "is_executing": true
    }
   },
   "outputs": [
    {
     "name": "stdout",
     "output_type": "stream",
     "text": [
      "Independence Afro American:\t 0.7168707969201781\n",
      "Independence Hispanic     :\t 0.47100578792180847\n",
      "Independence White        :\t 0.772468260808047\n",
      "Independence Asian        :\t 0.6468401486988847\n",
      "Independence Other Ethnicities          :\t 0.646594684385382\n"
     ]
    }
   ],
   "source": [
    "independence_black=independence(tn_black, fp_black, fn_black, tp_black)\n",
    "independence_hispanic=independence(tn_hispanic, fp_hispanic, fn_hispanic, tp_hispanic)\n",
    "independence_white=independence(tn_white, fp_white, fn_white, tp_white)\n",
    "independence_asian=independence(tn_asian, fp_asian, fn_asian, tp_asian) \n",
    "independence_other=independence(tn_other, fp_other, fn_other, tp_other) \n",
    "\n",
    "\n",
    "print('Independence Afro American:\\t',independence_black)\n",
    "print('Independence Hispanic     :\\t',independence_hispanic)\n",
    "print('Independence White        :\\t',independence_white)\n",
    "print('Independence Asian        :\\t',independence_asian)\n",
    "print('Independence Other Ethnicities          :\\t',independence_other)"
   ]
  },
  {
   "cell_type": "markdown",
   "metadata": {},
   "source": [
    "# Separation for Ethnicity "
   ]
  },
  {
   "cell_type": "code",
   "execution_count": 46,
   "metadata": {
    "pycharm": {
     "is_executing": true
    }
   },
   "outputs": [
    {
     "name": "stdout",
     "output_type": "stream",
     "text": [
      "Separation Y1 Afro American         :\t 0.9117647058823529\n",
      "Separation Y1 Hispanic              :\t 0.8077904011129144\n",
      "Separation Y1 White                 :\t 0.9374562893395944\n",
      "Separation Y1 Asian                 :\t 0.9281609195402298\n",
      "Separation Y1 Other Ethnicities     :\t 0.8342967244701349\n",
      "*****************************************************************\n",
      "Separation Y0 Afro American         :\t 0.944578313253012\n",
      "Separation Y0 Hispanic              :\t 0.9457060280759703\n",
      "Separation Y0 White                 :\t 0.9305783255130307\n",
      "Separation Y0 Asian                 :\t 0.868421052631579\n",
      "Separation Y0 Other Ethnicities     :\t 0.9012925969447708\n"
     ]
    }
   ],
   "source": [
    "(separation_black_y1,separation_black_y0) = separation(tn_black, fp_black, fn_black, tp_black)\n",
    "(separation_hispanic_y1,separation_hispanic_y0) = separation(tn_hispanic, fp_hispanic, fn_hispanic, tp_hispanic)\n",
    "(separation_white_y1,separation_white_y0)=separation(tn_white, fp_white, fn_white, tp_white)\n",
    "(separation_asian_y1,separation_asian_y0)=separation(tn_asian, fp_asian, fn_asian, tp_asian) \n",
    "(separation_other_y1,separation_other_y0)=separation(tn_other, fp_other, fn_other, tp_other) \n",
    "\n",
    "print('Separation Y1 Afro American         :\\t',separation_black_y1)\n",
    "print('Separation Y1 Hispanic              :\\t',separation_hispanic_y1)\n",
    "print('Separation Y1 White                 :\\t',separation_white_y1)\n",
    "print('Separation Y1 Asian                 :\\t',separation_asian_y1)\n",
    "print('Separation Y1 Other Ethnicities     :\\t',separation_other_y1)\n",
    "\n",
    "print(\"*\"*65)\n",
    "\n",
    "print('Separation Y0 Afro American         :\\t',separation_black_y0)\n",
    "print('Separation Y0 Hispanic              :\\t',separation_hispanic_y0)\n",
    "print('Separation Y0 White                 :\\t',separation_white_y0)\n",
    "print('Separation Y0 Asian                 :\\t',separation_asian_y0)\n",
    "print('Separation Y0 Other Ethnicities     :\\t',separation_other_y0)"
   ]
  },
  {
   "cell_type": "markdown",
   "metadata": {},
   "source": [
    "# Sufficiency for Ethnicity "
   ]
  },
  {
   "cell_type": "code",
   "execution_count": 47,
   "metadata": {
    "pycharm": {
     "is_executing": true
    }
   },
   "outputs": [
    {
     "name": "stdout",
     "output_type": "stream",
     "text": [
      "Sufficiency R1 Afro America          :\t 0.9765556742063878\n",
      "Sufficiency R1 Hispanic              :\t 0.9298105150787297\n",
      "Sufficiency R1 White                 :\t 0.9786531307582659\n",
      "Sufficiency R1 Asian                 :\t 0.9281609195402298\n",
      "Sufficiency R1 Other Ethnicities     :\t 0.9392624728850325\n",
      "*****************************************************************\n",
      "Sufficiency R0 Hispanic              :\t 0.15323475046210722\n",
      "Sufficiency R0 Afro American         :\t 0.19127615679339818\n",
      "Sufficiency R0 White                 :\t 0.1857842409853094\n",
      "Sufficiency R0 Asian                 :\t 0.13157894736842105\n",
      "Sufficiency R0 Other Ethnicities     :\t 0.25170731707317073\n"
     ]
    }
   ],
   "source": [
    "(sufficiency_black_r1,sufficiency_black_r0) = sufficiency(tn_black, fp_black, fn_black, tp_black)\n",
    "(sufficiency_hispanic_r1,sufficiency_hispanic_r0) = sufficiency(tn_hispanic, fp_hispanic, fn_hispanic, tp_hispanic)\n",
    "(sufficiency_white_r1,sufficiency_white_r0)=sufficiency(tn_white, fp_white, fn_white, tp_white)\n",
    "(sufficiency_asian_r1,sufficiency_asian_r0)=sufficiency(tn_asian, fp_asian, fn_asian, tp_asian) \n",
    "(sufficiency_other_r1,sufficiency_other_r0)=sufficiency(tn_other, fp_other, fn_other, tp_other)\n",
    "\n",
    "print('Sufficiency R1 Afro America          :\\t',sufficiency_black_r1)\n",
    "print('Sufficiency R1 Hispanic              :\\t',sufficiency_hispanic_r1)\n",
    "print('Sufficiency R1 White                 :\\t',sufficiency_white_r1)\n",
    "print('Sufficiency R1 Asian                 :\\t',sufficiency_asian_r1)\n",
    "print('Sufficiency R1 Other Ethnicities     :\\t',sufficiency_other_r1)\n",
    "print(\"*\"*65)\n",
    "print('Sufficiency R0 Hispanic              :\\t',sufficiency_hispanic_r0)\n",
    "print('Sufficiency R0 Afro American         :\\t',sufficiency_black_r0)\n",
    "print('Sufficiency R0 White                 :\\t',sufficiency_white_r0)\n",
    "print('Sufficiency R0 Asian                 :\\t',sufficiency_asian_r0)\n",
    "print('Sufficiency R0 Other Ethnicities     :\\t',sufficiency_other_r0)\n",
    "\n"
   ]
  },
  {
   "cell_type": "code",
   "execution_count": 48,
   "metadata": {
    "pycharm": {
     "is_executing": true
    }
   },
   "outputs": [],
   "source": [
    "#TODO Interpret Independence,Separation and Sufficiency Functions for Ethnicity, compare the results"
   ]
  },
  {
   "cell_type": "markdown",
   "metadata": {},
   "source": [
    "# 3-)Age Group Comparision (Young - Middle Aged - Old)"
   ]
  },
  {
   "cell_type": "code",
   "execution_count": 49,
   "metadata": {
    "pycharm": {
     "is_executing": true
    }
   },
   "outputs": [
    {
     "name": "stdout",
     "output_type": "stream",
     "text": [
      "45    12259\n",
      "42    11497\n",
      "40    11127\n",
      "43    11119\n",
      "44    10901\n",
      "      ...  \n",
      "94        2\n",
      "98        2\n",
      "92        2\n",
      "96        1\n",
      "99        1\n",
      "Name: driver_age, Length: 84, dtype: int64\n"
     ]
    }
   ],
   "source": [
    "age_counts = data_raw[\"driver_age\"].value_counts()\n",
    "\n",
    "print(age_counts)"
   ]
  },
  {
   "cell_type": "code",
   "execution_count": 50,
   "metadata": {
    "pycharm": {
     "is_executing": true
    }
   },
   "outputs": [
    {
     "ename": "ValueError",
     "evalue": "could not convert string to float: 'M'",
     "output_type": "error",
     "traceback": [
      "\u001b[0;31m---------------------------------------------------------------------------\u001b[0m",
      "\u001b[0;31mValueError\u001b[0m                                Traceback (most recent call last)",
      "\u001b[0;32m<ipython-input-50-c81457d8460d>\u001b[0m in \u001b[0;36m<module>\u001b[0;34m\u001b[0m\n\u001b[1;32m      7\u001b[0m \u001b[0;34m\u001b[0m\u001b[0m\n\u001b[1;32m      8\u001b[0m \u001b[0mplt\u001b[0m\u001b[0;34m.\u001b[0m\u001b[0mfigure\u001b[0m\u001b[0;34m(\u001b[0m\u001b[0;34m)\u001b[0m\u001b[0;34m\u001b[0m\u001b[0;34m\u001b[0m\u001b[0m\n\u001b[0;32m----> 9\u001b[0;31m \u001b[0msns\u001b[0m\u001b[0;34m.\u001b[0m\u001b[0mkdeplot\u001b[0m\u001b[0;34m(\u001b[0m\u001b[0mx\u001b[0m\u001b[0;34m=\u001b[0m\u001b[0mdata_raw\u001b[0m\u001b[0;34m[\u001b[0m\u001b[0;34m\"driver_age\"\u001b[0m\u001b[0;34m]\u001b[0m\u001b[0;34m,\u001b[0m \u001b[0mfill\u001b[0m\u001b[0;34m=\u001b[0m\u001b[0;32mTrue\u001b[0m\u001b[0;34m,\u001b[0m \u001b[0mdata\u001b[0m\u001b[0;34m=\u001b[0m\u001b[0mdata\u001b[0m\u001b[0;34m)\u001b[0m\u001b[0;34m\u001b[0m\u001b[0;34m\u001b[0m\u001b[0m\n\u001b[0m\u001b[1;32m     10\u001b[0m \u001b[0mplt\u001b[0m\u001b[0;34m.\u001b[0m\u001b[0mshow\u001b[0m\u001b[0;34m(\u001b[0m\u001b[0;34m)\u001b[0m\u001b[0;34m\u001b[0m\u001b[0;34m\u001b[0m\u001b[0m\n",
      "\u001b[0;32m~/opt/anaconda3/lib/python3.7/site-packages/seaborn/distributions.py\u001b[0m in \u001b[0;36mkdeplot\u001b[0;34m(data, data2, shade, vertical, kernel, bw, gridsize, cut, clip, legend, cumulative, shade_lowest, cbar, cbar_ax, cbar_kws, ax, **kwargs)\u001b[0m\n\u001b[1;32m    665\u001b[0m         \u001b[0;32mreturn\u001b[0m \u001b[0max\u001b[0m\u001b[0;34m\u001b[0m\u001b[0;34m\u001b[0m\u001b[0m\n\u001b[1;32m    666\u001b[0m \u001b[0;34m\u001b[0m\u001b[0m\n\u001b[0;32m--> 667\u001b[0;31m     \u001b[0mdata\u001b[0m \u001b[0;34m=\u001b[0m \u001b[0mdata\u001b[0m\u001b[0;34m.\u001b[0m\u001b[0mastype\u001b[0m\u001b[0;34m(\u001b[0m\u001b[0mnp\u001b[0m\u001b[0;34m.\u001b[0m\u001b[0mfloat64\u001b[0m\u001b[0;34m)\u001b[0m\u001b[0;34m\u001b[0m\u001b[0;34m\u001b[0m\u001b[0m\n\u001b[0m\u001b[1;32m    668\u001b[0m     \u001b[0;32mif\u001b[0m \u001b[0mdata2\u001b[0m \u001b[0;32mis\u001b[0m \u001b[0;32mnot\u001b[0m \u001b[0;32mNone\u001b[0m\u001b[0;34m:\u001b[0m\u001b[0;34m\u001b[0m\u001b[0;34m\u001b[0m\u001b[0m\n\u001b[1;32m    669\u001b[0m         \u001b[0;32mif\u001b[0m \u001b[0misinstance\u001b[0m\u001b[0;34m(\u001b[0m\u001b[0mdata2\u001b[0m\u001b[0;34m,\u001b[0m \u001b[0mlist\u001b[0m\u001b[0;34m)\u001b[0m\u001b[0;34m:\u001b[0m\u001b[0;34m\u001b[0m\u001b[0;34m\u001b[0m\u001b[0m\n",
      "\u001b[0;32m~/opt/anaconda3/lib/python3.7/site-packages/pandas/core/generic.py\u001b[0m in \u001b[0;36mastype\u001b[0;34m(self, dtype, copy, errors)\u001b[0m\n\u001b[1;32m   5696\u001b[0m         \u001b[0;32melse\u001b[0m\u001b[0;34m:\u001b[0m\u001b[0;34m\u001b[0m\u001b[0;34m\u001b[0m\u001b[0m\n\u001b[1;32m   5697\u001b[0m             \u001b[0;31m# else, only a single dtype is given\u001b[0m\u001b[0;34m\u001b[0m\u001b[0;34m\u001b[0m\u001b[0;34m\u001b[0m\u001b[0m\n\u001b[0;32m-> 5698\u001b[0;31m             \u001b[0mnew_data\u001b[0m \u001b[0;34m=\u001b[0m \u001b[0mself\u001b[0m\u001b[0;34m.\u001b[0m\u001b[0m_data\u001b[0m\u001b[0;34m.\u001b[0m\u001b[0mastype\u001b[0m\u001b[0;34m(\u001b[0m\u001b[0mdtype\u001b[0m\u001b[0;34m=\u001b[0m\u001b[0mdtype\u001b[0m\u001b[0;34m,\u001b[0m \u001b[0mcopy\u001b[0m\u001b[0;34m=\u001b[0m\u001b[0mcopy\u001b[0m\u001b[0;34m,\u001b[0m \u001b[0merrors\u001b[0m\u001b[0;34m=\u001b[0m\u001b[0merrors\u001b[0m\u001b[0;34m)\u001b[0m\u001b[0;34m\u001b[0m\u001b[0;34m\u001b[0m\u001b[0m\n\u001b[0m\u001b[1;32m   5699\u001b[0m             \u001b[0;32mreturn\u001b[0m \u001b[0mself\u001b[0m\u001b[0;34m.\u001b[0m\u001b[0m_constructor\u001b[0m\u001b[0;34m(\u001b[0m\u001b[0mnew_data\u001b[0m\u001b[0;34m)\u001b[0m\u001b[0;34m.\u001b[0m\u001b[0m__finalize__\u001b[0m\u001b[0;34m(\u001b[0m\u001b[0mself\u001b[0m\u001b[0;34m)\u001b[0m\u001b[0;34m\u001b[0m\u001b[0;34m\u001b[0m\u001b[0m\n\u001b[1;32m   5700\u001b[0m \u001b[0;34m\u001b[0m\u001b[0m\n",
      "\u001b[0;32m~/opt/anaconda3/lib/python3.7/site-packages/pandas/core/internals/managers.py\u001b[0m in \u001b[0;36mastype\u001b[0;34m(self, dtype, copy, errors)\u001b[0m\n\u001b[1;32m    580\u001b[0m \u001b[0;34m\u001b[0m\u001b[0m\n\u001b[1;32m    581\u001b[0m     \u001b[0;32mdef\u001b[0m \u001b[0mastype\u001b[0m\u001b[0;34m(\u001b[0m\u001b[0mself\u001b[0m\u001b[0;34m,\u001b[0m \u001b[0mdtype\u001b[0m\u001b[0;34m,\u001b[0m \u001b[0mcopy\u001b[0m\u001b[0;34m:\u001b[0m \u001b[0mbool\u001b[0m \u001b[0;34m=\u001b[0m \u001b[0;32mFalse\u001b[0m\u001b[0;34m,\u001b[0m \u001b[0merrors\u001b[0m\u001b[0;34m:\u001b[0m \u001b[0mstr\u001b[0m \u001b[0;34m=\u001b[0m \u001b[0;34m\"raise\"\u001b[0m\u001b[0;34m)\u001b[0m\u001b[0;34m:\u001b[0m\u001b[0;34m\u001b[0m\u001b[0;34m\u001b[0m\u001b[0m\n\u001b[0;32m--> 582\u001b[0;31m         \u001b[0;32mreturn\u001b[0m \u001b[0mself\u001b[0m\u001b[0;34m.\u001b[0m\u001b[0mapply\u001b[0m\u001b[0;34m(\u001b[0m\u001b[0;34m\"astype\"\u001b[0m\u001b[0;34m,\u001b[0m \u001b[0mdtype\u001b[0m\u001b[0;34m=\u001b[0m\u001b[0mdtype\u001b[0m\u001b[0;34m,\u001b[0m \u001b[0mcopy\u001b[0m\u001b[0;34m=\u001b[0m\u001b[0mcopy\u001b[0m\u001b[0;34m,\u001b[0m \u001b[0merrors\u001b[0m\u001b[0;34m=\u001b[0m\u001b[0merrors\u001b[0m\u001b[0;34m)\u001b[0m\u001b[0;34m\u001b[0m\u001b[0;34m\u001b[0m\u001b[0m\n\u001b[0m\u001b[1;32m    583\u001b[0m \u001b[0;34m\u001b[0m\u001b[0m\n\u001b[1;32m    584\u001b[0m     \u001b[0;32mdef\u001b[0m \u001b[0mconvert\u001b[0m\u001b[0;34m(\u001b[0m\u001b[0mself\u001b[0m\u001b[0;34m,\u001b[0m \u001b[0;34m**\u001b[0m\u001b[0mkwargs\u001b[0m\u001b[0;34m)\u001b[0m\u001b[0;34m:\u001b[0m\u001b[0;34m\u001b[0m\u001b[0;34m\u001b[0m\u001b[0m\n",
      "\u001b[0;32m~/opt/anaconda3/lib/python3.7/site-packages/pandas/core/internals/managers.py\u001b[0m in \u001b[0;36mapply\u001b[0;34m(self, f, filter, **kwargs)\u001b[0m\n\u001b[1;32m    440\u001b[0m                 \u001b[0mapplied\u001b[0m \u001b[0;34m=\u001b[0m \u001b[0mb\u001b[0m\u001b[0;34m.\u001b[0m\u001b[0mapply\u001b[0m\u001b[0;34m(\u001b[0m\u001b[0mf\u001b[0m\u001b[0;34m,\u001b[0m \u001b[0;34m**\u001b[0m\u001b[0mkwargs\u001b[0m\u001b[0;34m)\u001b[0m\u001b[0;34m\u001b[0m\u001b[0;34m\u001b[0m\u001b[0m\n\u001b[1;32m    441\u001b[0m             \u001b[0;32melse\u001b[0m\u001b[0;34m:\u001b[0m\u001b[0;34m\u001b[0m\u001b[0;34m\u001b[0m\u001b[0m\n\u001b[0;32m--> 442\u001b[0;31m                 \u001b[0mapplied\u001b[0m \u001b[0;34m=\u001b[0m \u001b[0mgetattr\u001b[0m\u001b[0;34m(\u001b[0m\u001b[0mb\u001b[0m\u001b[0;34m,\u001b[0m \u001b[0mf\u001b[0m\u001b[0;34m)\u001b[0m\u001b[0;34m(\u001b[0m\u001b[0;34m**\u001b[0m\u001b[0mkwargs\u001b[0m\u001b[0;34m)\u001b[0m\u001b[0;34m\u001b[0m\u001b[0;34m\u001b[0m\u001b[0m\n\u001b[0m\u001b[1;32m    443\u001b[0m             \u001b[0mresult_blocks\u001b[0m \u001b[0;34m=\u001b[0m \u001b[0m_extend_blocks\u001b[0m\u001b[0;34m(\u001b[0m\u001b[0mapplied\u001b[0m\u001b[0;34m,\u001b[0m \u001b[0mresult_blocks\u001b[0m\u001b[0;34m)\u001b[0m\u001b[0;34m\u001b[0m\u001b[0;34m\u001b[0m\u001b[0m\n\u001b[1;32m    444\u001b[0m \u001b[0;34m\u001b[0m\u001b[0m\n",
      "\u001b[0;32m~/opt/anaconda3/lib/python3.7/site-packages/pandas/core/internals/blocks.py\u001b[0m in \u001b[0;36mastype\u001b[0;34m(self, dtype, copy, errors)\u001b[0m\n\u001b[1;32m    623\u001b[0m             \u001b[0mvals1d\u001b[0m \u001b[0;34m=\u001b[0m \u001b[0mvalues\u001b[0m\u001b[0;34m.\u001b[0m\u001b[0mravel\u001b[0m\u001b[0;34m(\u001b[0m\u001b[0;34m)\u001b[0m\u001b[0;34m\u001b[0m\u001b[0;34m\u001b[0m\u001b[0m\n\u001b[1;32m    624\u001b[0m             \u001b[0;32mtry\u001b[0m\u001b[0;34m:\u001b[0m\u001b[0;34m\u001b[0m\u001b[0;34m\u001b[0m\u001b[0m\n\u001b[0;32m--> 625\u001b[0;31m                 \u001b[0mvalues\u001b[0m \u001b[0;34m=\u001b[0m \u001b[0mastype_nansafe\u001b[0m\u001b[0;34m(\u001b[0m\u001b[0mvals1d\u001b[0m\u001b[0;34m,\u001b[0m \u001b[0mdtype\u001b[0m\u001b[0;34m,\u001b[0m \u001b[0mcopy\u001b[0m\u001b[0;34m=\u001b[0m\u001b[0;32mTrue\u001b[0m\u001b[0;34m)\u001b[0m\u001b[0;34m\u001b[0m\u001b[0;34m\u001b[0m\u001b[0m\n\u001b[0m\u001b[1;32m    626\u001b[0m             \u001b[0;32mexcept\u001b[0m \u001b[0;34m(\u001b[0m\u001b[0mValueError\u001b[0m\u001b[0;34m,\u001b[0m \u001b[0mTypeError\u001b[0m\u001b[0;34m)\u001b[0m\u001b[0;34m:\u001b[0m\u001b[0;34m\u001b[0m\u001b[0;34m\u001b[0m\u001b[0m\n\u001b[1;32m    627\u001b[0m                 \u001b[0;31m# e.g. astype_nansafe can fail on object-dtype of strings\u001b[0m\u001b[0;34m\u001b[0m\u001b[0;34m\u001b[0m\u001b[0;34m\u001b[0m\u001b[0m\n",
      "\u001b[0;32m~/opt/anaconda3/lib/python3.7/site-packages/pandas/core/dtypes/cast.py\u001b[0m in \u001b[0;36mastype_nansafe\u001b[0;34m(arr, dtype, copy, skipna)\u001b[0m\n\u001b[1;32m    895\u001b[0m     \u001b[0;32mif\u001b[0m \u001b[0mcopy\u001b[0m \u001b[0;32mor\u001b[0m \u001b[0mis_object_dtype\u001b[0m\u001b[0;34m(\u001b[0m\u001b[0marr\u001b[0m\u001b[0;34m)\u001b[0m \u001b[0;32mor\u001b[0m \u001b[0mis_object_dtype\u001b[0m\u001b[0;34m(\u001b[0m\u001b[0mdtype\u001b[0m\u001b[0;34m)\u001b[0m\u001b[0;34m:\u001b[0m\u001b[0;34m\u001b[0m\u001b[0;34m\u001b[0m\u001b[0m\n\u001b[1;32m    896\u001b[0m         \u001b[0;31m# Explicit copy, or required since NumPy can't view from / to object.\u001b[0m\u001b[0;34m\u001b[0m\u001b[0;34m\u001b[0m\u001b[0;34m\u001b[0m\u001b[0m\n\u001b[0;32m--> 897\u001b[0;31m         \u001b[0;32mreturn\u001b[0m \u001b[0marr\u001b[0m\u001b[0;34m.\u001b[0m\u001b[0mastype\u001b[0m\u001b[0;34m(\u001b[0m\u001b[0mdtype\u001b[0m\u001b[0;34m,\u001b[0m \u001b[0mcopy\u001b[0m\u001b[0;34m=\u001b[0m\u001b[0;32mTrue\u001b[0m\u001b[0;34m)\u001b[0m\u001b[0;34m\u001b[0m\u001b[0;34m\u001b[0m\u001b[0m\n\u001b[0m\u001b[1;32m    898\u001b[0m \u001b[0;34m\u001b[0m\u001b[0m\n\u001b[1;32m    899\u001b[0m     \u001b[0;32mreturn\u001b[0m \u001b[0marr\u001b[0m\u001b[0;34m.\u001b[0m\u001b[0mview\u001b[0m\u001b[0;34m(\u001b[0m\u001b[0mdtype\u001b[0m\u001b[0;34m)\u001b[0m\u001b[0;34m\u001b[0m\u001b[0;34m\u001b[0m\u001b[0m\n",
      "\u001b[0;31mValueError\u001b[0m: could not convert string to float: 'M'"
     ]
    },
    {
     "data": {
      "image/png": "[encoded data removed]",
      "text/plain": [
       "<Figure size 432x288 with 1 Axes>"
      ]
     },
     "metadata": {
      "needs_background": "light"
     },
     "output_type": "display_data"
    }
   ],
   "source": [
    "import seaborn as sns\n",
    "\n",
    "#plt.rcParams[\"figure.figsize\"]=12,8\n",
    "#sns.kdeplot(data=data_raw[\"driver_age\"])\n",
    "#plt.show()\n",
    "\n",
    "\n",
    "plt.figure()\n",
    "sns.kdeplot(x=data_raw[\"driver_age\"], fill=True, data=data)\n",
    "plt.show()"
   ]
  },
  {
   "cell_type": "code",
   "execution_count": 60,
   "metadata": {
    "pycharm": {
     "is_executing": true
    }
   },
   "outputs": [
    {
     "name": "stdout",
     "output_type": "stream",
     "text": [
      "41.86862544673168 0 99\n"
     ]
    }
   ],
   "source": [
    "age_mean=data_raw[\"driver_age\"].mean()\n",
    "age_min=data_raw[\"driver_age\"].min()\n",
    "age_max=data_raw[\"driver_age\"].max()\n",
    "age_counts = data_raw[\"driver_age\"].value_counts()\n",
    "print(age_mean,age_min,age_max)"
   ]
  },
  {
   "cell_type": "markdown",
   "metadata": {},
   "source": [
    "IN US official driving age can be at least 14:14–16 (for permit) 16–17 (for restricted license) 17–18 (for unrestricted license))\n",
    "Thus We will drop the ages under 14, which are meaningless in our research:\n",
    "\n",
    "\n",
    "We will split data according to ages:\n",
    "young:[14,29]\n",
    "middle age : [30,59]\n",
    "old : [60,99]"
   ]
  },
  {
   "cell_type": "code",
   "execution_count": 61,
   "metadata": {
    "pycharm": {
     "is_executing": true
    }
   },
   "outputs": [],
   "source": [
    "#Split into the groups according to driver_age columns:\n",
    "data_young=data_raw[(data_raw['driver_age'] >= 14) & (data_raw['driver_age'] < 30)]\n",
    "data_middle=data_raw[(data_raw['driver_age'] >= 30) & (data_raw['driver_age'] < 60)]\n",
    "data_old=data_raw[(data_raw['driver_age'] >= 60) & (data_raw['driver_age'] < 99)]\n",
    "\n",
    "\n",
    "\n",
    "group_young=(X_test['driver_age'] >= 14) & (X_test['driver_age'] < 30)\n",
    "group_middle=(X_test['driver_age'] >= 30) & (X_test['driver_age'] < 60)\n",
    "group_old=(X_test['driver_age'] >= 60) & (X_test['driver_age'] <= 99 )"
   ]
  },
  {
   "cell_type": "code",
   "execution_count": 62,
   "metadata": {
    "pycharm": {
     "is_executing": true
    }
   },
   "outputs": [
    {
     "name": "stderr",
     "output_type": "stream",
     "text": [
      "/Users/umutekingezer/opt/anaconda3/lib/python3.7/site-packages/numpy/core/_asarray.py:83: VisibleDeprecationWarning: Creating an ndarray from ragged nested sequences (which is a list-or-tuple of lists-or-tuples-or ndarrays with different lengths or shapes) is deprecated. If you meant to do this, you must specify 'dtype=object' when creating the ndarray\n",
      "  return array(a, dtype, copy=False, order=order)\n"
     ]
    },
    {
     "data": {
      "image/png": "[encoded data removed]",
      "text/plain": [
       "<Figure size 576x360 with 1 Axes>"
      ]
     },
     "metadata": {
      "needs_background": "light"
     },
     "output_type": "display_data"
    }
   ],
   "source": [
    "#Plot the distribution\n",
    "plt.figure(figsize=(8,5))\n",
    "\n",
    "\n",
    "plt.hist([data_raw['stop_outcome'], data_young['stop_outcome'], data_middle['stop_outcome'],data_old['stop_outcome']], density=True, \n",
    "           label=['Overall', 'Young', 'Middle Aged','Old'])\n",
    "\n",
    "plt.xlabel('Stop Outcomes')\n",
    "plt.title('Distribution of Stop Outcomes Density (in range 0-10) among age groups')\n",
    "plt.legend(loc='best')\n",
    "plt.show()"
   ]
  },
  {
   "cell_type": "code",
   "execution_count": 63,
   "metadata": {
    "pycharm": {
     "is_executing": true
    }
   },
   "outputs": [
    {
     "data": {
      "text/html": [
       "<div>\n",
       "<style scoped>\n",
       "    .dataframe tbody tr th:only-of-type {\n",
       "        vertical-align: middle;\n",
       "    }\n",
       "\n",
       "    .dataframe tbody tr th {\n",
       "        vertical-align: top;\n",
       "    }\n",
       "\n",
       "    .dataframe thead th {\n",
       "        text-align: right;\n",
       "    }\n",
       "</style>\n",
       "<table border=\"1\" class=\"dataframe\">\n",
       "  <thead>\n",
       "    <tr style=\"text-align: right;\">\n",
       "      <th></th>\n",
       "      <th>state</th>\n",
       "      <th>stop_date</th>\n",
       "      <th>driver_gender</th>\n",
       "      <th>driver_race_raw</th>\n",
       "      <th>driver_race</th>\n",
       "      <th>violation</th>\n",
       "      <th>search_type</th>\n",
       "      <th>contraband_found</th>\n",
       "      <th>stop_outcome</th>\n",
       "      <th>search_basis</th>\n",
       "      <th>officer_id</th>\n",
       "      <th>drugs_related_stop</th>\n",
       "      <th>district</th>\n",
       "      <th>driver_age</th>\n",
       "    </tr>\n",
       "  </thead>\n",
       "  <tbody>\n",
       "    <tr>\n",
       "      <th>0</th>\n",
       "      <td>NC</td>\n",
       "      <td>2000-07-31</td>\n",
       "      <td>M</td>\n",
       "      <td>W N</td>\n",
       "      <td>White</td>\n",
       "      <td>Speeding</td>\n",
       "      <td>No Search Conducted</td>\n",
       "      <td>False</td>\n",
       "      <td>Arrest</td>\n",
       "      <td>No Search Conducted</td>\n",
       "      <td>10606</td>\n",
       "      <td>False</td>\n",
       "      <td>E3</td>\n",
       "      <td>23</td>\n",
       "    </tr>\n",
       "    <tr>\n",
       "      <th>1</th>\n",
       "      <td>NC</td>\n",
       "      <td>2000-07-31</td>\n",
       "      <td>F</td>\n",
       "      <td>W N</td>\n",
       "      <td>White</td>\n",
       "      <td>Speeding</td>\n",
       "      <td>No Search Conducted</td>\n",
       "      <td>False</td>\n",
       "      <td>Arrest</td>\n",
       "      <td>No Search Conducted</td>\n",
       "      <td>10606</td>\n",
       "      <td>False</td>\n",
       "      <td>E3</td>\n",
       "      <td>29</td>\n",
       "    </tr>\n",
       "    <tr>\n",
       "      <th>3</th>\n",
       "      <td>NC</td>\n",
       "      <td>2000-07-31</td>\n",
       "      <td>M</td>\n",
       "      <td>B N</td>\n",
       "      <td>Black</td>\n",
       "      <td>Speeding</td>\n",
       "      <td>No Search Conducted</td>\n",
       "      <td>False</td>\n",
       "      <td>Arrest</td>\n",
       "      <td>No Search Conducted</td>\n",
       "      <td>10606</td>\n",
       "      <td>False</td>\n",
       "      <td>E3</td>\n",
       "      <td>29</td>\n",
       "    </tr>\n",
       "    <tr>\n",
       "      <th>4</th>\n",
       "      <td>NC</td>\n",
       "      <td>2000-07-31</td>\n",
       "      <td>M</td>\n",
       "      <td>U H</td>\n",
       "      <td>Hispanic</td>\n",
       "      <td>Speeding</td>\n",
       "      <td>No Search Conducted</td>\n",
       "      <td>False</td>\n",
       "      <td>Arrest</td>\n",
       "      <td>No Search Conducted</td>\n",
       "      <td>10606</td>\n",
       "      <td>False</td>\n",
       "      <td>E3</td>\n",
       "      <td>24</td>\n",
       "    </tr>\n",
       "    <tr>\n",
       "      <th>5</th>\n",
       "      <td>NC</td>\n",
       "      <td>2000-07-31</td>\n",
       "      <td>M</td>\n",
       "      <td>B N</td>\n",
       "      <td>Black</td>\n",
       "      <td>Speeding</td>\n",
       "      <td>No Search Conducted</td>\n",
       "      <td>False</td>\n",
       "      <td>Arrest</td>\n",
       "      <td>No Search Conducted</td>\n",
       "      <td>10606</td>\n",
       "      <td>False</td>\n",
       "      <td>E3</td>\n",
       "      <td>21</td>\n",
       "    </tr>\n",
       "    <tr>\n",
       "      <th>...</th>\n",
       "      <td>...</td>\n",
       "      <td>...</td>\n",
       "      <td>...</td>\n",
       "      <td>...</td>\n",
       "      <td>...</td>\n",
       "      <td>...</td>\n",
       "      <td>...</td>\n",
       "      <td>...</td>\n",
       "      <td>...</td>\n",
       "      <td>...</td>\n",
       "      <td>...</td>\n",
       "      <td>...</td>\n",
       "      <td>...</td>\n",
       "      <td>...</td>\n",
       "    </tr>\n",
       "    <tr>\n",
       "      <th>402079</th>\n",
       "      <td>NC</td>\n",
       "      <td>2015-12-31</td>\n",
       "      <td>M</td>\n",
       "      <td>W N</td>\n",
       "      <td>White</td>\n",
       "      <td>DUI</td>\n",
       "      <td>Incident to Arrest</td>\n",
       "      <td>False</td>\n",
       "      <td>Arrest</td>\n",
       "      <td>Observation Suspected Contraband</td>\n",
       "      <td>21134</td>\n",
       "      <td>False</td>\n",
       "      <td>E1</td>\n",
       "      <td>21</td>\n",
       "    </tr>\n",
       "    <tr>\n",
       "      <th>402082</th>\n",
       "      <td>NC</td>\n",
       "      <td>2015-12-31</td>\n",
       "      <td>M</td>\n",
       "      <td>W N</td>\n",
       "      <td>White</td>\n",
       "      <td>Speeding</td>\n",
       "      <td>Probable Cause</td>\n",
       "      <td>True</td>\n",
       "      <td>Arrest</td>\n",
       "      <td>Observation Suspected Contraband</td>\n",
       "      <td>21715</td>\n",
       "      <td>True</td>\n",
       "      <td>G3</td>\n",
       "      <td>18</td>\n",
       "    </tr>\n",
       "    <tr>\n",
       "      <th>402083</th>\n",
       "      <td>NC</td>\n",
       "      <td>2015-12-31</td>\n",
       "      <td>F</td>\n",
       "      <td>B N</td>\n",
       "      <td>Black</td>\n",
       "      <td>Registration/plates</td>\n",
       "      <td>Incident to Arrest</td>\n",
       "      <td>False</td>\n",
       "      <td>Arrest</td>\n",
       "      <td>Other Official Info</td>\n",
       "      <td>10592</td>\n",
       "      <td>False</td>\n",
       "      <td>G5</td>\n",
       "      <td>21</td>\n",
       "    </tr>\n",
       "    <tr>\n",
       "      <th>402084</th>\n",
       "      <td>NC</td>\n",
       "      <td>2015-12-31</td>\n",
       "      <td>F</td>\n",
       "      <td>W N</td>\n",
       "      <td>White</td>\n",
       "      <td>Speeding</td>\n",
       "      <td>Incident to Arrest</td>\n",
       "      <td>False</td>\n",
       "      <td>Arrest</td>\n",
       "      <td>Observation Suspected Contraband</td>\n",
       "      <td>21848</td>\n",
       "      <td>False</td>\n",
       "      <td>E1</td>\n",
       "      <td>29</td>\n",
       "    </tr>\n",
       "    <tr>\n",
       "      <th>402085</th>\n",
       "      <td>NC</td>\n",
       "      <td>2015-12-31</td>\n",
       "      <td>F</td>\n",
       "      <td>W N</td>\n",
       "      <td>White</td>\n",
       "      <td>Other</td>\n",
       "      <td>Probable Cause</td>\n",
       "      <td>True</td>\n",
       "      <td>Arrest</td>\n",
       "      <td>Observation Suspected Contraband</td>\n",
       "      <td>11887</td>\n",
       "      <td>True</td>\n",
       "      <td>F5</td>\n",
       "      <td>18</td>\n",
       "    </tr>\n",
       "  </tbody>\n",
       "</table>\n",
       "<p>83265 rows × 14 columns</p>\n",
       "</div>"
      ],
      "text/plain": [
       "       state   stop_date driver_gender driver_race_raw driver_race  \\\n",
       "0         NC  2000-07-31             M             W N       White   \n",
       "1         NC  2000-07-31             F             W N       White   \n",
       "3         NC  2000-07-31             M             B N       Black   \n",
       "4         NC  2000-07-31             M             U H    Hispanic   \n",
       "5         NC  2000-07-31             M             B N       Black   \n",
       "...      ...         ...           ...             ...         ...   \n",
       "402079    NC  2015-12-31             M             W N       White   \n",
       "402082    NC  2015-12-31             M             W N       White   \n",
       "402083    NC  2015-12-31             F             B N       Black   \n",
       "402084    NC  2015-12-31             F             W N       White   \n",
       "402085    NC  2015-12-31             F             W N       White   \n",
       "\n",
       "                  violation          search_type contraband_found  \\\n",
       "0                  Speeding  No Search Conducted            False   \n",
       "1                  Speeding  No Search Conducted            False   \n",
       "3                  Speeding  No Search Conducted            False   \n",
       "4                  Speeding  No Search Conducted            False   \n",
       "5                  Speeding  No Search Conducted            False   \n",
       "...                     ...                  ...              ...   \n",
       "402079                  DUI   Incident to Arrest            False   \n",
       "402082             Speeding       Probable Cause             True   \n",
       "402083  Registration/plates   Incident to Arrest            False   \n",
       "402084             Speeding   Incident to Arrest            False   \n",
       "402085                Other       Probable Cause             True   \n",
       "\n",
       "       stop_outcome                      search_basis officer_id  \\\n",
       "0            Arrest               No Search Conducted      10606   \n",
       "1            Arrest               No Search Conducted      10606   \n",
       "3            Arrest               No Search Conducted      10606   \n",
       "4            Arrest               No Search Conducted      10606   \n",
       "5            Arrest               No Search Conducted      10606   \n",
       "...             ...                               ...        ...   \n",
       "402079       Arrest  Observation Suspected Contraband      21134   \n",
       "402082       Arrest  Observation Suspected Contraband      21715   \n",
       "402083       Arrest               Other Official Info      10592   \n",
       "402084       Arrest  Observation Suspected Contraband      21848   \n",
       "402085       Arrest  Observation Suspected Contraband      11887   \n",
       "\n",
       "       drugs_related_stop district  driver_age  \n",
       "0                   False       E3          23  \n",
       "1                   False       E3          29  \n",
       "3                   False       E3          29  \n",
       "4                   False       E3          24  \n",
       "5                   False       E3          21  \n",
       "...                   ...      ...         ...  \n",
       "402079              False       E1          21  \n",
       "402082               True       G3          18  \n",
       "402083              False       G5          21  \n",
       "402084              False       E1          29  \n",
       "402085               True       F5          18  \n",
       "\n",
       "[83265 rows x 14 columns]"
      ]
     },
     "execution_count": 63,
     "metadata": {},
     "output_type": "execute_result"
    }
   ],
   "source": [
    "data_young"
   ]
  },
  {
   "cell_type": "code",
   "execution_count": 64,
   "metadata": {
    "pycharm": {
     "is_executing": true
    }
   },
   "outputs": [],
   "source": [
    "#take confusion matrix of both 3 groups\n",
    "\n",
    "cm_young = confusion_matrix(y_test[group_young], y_pred[group_young])\n",
    "cm_middle = confusion_matrix(y_test[group_middle], y_pred[group_middle])\n",
    "cm_old = confusion_matrix(y_test[group_old], y_pred[group_old])\n",
    "\n",
    "\n",
    "\n",
    "\n",
    "tn_young, fp_young, fn_young, tp_young = cm_young.ravel()\n",
    "tn_middle, fp_middle, fn_middle, tp_middle = cm_middle.ravel()\n",
    "tn_old, fp_old, fn_old, tp_old = cm_old.ravel()\n"
   ]
  },
  {
   "cell_type": "code",
   "execution_count": 65,
   "metadata": {
    "pycharm": {
     "is_executing": true
    }
   },
   "outputs": [
    {
     "data": {
      "text/plain": [
       "<Figure size 432x288 with 0 Axes>"
      ]
     },
     "metadata": {},
     "output_type": "display_data"
    },
    {
     "data": {
      "image/png": "[encoded data removed]",
      "text/plain": [
       "<Figure size 432x288 with 2 Axes>"
      ]
     },
     "metadata": {
      "needs_background": "light"
     },
     "output_type": "display_data"
    },
    {
     "data": {
      "text/plain": [
       "<Figure size 432x288 with 0 Axes>"
      ]
     },
     "metadata": {},
     "output_type": "display_data"
    },
    {
     "data": {
      "image/png": "[encoded data removed]",
      "text/plain": [
       "<Figure size 432x288 with 2 Axes>"
      ]
     },
     "metadata": {
      "needs_background": "light"
     },
     "output_type": "display_data"
    },
    {
     "data": {
      "text/plain": [
       "<Figure size 432x288 with 0 Axes>"
      ]
     },
     "metadata": {},
     "output_type": "display_data"
    },
    {
     "data": {
      "image/png": "[encoded data removed]",
      "text/plain": [
       "<Figure size 432x288 with 2 Axes>"
      ]
     },
     "metadata": {
      "needs_background": "light"
     },
     "output_type": "display_data"
    }
   ],
   "source": [
    "plt.figure()\n",
    "disp = ConfusionMatrixDisplay(confusion_matrix=cm_young, display_labels=['Arrest', 'No Action'])\n",
    "disp.plot()\n",
    "plt.xticks(rotation=45)\n",
    "plt.grid(False)\n",
    "plt.title(\"Confusion matrix for Young People\")\n",
    "plt.show()\n",
    "\n",
    "plt.figure()\n",
    "disp = ConfusionMatrixDisplay(confusion_matrix=cm_middle, display_labels=['Arrest', 'No Action'])\n",
    "disp.plot()\n",
    "plt.xticks(rotation=45)\n",
    "plt.grid(False)\n",
    "plt.title(\"Confusion matrix for Middle Aged People\")\n",
    "plt.show()\n",
    "\n",
    "plt.figure()\n",
    "disp = ConfusionMatrixDisplay(confusion_matrix=cm_old, display_labels=['Arrest', 'No Action'])\n",
    "disp.plot()\n",
    "plt.xticks(rotation=45)\n",
    "plt.grid(False)\n",
    "plt.title(\"Confusion matrix for Old People\")\n",
    "plt.show()\n",
    "\n",
    "\n",
    "# TODO :Collect them into the one plot like gender and ethnicity !!"
   ]
  },
  {
   "cell_type": "markdown",
   "metadata": {},
   "source": [
    "# Independence for Age Groups"
   ]
  },
  {
   "cell_type": "code",
   "execution_count": 66,
   "metadata": {
    "pycharm": {
     "is_executing": true
    }
   },
   "outputs": [
    {
     "name": "stdout",
     "output_type": "stream",
     "text": [
      "Independence of Young People           :\t 0.4089016970861351\n",
      "Independence of Middle Aged People     :\t 0.8002183406113537\n",
      "Independence of Old People             :\t 0.940403773252226\n"
     ]
    }
   ],
   "source": [
    "independence_young=independence(tn_young, fp_young, fn_young, tp_young)\n",
    "independence_middle=independence(tn_middle, fp_middle, fn_middle, tp_middle)\n",
    "independence_old=independence(tn_old, fp_old, fn_old, tp_old)\n",
    "\n",
    "\n",
    "print('Independence of Young People           :\\t',independence_young)\n",
    "print('Independence of Middle Aged People     :\\t',independence_middle)\n",
    "print('Independence of Old People             :\\t',independence_old)"
   ]
  },
  {
   "cell_type": "markdown",
   "metadata": {},
   "source": [
    "# Seperation for Age Groups"
   ]
  },
  {
   "cell_type": "code",
   "execution_count": 67,
   "metadata": {
    "pycharm": {
     "is_executing": true
    }
   },
   "outputs": [
    {
     "name": "stdout",
     "output_type": "stream",
     "text": [
      "Separation Y1 Young People         :\t 0.7276820673453407\n",
      "Separation Y1 Middle Aged People   :\t 0.945296280918204\n",
      "Separation Y1 Old People           :\t 0.968032248992219\n",
      "*****************************************************************\n",
      "Separation Y0 Young People         :\t 0.9416305525460456\n",
      "Separation Y0 Middle Aged People   :\t 0.9306248515086719\n",
      "Separation Y0 Old People           :\t 0.9275147928994083\n"
     ]
    }
   ],
   "source": [
    "(separation_young_y1,separation_young_y0) = separation(tn_young, fp_young, fn_young, tp_young)\n",
    "(separation_middle_y1,separation_middle_y0) = separation(tn_middle, fp_middle, fn_middle, tp_middle)\n",
    "(separation_old_y1,separation_old_y0) = separation(tn_old, fp_old, fn_old, tp_old)\n",
    "\n",
    "\n",
    "\n",
    "print('Separation Y1 Young People         :\\t',separation_young_y1)\n",
    "print('Separation Y1 Middle Aged People   :\\t',separation_middle_y1)\n",
    "print('Separation Y1 Old People           :\\t',separation_old_y1)\n",
    "print(\"*\"*65)\n",
    "print('Separation Y0 Young People         :\\t',separation_young_y0)\n",
    "print('Separation Y0 Middle Aged People   :\\t',separation_middle_y0)\n",
    "print('Separation Y0 Old People           :\\t',separation_old_y0)"
   ]
  },
  {
   "cell_type": "markdown",
   "metadata": {},
   "source": [
    "# Sufficiency for Age Groups"
   ]
  },
  {
   "cell_type": "code",
   "execution_count": 68,
   "metadata": {
    "pycharm": {
     "is_executing": true
    }
   },
   "outputs": [
    {
     "name": "stdout",
     "output_type": "stream",
     "text": [
      "Sufficiency R1 Young People           :\t 0.8960945033751205\n",
      "Sufficiency R1 Middle Aged People     :\t 0.9820072402372333\n",
      "Sufficiency R1 Old People             :\t 0.995277108433735\n",
      "*****************************************************************\n",
      "Sufficiency R0 Young People           :\t 0.16670661553211888\n",
      "Sufficiency R0 Middle Aged People     :\t 0.19057705222916774\n",
      "Sufficiency R0 Old People             :\t 0.3522727272727273\n"
     ]
    }
   ],
   "source": [
    "(sufficiency_young_r1,sufficiency_young_r0) = sufficiency(tn_young, fp_young, fn_young, tp_young)\n",
    "(sufficiency_middle_r1,sufficiency_middle_r0) = sufficiency(tn_middle, fp_middle, fn_middle, tp_middle)\n",
    "(sufficiency_old_r1,sufficiency_old_r0)=sufficiency(tn_old, fp_old, fn_old, tp_old)\n",
    "\n",
    "\n",
    "\n",
    "print('Sufficiency R1 Young People           :\\t',sufficiency_young_r1)\n",
    "print('Sufficiency R1 Middle Aged People     :\\t',sufficiency_middle_r1)\n",
    "print('Sufficiency R1 Old People             :\\t',sufficiency_old_r1)\n",
    "print(\"*\"*65)\n",
    "print('Sufficiency R0 Young People           :\\t',sufficiency_young_r0)\n",
    "print('Sufficiency R0 Middle Aged People     :\\t',sufficiency_middle_r0)\n",
    "print('Sufficiency R0 Old People             :\\t',sufficiency_old_r0)\n"
   ]
  },
  {
   "cell_type": "markdown",
   "metadata": {},
   "source": [
    "# What do you notice? question must be answered !!"
   ]
  },
  {
   "cell_type": "markdown",
   "metadata": {},
   "source": [
    "As the results suggest, unbiased unitary nature of law, unfortunately, does not apply to real life cases. Many criminally irrelevant attributes such as but not limited to race, age and gender play an explicit role on the decisional outcome. For example data clarifies that the police tend to arrest citizens with hispanic and afro-american heritage more than the white, while positive distinction applied to males and can also be observed. Moreover, the distribution of age among the respective cases of arrest and no action also reveals that the chance of being arrested increases first and then starts to decrease after early 20's. "
   ]
  },
  {
   "cell_type": "markdown",
   "metadata": {},
   "source": [
    "# Task 4 :"
   ]
  },
  {
   "cell_type": "markdown",
   "metadata": {},
   "source": [
    "Exclude the features you used as sensitive characteristics from the training of the model. Check the new model for fairness. Is it fairer now? Why/why not?"
   ]
  },
  {
   "cell_type": "markdown",
   "metadata": {},
   "source": [
    "#The feautres driver_age, driver_gender and driver_race will be excluded, since according to Task 3 those features lead to biased prediction.In the chosen features race, age and gender includes sensitive characteristics due to human bias.\n",
    "\n",
    "#Lets create new X feature by excluding the sensitive characters represented columns.\n"
   ]
  },
  {
   "cell_type": "code",
   "execution_count": 69,
   "metadata": {
    "pycharm": {
     "is_executing": true
    }
   },
   "outputs": [
    {
     "data": {
      "text/html": [
       "<div>\n",
       "<style scoped>\n",
       "    .dataframe tbody tr th:only-of-type {\n",
       "        vertical-align: middle;\n",
       "    }\n",
       "\n",
       "    .dataframe tbody tr th {\n",
       "        vertical-align: top;\n",
       "    }\n",
       "\n",
       "    .dataframe thead th {\n",
       "        text-align: right;\n",
       "    }\n",
       "</style>\n",
       "<table border=\"1\" class=\"dataframe\">\n",
       "  <thead>\n",
       "    <tr style=\"text-align: right;\">\n",
       "      <th></th>\n",
       "      <th>Asian</th>\n",
       "      <th>Black</th>\n",
       "      <th>Hispanic</th>\n",
       "      <th>Other</th>\n",
       "      <th>White</th>\n",
       "      <th>driver_age</th>\n",
       "      <th>driver_gender</th>\n",
       "      <th>violation</th>\n",
       "      <th>contraband_found</th>\n",
       "      <th>drugs_related_stop</th>\n",
       "      <th>district</th>\n",
       "      <th>Erratic Suspicious Behaviour</th>\n",
       "      <th>Informant Tip</th>\n",
       "      <th>No Search Conducted</th>\n",
       "      <th>Observation Suspected Contraband</th>\n",
       "      <th>Other Official Info</th>\n",
       "      <th>Suspicious Movement</th>\n",
       "      <th>Witness Observation</th>\n",
       "    </tr>\n",
       "  </thead>\n",
       "  <tbody>\n",
       "    <tr>\n",
       "      <th>0</th>\n",
       "      <td>0</td>\n",
       "      <td>0</td>\n",
       "      <td>0</td>\n",
       "      <td>0</td>\n",
       "      <td>1</td>\n",
       "      <td>23</td>\n",
       "      <td>1</td>\n",
       "      <td>6</td>\n",
       "      <td>0</td>\n",
       "      <td>0</td>\n",
       "      <td>34</td>\n",
       "      <td>0</td>\n",
       "      <td>0</td>\n",
       "      <td>1</td>\n",
       "      <td>0</td>\n",
       "      <td>0</td>\n",
       "      <td>0</td>\n",
       "      <td>0</td>\n",
       "    </tr>\n",
       "    <tr>\n",
       "      <th>1</th>\n",
       "      <td>0</td>\n",
       "      <td>0</td>\n",
       "      <td>0</td>\n",
       "      <td>0</td>\n",
       "      <td>1</td>\n",
       "      <td>29</td>\n",
       "      <td>0</td>\n",
       "      <td>6</td>\n",
       "      <td>0</td>\n",
       "      <td>0</td>\n",
       "      <td>34</td>\n",
       "      <td>0</td>\n",
       "      <td>0</td>\n",
       "      <td>1</td>\n",
       "      <td>0</td>\n",
       "      <td>0</td>\n",
       "      <td>0</td>\n",
       "      <td>0</td>\n",
       "    </tr>\n",
       "    <tr>\n",
       "      <th>2</th>\n",
       "      <td>0</td>\n",
       "      <td>1</td>\n",
       "      <td>0</td>\n",
       "      <td>0</td>\n",
       "      <td>0</td>\n",
       "      <td>49</td>\n",
       "      <td>0</td>\n",
       "      <td>6</td>\n",
       "      <td>0</td>\n",
       "      <td>0</td>\n",
       "      <td>34</td>\n",
       "      <td>0</td>\n",
       "      <td>0</td>\n",
       "      <td>1</td>\n",
       "      <td>0</td>\n",
       "      <td>0</td>\n",
       "      <td>0</td>\n",
       "      <td>0</td>\n",
       "    </tr>\n",
       "    <tr>\n",
       "      <th>3</th>\n",
       "      <td>0</td>\n",
       "      <td>1</td>\n",
       "      <td>0</td>\n",
       "      <td>0</td>\n",
       "      <td>0</td>\n",
       "      <td>29</td>\n",
       "      <td>1</td>\n",
       "      <td>6</td>\n",
       "      <td>0</td>\n",
       "      <td>0</td>\n",
       "      <td>34</td>\n",
       "      <td>0</td>\n",
       "      <td>0</td>\n",
       "      <td>1</td>\n",
       "      <td>0</td>\n",
       "      <td>0</td>\n",
       "      <td>0</td>\n",
       "      <td>0</td>\n",
       "    </tr>\n",
       "    <tr>\n",
       "      <th>4</th>\n",
       "      <td>0</td>\n",
       "      <td>0</td>\n",
       "      <td>1</td>\n",
       "      <td>0</td>\n",
       "      <td>0</td>\n",
       "      <td>24</td>\n",
       "      <td>1</td>\n",
       "      <td>6</td>\n",
       "      <td>0</td>\n",
       "      <td>0</td>\n",
       "      <td>34</td>\n",
       "      <td>0</td>\n",
       "      <td>0</td>\n",
       "      <td>1</td>\n",
       "      <td>0</td>\n",
       "      <td>0</td>\n",
       "      <td>0</td>\n",
       "      <td>0</td>\n",
       "    </tr>\n",
       "    <tr>\n",
       "      <th>...</th>\n",
       "      <td>...</td>\n",
       "      <td>...</td>\n",
       "      <td>...</td>\n",
       "      <td>...</td>\n",
       "      <td>...</td>\n",
       "      <td>...</td>\n",
       "      <td>...</td>\n",
       "      <td>...</td>\n",
       "      <td>...</td>\n",
       "      <td>...</td>\n",
       "      <td>...</td>\n",
       "      <td>...</td>\n",
       "      <td>...</td>\n",
       "      <td>...</td>\n",
       "      <td>...</td>\n",
       "      <td>...</td>\n",
       "      <td>...</td>\n",
       "      <td>...</td>\n",
       "    </tr>\n",
       "    <tr>\n",
       "      <th>402082</th>\n",
       "      <td>0</td>\n",
       "      <td>0</td>\n",
       "      <td>0</td>\n",
       "      <td>0</td>\n",
       "      <td>1</td>\n",
       "      <td>18</td>\n",
       "      <td>1</td>\n",
       "      <td>6</td>\n",
       "      <td>1</td>\n",
       "      <td>1</td>\n",
       "      <td>47</td>\n",
       "      <td>0</td>\n",
       "      <td>0</td>\n",
       "      <td>0</td>\n",
       "      <td>1</td>\n",
       "      <td>0</td>\n",
       "      <td>0</td>\n",
       "      <td>0</td>\n",
       "    </tr>\n",
       "    <tr>\n",
       "      <th>402083</th>\n",
       "      <td>0</td>\n",
       "      <td>1</td>\n",
       "      <td>0</td>\n",
       "      <td>0</td>\n",
       "      <td>0</td>\n",
       "      <td>21</td>\n",
       "      <td>0</td>\n",
       "      <td>3</td>\n",
       "      <td>0</td>\n",
       "      <td>0</td>\n",
       "      <td>49</td>\n",
       "      <td>0</td>\n",
       "      <td>0</td>\n",
       "      <td>0</td>\n",
       "      <td>0</td>\n",
       "      <td>1</td>\n",
       "      <td>0</td>\n",
       "      <td>0</td>\n",
       "    </tr>\n",
       "    <tr>\n",
       "      <th>402084</th>\n",
       "      <td>0</td>\n",
       "      <td>0</td>\n",
       "      <td>0</td>\n",
       "      <td>0</td>\n",
       "      <td>1</td>\n",
       "      <td>29</td>\n",
       "      <td>0</td>\n",
       "      <td>6</td>\n",
       "      <td>0</td>\n",
       "      <td>0</td>\n",
       "      <td>32</td>\n",
       "      <td>0</td>\n",
       "      <td>0</td>\n",
       "      <td>0</td>\n",
       "      <td>1</td>\n",
       "      <td>0</td>\n",
       "      <td>0</td>\n",
       "      <td>0</td>\n",
       "    </tr>\n",
       "    <tr>\n",
       "      <th>402085</th>\n",
       "      <td>0</td>\n",
       "      <td>0</td>\n",
       "      <td>0</td>\n",
       "      <td>0</td>\n",
       "      <td>1</td>\n",
       "      <td>18</td>\n",
       "      <td>0</td>\n",
       "      <td>2</td>\n",
       "      <td>1</td>\n",
       "      <td>1</td>\n",
       "      <td>43</td>\n",
       "      <td>0</td>\n",
       "      <td>0</td>\n",
       "      <td>0</td>\n",
       "      <td>1</td>\n",
       "      <td>0</td>\n",
       "      <td>0</td>\n",
       "      <td>0</td>\n",
       "    </tr>\n",
       "    <tr>\n",
       "      <th>402086</th>\n",
       "      <td>0</td>\n",
       "      <td>0</td>\n",
       "      <td>1</td>\n",
       "      <td>0</td>\n",
       "      <td>0</td>\n",
       "      <td>31</td>\n",
       "      <td>1</td>\n",
       "      <td>2</td>\n",
       "      <td>0</td>\n",
       "      <td>0</td>\n",
       "      <td>29</td>\n",
       "      <td>0</td>\n",
       "      <td>0</td>\n",
       "      <td>0</td>\n",
       "      <td>0</td>\n",
       "      <td>1</td>\n",
       "      <td>0</td>\n",
       "      <td>0</td>\n",
       "    </tr>\n",
       "  </tbody>\n",
       "</table>\n",
       "<p>402087 rows × 18 columns</p>\n",
       "</div>"
      ],
      "text/plain": [
       "        Asian  Black  Hispanic  Other  White  driver_age  driver_gender  \\\n",
       "0           0      0         0      0      1          23              1   \n",
       "1           0      0         0      0      1          29              0   \n",
       "2           0      1         0      0      0          49              0   \n",
       "3           0      1         0      0      0          29              1   \n",
       "4           0      0         1      0      0          24              1   \n",
       "...       ...    ...       ...    ...    ...         ...            ...   \n",
       "402082      0      0         0      0      1          18              1   \n",
       "402083      0      1         0      0      0          21              0   \n",
       "402084      0      0         0      0      1          29              0   \n",
       "402085      0      0         0      0      1          18              0   \n",
       "402086      0      0         1      0      0          31              1   \n",
       "\n",
       "        violation  contraband_found  drugs_related_stop  district  \\\n",
       "0               6                 0                   0        34   \n",
       "1               6                 0                   0        34   \n",
       "2               6                 0                   0        34   \n",
       "3               6                 0                   0        34   \n",
       "4               6                 0                   0        34   \n",
       "...           ...               ...                 ...       ...   \n",
       "402082          6                 1                   1        47   \n",
       "402083          3                 0                   0        49   \n",
       "402084          6                 0                   0        32   \n",
       "402085          2                 1                   1        43   \n",
       "402086          2                 0                   0        29   \n",
       "\n",
       "        Erratic Suspicious Behaviour  Informant Tip  No Search Conducted  \\\n",
       "0                                  0              0                    1   \n",
       "1                                  0              0                    1   \n",
       "2                                  0              0                    1   \n",
       "3                                  0              0                    1   \n",
       "4                                  0              0                    1   \n",
       "...                              ...            ...                  ...   \n",
       "402082                             0              0                    0   \n",
       "402083                             0              0                    0   \n",
       "402084                             0              0                    0   \n",
       "402085                             0              0                    0   \n",
       "402086                             0              0                    0   \n",
       "\n",
       "        Observation Suspected Contraband  Other Official Info  \\\n",
       "0                                      0                    0   \n",
       "1                                      0                    0   \n",
       "2                                      0                    0   \n",
       "3                                      0                    0   \n",
       "4                                      0                    0   \n",
       "...                                  ...                  ...   \n",
       "402082                                 1                    0   \n",
       "402083                                 0                    1   \n",
       "402084                                 1                    0   \n",
       "402085                                 1                    0   \n",
       "402086                                 0                    1   \n",
       "\n",
       "        Suspicious Movement  Witness Observation  \n",
       "0                         0                    0  \n",
       "1                         0                    0  \n",
       "2                         0                    0  \n",
       "3                         0                    0  \n",
       "4                         0                    0  \n",
       "...                     ...                  ...  \n",
       "402082                    0                    0  \n",
       "402083                    0                    0  \n",
       "402084                    0                    0  \n",
       "402085                    0                    0  \n",
       "402086                    0                    0  \n",
       "\n",
       "[402087 rows x 18 columns]"
      ]
     },
     "execution_count": 69,
     "metadata": {},
     "output_type": "execute_result"
    }
   ],
   "source": [
    "X_encoded"
   ]
  },
  {
   "cell_type": "code",
   "execution_count": 70,
   "metadata": {
    "pycharm": {
     "is_executing": true
    }
   },
   "outputs": [],
   "source": [
    "\n",
    "X_unbiased=X_encoded\n",
    "X_unbiased.drop(['driver_gender', 'driver_age','Black', 'Hispanic','White','Asian','Other'], axis=1, inplace=True)"
   ]
  },
  {
   "cell_type": "code",
   "execution_count": 71,
   "metadata": {
    "pycharm": {
     "is_executing": true
    }
   },
   "outputs": [
    {
     "data": {
      "text/html": [
       "<div>\n",
       "<style scoped>\n",
       "    .dataframe tbody tr th:only-of-type {\n",
       "        vertical-align: middle;\n",
       "    }\n",
       "\n",
       "    .dataframe tbody tr th {\n",
       "        vertical-align: top;\n",
       "    }\n",
       "\n",
       "    .dataframe thead th {\n",
       "        text-align: right;\n",
       "    }\n",
       "</style>\n",
       "<table border=\"1\" class=\"dataframe\">\n",
       "  <thead>\n",
       "    <tr style=\"text-align: right;\">\n",
       "      <th></th>\n",
       "      <th>violation</th>\n",
       "      <th>contraband_found</th>\n",
       "      <th>drugs_related_stop</th>\n",
       "      <th>district</th>\n",
       "      <th>Erratic Suspicious Behaviour</th>\n",
       "      <th>Informant Tip</th>\n",
       "      <th>No Search Conducted</th>\n",
       "      <th>Observation Suspected Contraband</th>\n",
       "      <th>Other Official Info</th>\n",
       "      <th>Suspicious Movement</th>\n",
       "      <th>Witness Observation</th>\n",
       "    </tr>\n",
       "  </thead>\n",
       "  <tbody>\n",
       "    <tr>\n",
       "      <th>0</th>\n",
       "      <td>6</td>\n",
       "      <td>0</td>\n",
       "      <td>0</td>\n",
       "      <td>34</td>\n",
       "      <td>0</td>\n",
       "      <td>0</td>\n",
       "      <td>1</td>\n",
       "      <td>0</td>\n",
       "      <td>0</td>\n",
       "      <td>0</td>\n",
       "      <td>0</td>\n",
       "    </tr>\n",
       "    <tr>\n",
       "      <th>1</th>\n",
       "      <td>6</td>\n",
       "      <td>0</td>\n",
       "      <td>0</td>\n",
       "      <td>34</td>\n",
       "      <td>0</td>\n",
       "      <td>0</td>\n",
       "      <td>1</td>\n",
       "      <td>0</td>\n",
       "      <td>0</td>\n",
       "      <td>0</td>\n",
       "      <td>0</td>\n",
       "    </tr>\n",
       "    <tr>\n",
       "      <th>2</th>\n",
       "      <td>6</td>\n",
       "      <td>0</td>\n",
       "      <td>0</td>\n",
       "      <td>34</td>\n",
       "      <td>0</td>\n",
       "      <td>0</td>\n",
       "      <td>1</td>\n",
       "      <td>0</td>\n",
       "      <td>0</td>\n",
       "      <td>0</td>\n",
       "      <td>0</td>\n",
       "    </tr>\n",
       "    <tr>\n",
       "      <th>3</th>\n",
       "      <td>6</td>\n",
       "      <td>0</td>\n",
       "      <td>0</td>\n",
       "      <td>34</td>\n",
       "      <td>0</td>\n",
       "      <td>0</td>\n",
       "      <td>1</td>\n",
       "      <td>0</td>\n",
       "      <td>0</td>\n",
       "      <td>0</td>\n",
       "      <td>0</td>\n",
       "    </tr>\n",
       "    <tr>\n",
       "      <th>4</th>\n",
       "      <td>6</td>\n",
       "      <td>0</td>\n",
       "      <td>0</td>\n",
       "      <td>34</td>\n",
       "      <td>0</td>\n",
       "      <td>0</td>\n",
       "      <td>1</td>\n",
       "      <td>0</td>\n",
       "      <td>0</td>\n",
       "      <td>0</td>\n",
       "      <td>0</td>\n",
       "    </tr>\n",
       "    <tr>\n",
       "      <th>...</th>\n",
       "      <td>...</td>\n",
       "      <td>...</td>\n",
       "      <td>...</td>\n",
       "      <td>...</td>\n",
       "      <td>...</td>\n",
       "      <td>...</td>\n",
       "      <td>...</td>\n",
       "      <td>...</td>\n",
       "      <td>...</td>\n",
       "      <td>...</td>\n",
       "      <td>...</td>\n",
       "    </tr>\n",
       "    <tr>\n",
       "      <th>402082</th>\n",
       "      <td>6</td>\n",
       "      <td>1</td>\n",
       "      <td>1</td>\n",
       "      <td>47</td>\n",
       "      <td>0</td>\n",
       "      <td>0</td>\n",
       "      <td>0</td>\n",
       "      <td>1</td>\n",
       "      <td>0</td>\n",
       "      <td>0</td>\n",
       "      <td>0</td>\n",
       "    </tr>\n",
       "    <tr>\n",
       "      <th>402083</th>\n",
       "      <td>3</td>\n",
       "      <td>0</td>\n",
       "      <td>0</td>\n",
       "      <td>49</td>\n",
       "      <td>0</td>\n",
       "      <td>0</td>\n",
       "      <td>0</td>\n",
       "      <td>0</td>\n",
       "      <td>1</td>\n",
       "      <td>0</td>\n",
       "      <td>0</td>\n",
       "    </tr>\n",
       "    <tr>\n",
       "      <th>402084</th>\n",
       "      <td>6</td>\n",
       "      <td>0</td>\n",
       "      <td>0</td>\n",
       "      <td>32</td>\n",
       "      <td>0</td>\n",
       "      <td>0</td>\n",
       "      <td>0</td>\n",
       "      <td>1</td>\n",
       "      <td>0</td>\n",
       "      <td>0</td>\n",
       "      <td>0</td>\n",
       "    </tr>\n",
       "    <tr>\n",
       "      <th>402085</th>\n",
       "      <td>2</td>\n",
       "      <td>1</td>\n",
       "      <td>1</td>\n",
       "      <td>43</td>\n",
       "      <td>0</td>\n",
       "      <td>0</td>\n",
       "      <td>0</td>\n",
       "      <td>1</td>\n",
       "      <td>0</td>\n",
       "      <td>0</td>\n",
       "      <td>0</td>\n",
       "    </tr>\n",
       "    <tr>\n",
       "      <th>402086</th>\n",
       "      <td>2</td>\n",
       "      <td>0</td>\n",
       "      <td>0</td>\n",
       "      <td>29</td>\n",
       "      <td>0</td>\n",
       "      <td>0</td>\n",
       "      <td>0</td>\n",
       "      <td>0</td>\n",
       "      <td>1</td>\n",
       "      <td>0</td>\n",
       "      <td>0</td>\n",
       "    </tr>\n",
       "  </tbody>\n",
       "</table>\n",
       "<p>402087 rows × 11 columns</p>\n",
       "</div>"
      ],
      "text/plain": [
       "        violation  contraband_found  drugs_related_stop  district  \\\n",
       "0               6                 0                   0        34   \n",
       "1               6                 0                   0        34   \n",
       "2               6                 0                   0        34   \n",
       "3               6                 0                   0        34   \n",
       "4               6                 0                   0        34   \n",
       "...           ...               ...                 ...       ...   \n",
       "402082          6                 1                   1        47   \n",
       "402083          3                 0                   0        49   \n",
       "402084          6                 0                   0        32   \n",
       "402085          2                 1                   1        43   \n",
       "402086          2                 0                   0        29   \n",
       "\n",
       "        Erratic Suspicious Behaviour  Informant Tip  No Search Conducted  \\\n",
       "0                                  0              0                    1   \n",
       "1                                  0              0                    1   \n",
       "2                                  0              0                    1   \n",
       "3                                  0              0                    1   \n",
       "4                                  0              0                    1   \n",
       "...                              ...            ...                  ...   \n",
       "402082                             0              0                    0   \n",
       "402083                             0              0                    0   \n",
       "402084                             0              0                    0   \n",
       "402085                             0              0                    0   \n",
       "402086                             0              0                    0   \n",
       "\n",
       "        Observation Suspected Contraband  Other Official Info  \\\n",
       "0                                      0                    0   \n",
       "1                                      0                    0   \n",
       "2                                      0                    0   \n",
       "3                                      0                    0   \n",
       "4                                      0                    0   \n",
       "...                                  ...                  ...   \n",
       "402082                                 1                    0   \n",
       "402083                                 0                    1   \n",
       "402084                                 1                    0   \n",
       "402085                                 1                    0   \n",
       "402086                                 0                    1   \n",
       "\n",
       "        Suspicious Movement  Witness Observation  \n",
       "0                         0                    0  \n",
       "1                         0                    0  \n",
       "2                         0                    0  \n",
       "3                         0                    0  \n",
       "4                         0                    0  \n",
       "...                     ...                  ...  \n",
       "402082                    0                    0  \n",
       "402083                    0                    0  \n",
       "402084                    0                    0  \n",
       "402085                    0                    0  \n",
       "402086                    0                    0  \n",
       "\n",
       "[402087 rows x 11 columns]"
      ]
     },
     "execution_count": 71,
     "metadata": {},
     "output_type": "execute_result"
    }
   ],
   "source": [
    "X_unbiased"
   ]
  },
  {
   "cell_type": "code",
   "execution_count": 72,
   "metadata": {
    "pycharm": {
     "is_executing": true
    }
   },
   "outputs": [],
   "source": [
    "#Now we create new ML model with the best classifier Decision Tree Classifier\n",
    "from sklearn.model_selection import train_test_split\n",
    "\n",
    "y_unbiased=y_encoded\n",
    "# Split the data into training and test set\n",
    "# test_size=0.3: 70% training set, 30% test set\n",
    "# random_state=350: \n",
    "X_train_u, X_test_u, y_train_u, y_test_u = train_test_split(X_unbiased, y_unbiased, test_size=0.3, random_state=350)"
   ]
  },
  {
   "cell_type": "markdown",
   "metadata": {},
   "source": [
    "# Comparision for KNeighborsClassifier"
   ]
  },
  {
   "cell_type": "code",
   "execution_count": 73,
   "metadata": {
    "pycharm": {
     "is_executing": true
    }
   },
   "outputs": [
    {
     "data": {
      "text/plain": [
       "<Figure size 432x288 with 0 Axes>"
      ]
     },
     "metadata": {},
     "output_type": "display_data"
    },
    {
     "data": {
      "image/png": "[encoded data removed]",
      "text/plain": [
       "<Figure size 432x288 with 2 Axes>"
      ]
     },
     "metadata": {
      "needs_background": "light"
     },
     "output_type": "display_data"
    },
    {
     "data": {
      "text/plain": [
       "<Figure size 432x288 with 0 Axes>"
      ]
     },
     "metadata": {},
     "output_type": "display_data"
    },
    {
     "data": {
      "image/png": "[encoded data removed]",
      "text/plain": [
       "<Figure size 432x288 with 2 Axes>"
      ]
     },
     "metadata": {
      "needs_background": "light"
     },
     "output_type": "display_data"
    }
   ],
   "source": [
    "\n",
    "\n",
    "from sklearn.neighbors import KNeighborsClassifier\n",
    "\n",
    "# Create an instance of KNN with n_neighbors=1 (k=1)\n",
    "knn_u = KNeighborsClassifier(n_neighbors=1)\n",
    "# Train the model on the training set with the encoded labels\n",
    "knn_u.fit(X_train_u, y_train_u)\n",
    "\n",
    "# Plot the confusion matrix for the training set\n",
    "plt.figure()\n",
    "plot_confusion_matrix(knn_u, X_train_u, y_train_u, display_labels=['Arrest', 'No Action'])\n",
    "plt.title('Training set confusion matrix of KNeighborsClassifier')\n",
    "plt.show()\n",
    "\n",
    "# Plot the confusion matrix for the test set\n",
    "plt.figure()\n",
    "plot_confusion_matrix(knn_u, X_test_u, y_test_u, display_labels=['Arrest', 'No Action'])\n",
    "plt.title('Test set confusion matrix of KNeighborsClassifier')\n",
    "plt.show()"
   ]
  },
  {
   "cell_type": "code",
   "execution_count": 74,
   "metadata": {},
   "outputs": [],
   "source": [
    "#y_pred for KNeighborsClassifier Classifier\n",
    "#y_pred_u for KNeighborsClassifier Classifier for unbiased variable\n",
    "\n",
    "y_pred_k=knn.predict(X_test)\n",
    "y_pred_uk=knn_u.predict(X_test_u)\n",
    "\n",
    "\n",
    "\n",
    "cm_biased_k = confusion_matrix(y_test, y_pred_k)\n",
    "cm_unbiased_k = confusion_matrix(y_test_u, y_pred_uk)\n",
    "\n",
    "\n",
    "tn_b_k, fp_b_k, fn_b_k, tp_b_k = cm_biased_k.ravel()\n",
    "tn_u_k, fp_u_k, fn_u_k, tp_u_k = cm_unbiased_k.ravel()\n",
    "\n"
   ]
  },
  {
   "cell_type": "markdown",
   "metadata": {},
   "source": [
    "# Independence of biased and unbiased feature for KNeighborsClassifier"
   ]
  },
  {
   "cell_type": "code",
   "execution_count": 75,
   "metadata": {},
   "outputs": [
    {
     "name": "stdout",
     "output_type": "stream",
     "text": [
      "Independence Biased for KNeighborsClassifier :\t 0.696701401842042\n",
      "Independence Unbiased for KNeighborsClassifier:\t 0.7115654040969269\n"
     ]
    }
   ],
   "source": [
    "independence_biased_k=independence(tn_b_k, fp_b_k, fn_b_k, tp_b_k)\n",
    "independence_unbiased_k=independence(tn_u_k, fp_u_k, fn_u_k, tp_u_k)\n",
    "\n",
    "\n",
    "print('Independence Biased for KNeighborsClassifier :\\t',independence_biased_k)\n",
    "print('Independence Unbiased for KNeighborsClassifier:\\t',independence_unbiased_k)\n",
    "\n"
   ]
  },
  {
   "cell_type": "markdown",
   "metadata": {},
   "source": [
    "# Seperation of biased and unbiased feature for  KNeighborsClassifier"
   ]
  },
  {
   "cell_type": "code",
   "execution_count": 76,
   "metadata": {},
   "outputs": [
    {
     "name": "stdout",
     "output_type": "stream",
     "text": [
      "Separation Y1 Biased for KNeighborsClassifier  :\t 0.9217762758653515\n",
      "Separation Y1 Unbiased for KNeighborsClassifier:\t 0.9231656453153761\n",
      "***************************************************************************\n",
      "Separation Y0 Biased for KNeighborsClassifier  :\t 0.8322035751380309\n",
      "Separation Y0 Unbiased for KNeighborsClassifier:\t 0.874486247233639\n"
     ]
    }
   ],
   "source": [
    "(separation_biased_y1_k,separation_biased_y0_k) = separation(tn_b_k, fp_b_k, fn_b_k, tp_b_k)\n",
    "(separation_unbiased_y1_k,separation_unbiased_y0_k) = separation(tn_u_k, fp_u_k, fn_u_k, tp_u_k)\n",
    "\n",
    "print('Separation Y1 Biased for KNeighborsClassifier  :\\t',separation_biased_y1_k)\n",
    "print('Separation Y1 Unbiased for KNeighborsClassifier:\\t',separation_unbiased_y1_k)\n",
    "print(\"*\"*75)\n",
    "print('Separation Y0 Biased for KNeighborsClassifier  :\\t',separation_biased_y0_k)\n",
    "print('Separation Y0 Unbiased for KNeighborsClassifier:\\t',separation_unbiased_y0_k)"
   ]
  },
  {
   "cell_type": "markdown",
   "metadata": {},
   "source": [
    "# Sufficiency of biased and unbiased feature for KNeighborsClassifier"
   ]
  },
  {
   "cell_type": "code",
   "execution_count": 77,
   "metadata": {},
   "outputs": [
    {
     "name": "stdout",
     "output_type": "stream",
     "text": [
      "Sufficiency R1 Biased for KNeighborsClassifier   :\t 0.9265722555797431\n",
      "Sufficiency R1 Unbiased for KNeighborsClassifier :\t 0.9477669066813387\n",
      "********************************************************************************\n",
      "Sufficiency R0 Biased for KNeighborsClassifier   :\t 0.17757488992733853\n",
      "Sufficiency R0 Unbiased for KNeighborsClassifier :\t 0.17814213554469085\n"
     ]
    }
   ],
   "source": [
    "(sufficiency_biased_r1_k,sufficiency_biased_r0_k) = sufficiency(tn_b_k, fp_b_k, fn_b_k, tp_b_k)\n",
    "(sufficiency_unbiased_r1_k,sufficiency_unbiased_r0_k) = sufficiency(tn_u_k, fp_u_k, fn_u_k, tp_u_k)\n",
    "\n",
    "print('Sufficiency R1 Biased for KNeighborsClassifier   :\\t',sufficiency_biased_r1_k)\n",
    "print('Sufficiency R1 Unbiased for KNeighborsClassifier :\\t',sufficiency_unbiased_r1_k)\n",
    "print(\"*\"*80)\n",
    "print('Sufficiency R0 Biased for KNeighborsClassifier   :\\t',sufficiency_biased_r0_k)\n",
    "print('Sufficiency R0 Unbiased for KNeighborsClassifier :\\t',sufficiency_unbiased_r0_k)"
   ]
  },
  {
   "cell_type": "code",
   "execution_count": 78,
   "metadata": {},
   "outputs": [],
   "source": [
    "#TODO It's clear that in this model using unbiased model is more adventegous. Explain in paper, interpret the results"
   ]
  },
  {
   "cell_type": "markdown",
   "metadata": {
    "pycharm": {
     "is_executing": true
    }
   },
   "source": [
    "# Comparision for Decision Tree"
   ]
  },
  {
   "cell_type": "code",
   "execution_count": 79,
   "metadata": {},
   "outputs": [
    {
     "data": {
      "text/plain": [
       "<Figure size 432x288 with 0 Axes>"
      ]
     },
     "metadata": {},
     "output_type": "display_data"
    },
    {
     "data": {
      "image/png": "[encoded data removed]",
      "text/plain": [
       "<Figure size 432x288 with 2 Axes>"
      ]
     },
     "metadata": {
      "needs_background": "light"
     },
     "output_type": "display_data"
    },
    {
     "data": {
      "text/plain": [
       "<Figure size 432x288 with 0 Axes>"
      ]
     },
     "metadata": {},
     "output_type": "display_data"
    },
    {
     "data": {
      "image/png": "[encoded data removed]",
      "text/plain": [
       "<Figure size 432x288 with 2 Axes>"
      ]
     },
     "metadata": {
      "needs_background": "light"
     },
     "output_type": "display_data"
    }
   ],
   "source": [
    "\n",
    "\n",
    "from sklearn.tree import DecisionTreeClassifier, plot_tree\n",
    "from sklearn.metrics import plot_confusion_matrix\n",
    "import matplotlib.pyplot as plt\n",
    "\n",
    "#same parameter like second task\n",
    "# Maximum depth of the tree\n",
    "md=6\n",
    "# The minimum number of samples required to split an internal node\n",
    "mss=18\n",
    "# Maximum number of allowed leaf nodes\n",
    "mln=10\n",
    "\n",
    "# Create an instance of the decision tree classifier with the predefined parameters\n",
    "dct_u = DecisionTreeClassifier(random_state=42, max_depth=md, min_samples_split=mss, max_leaf_nodes=mln, criterion='gini')\n",
    "\n",
    "# Train the model using the training set\n",
    "dct_u.fit(X_train_u, y_train_u)\n",
    "\n",
    "# Plot the confusion matrix for the training set\n",
    "plt.figure()\n",
    "plot_confusion_matrix(dct_u, X_train_u, y_train_u, display_labels=['Arrest', 'No Action'])\n",
    "plt.title('Training set confusion matrix of Decision Tree')\n",
    "plt.show()\n",
    "\n",
    "# Plot the confusion matrix for the test set\n",
    "plt.figure()\n",
    "plot_confusion_matrix(dct_u, X_test_u, y_test_u, display_labels=['Arrest', 'No Action'])\n",
    "plt.title('Test set confusion matrix of Decision Tree')\n",
    "plt.show()\n",
    "\n",
    "\n"
   ]
  },
  {
   "cell_type": "code",
   "execution_count": 80,
   "metadata": {},
   "outputs": [],
   "source": [
    "#y_pred for Decision Tree Classifier\n",
    "#y_pred_u for Decision Tree Classifier for unbiased variable\n",
    "\n",
    "y_pred=dct.predict(X_test)\n",
    "y_pred_u=dct_u.predict(X_test_u)\n",
    "\n",
    "\n",
    "\n",
    "cm_biased = confusion_matrix(y_test, y_pred)\n",
    "cm_unbiased = confusion_matrix(y_test_u, y_pred_u)\n",
    "\n",
    "\n",
    "tn_b, fp_b, fn_b, tp_b = cm_biased.ravel()\n",
    "tn_u, fp_u, fn_u, tp_u = cm_unbiased.ravel()\n"
   ]
  },
  {
   "cell_type": "markdown",
   "metadata": {},
   "source": [
    "# Independence of biased and unbiased feature for Decision Tree"
   ]
  },
  {
   "cell_type": "code",
   "execution_count": 81,
   "metadata": {},
   "outputs": [
    {
     "name": "stdout",
     "output_type": "stream",
     "text": [
      "Independence Biased for Decision Tree:\t 0.7323236091422318\n",
      "Independence Unbiased for Decision Tree:\t 0.7266946869274706\n"
     ]
    }
   ],
   "source": [
    "independence_biased=independence(tn_b, fp_b, fn_b, tp_b)\n",
    "independence_unbiased=independence(tn_u, fp_u, fn_u, tp_u)\n",
    "\n",
    "\n",
    "print('Independence Biased for Decision Tree:\\t',independence_biased)\n",
    "print('Independence Unbiased for Decision Tree:\\t',independence_unbiased)\n"
   ]
  },
  {
   "cell_type": "markdown",
   "metadata": {},
   "source": [
    "# Seperation of biased and unbiased feature for Decision Tree"
   ]
  },
  {
   "cell_type": "code",
   "execution_count": 82,
   "metadata": {},
   "outputs": [
    {
     "name": "stdout",
     "output_type": "stream",
     "text": [
      "Separation Y1 Biased for Decision Tree  :\t 0.9228531322873509\n",
      "Separation Y1 Unbiased for Decision Tree:\t 0.9264536442350472\n",
      "**********************************************************************\n",
      "Separation Y0 Biased for Decision Tree  :\t 0.935488866177336\n",
      "Separation Y0 Unbiased for Decision Tree:\t 0.9273841300655181\n"
     ]
    }
   ],
   "source": [
    "(separation_biased_y1,separation_biased_y0) = separation(tn_b, fp_b, fn_b, tp_b)\n",
    "(separation_unbiased_y1,separation_unbiased_y0) = separation(tn_u, fp_u, fn_u, tp_u)\n",
    "\n",
    "print('Separation Y1 Biased for Decision Tree  :\\t',separation_biased_y1)\n",
    "print('Separation Y1 Unbiased for Decision Tree:\\t',separation_unbiased_y1)\n",
    "print(\"*\"*70)\n",
    "print('Separation Y0 Biased for Decision Tree  :\\t',separation_biased_y0)\n",
    "print('Separation Y0 Unbiased for Decision Tree:\\t',separation_unbiased_y0)"
   ]
  },
  {
   "cell_type": "markdown",
   "metadata": {},
   "source": [
    "# Sufficiency of biased and unbiased feature for Decision Tree"
   ]
  },
  {
   "cell_type": "code",
   "execution_count": 83,
   "metadata": {},
   "outputs": [
    {
     "name": "stdout",
     "output_type": "stream",
     "text": [
      "Sufficiency R1 Biased for Decision Tree  :\t 0.9750855201779777\n",
      "Sufficiency R1 Unbiased for Decision Tree:\t 0.9713656914575509\n",
      "********************************************************************************\n",
      "Sufficiency R0 Biased for Decision Tree  :\t 0.18408470867885796\n",
      "Sufficiency R0 Unbiased for Decision Tree:\t 0.17414440452716026\n"
     ]
    }
   ],
   "source": [
    "(sufficiency_biased_r1,sufficiency_biased_r0) = sufficiency(tn_b, fp_b, fn_b, tp_b)\n",
    "(sufficiency_unbiased_r1,sufficiency_unbiased_r0) = sufficiency(tn_u, fp_u, fn_u, tp_u)\n",
    "\n",
    "print('Sufficiency R1 Biased for Decision Tree  :\\t',sufficiency_biased_r1)\n",
    "print('Sufficiency R1 Unbiased for Decision Tree:\\t',sufficiency_unbiased_r1)\n",
    "print(\"*\"*80)\n",
    "print('Sufficiency R0 Biased for Decision Tree  :\\t',sufficiency_biased_r0)\n",
    "print('Sufficiency R0 Unbiased for Decision Tree:\\t',sufficiency_unbiased_r0)\n"
   ]
  },
  {
   "cell_type": "code",
   "execution_count": 84,
   "metadata": {},
   "outputs": [],
   "source": [
    "#TODO:In this model, there are some trade-off between independence seperation and sufficiency values for biased and unbiased features\n",
    "#Interpret the results for Decision Tree Model\n",
    "\n"
   ]
  },
  {
   "cell_type": "code",
   "execution_count": 85,
   "metadata": {},
   "outputs": [],
   "source": [
    "#Finally we have to compare the fairness results for unbiased and biased features,\n",
    "#Compare the results of Decision Tree and Knn models\n",
    "#It's obvious that building model with unbiased feauture with KNN is much better than Decision Tree according to fairness metrics.\n",
    "#"
   ]
  },
  {
   "cell_type": "markdown",
   "metadata": {},
   "source": [
    "# Task 5 "
   ]
  },
  {
   "cell_type": "code",
   "execution_count": 86,
   "metadata": {},
   "outputs": [
    {
     "ename": "ModuleNotFoundError",
     "evalue": "No module named 'yellowbrick'",
     "output_type": "error",
     "traceback": [
      "\u001b[0;31m---------------------------------------------------------------------------\u001b[0m",
      "\u001b[0;31mModuleNotFoundError\u001b[0m                       Traceback (most recent call last)",
      "\u001b[0;32m<ipython-input-86-26898049033d>\u001b[0m in \u001b[0;36m<module>\u001b[0;34m\u001b[0m\n\u001b[0;32m----> 1\u001b[0;31m \u001b[0;32mfrom\u001b[0m \u001b[0myellowbrick\u001b[0m\u001b[0;34m.\u001b[0m\u001b[0mclassifier\u001b[0m\u001b[0;34m.\u001b[0m\u001b[0mthreshold\u001b[0m \u001b[0;32mimport\u001b[0m \u001b[0mdiscrimination_threshold\u001b[0m\u001b[0;34m\u001b[0m\u001b[0;34m\u001b[0m\u001b[0m\n\u001b[0m\u001b[1;32m      2\u001b[0m \u001b[0;32mimport\u001b[0m \u001b[0mwarnings\u001b[0m\u001b[0;34m\u001b[0m\u001b[0;34m\u001b[0m\u001b[0m\n\u001b[1;32m      3\u001b[0m \u001b[0mwarnings\u001b[0m\u001b[0;34m.\u001b[0m\u001b[0msimplefilter\u001b[0m\u001b[0;34m(\u001b[0m\u001b[0maction\u001b[0m\u001b[0;34m=\u001b[0m\u001b[0;34m'ignore'\u001b[0m\u001b[0;34m,\u001b[0m \u001b[0mcategory\u001b[0m\u001b[0;34m=\u001b[0m\u001b[0mFutureWarning\u001b[0m\u001b[0;34m)\u001b[0m\u001b[0;34m\u001b[0m\u001b[0;34m\u001b[0m\u001b[0m\n\u001b[1;32m      4\u001b[0m \u001b[0mdiscrimination_threshold\u001b[0m\u001b[0;34m(\u001b[0m\u001b[0mknn\u001b[0m\u001b[0;34m,\u001b[0m \u001b[0mX_train\u001b[0m\u001b[0;34m,\u001b[0m \u001b[0my_train\u001b[0m\u001b[0;34m)\u001b[0m\u001b[0;34m\u001b[0m\u001b[0;34m\u001b[0m\u001b[0m\n",
      "\u001b[0;31mModuleNotFoundError\u001b[0m: No module named 'yellowbrick'"
     ]
    }
   ],
   "source": [
    "from yellowbrick.classifier.threshold import discrimination_threshold\n",
    "import warnings\n",
    "warnings.simplefilter(action='ignore', category=FutureWarning)\n",
    "discrimination_threshold(knn, X_train, y_train)\n"
   ]
  },
  {
   "cell_type": "code",
   "execution_count": null,
   "metadata": {},
   "outputs": [],
   "source": [
    "from yellowbrick.classifier.threshold import discrimination_threshold\n",
    "import warnings\n",
    "warnings.simplefilter(action='ignore', category=FutureWarning)\n",
    "discrimination_threshold(dct, X_train, y_train)"
   ]
  },
  {
   "cell_type": "markdown",
   "metadata": {},
   "source": [
    "Looking to the both threshold plots, it can be observed that different methods yield different rates for the same threshold values. Bigger thresholds yield bigger precisions and smaller recall values and vice versa.\n",
    "\n",
    "Moreover our treasure hunt for the \"fairest\" system can be finalized, as the fairest system would be the one turning out the maximal f1 value for the selected methods. Thus, it can be concluded that, tr_knn:0,5 and tr_0,3 are the values yielding the fairest versions of their respective models."
   ]
  },
  {
   "cell_type": "code",
   "execution_count": null,
   "metadata": {},
   "outputs": [],
   "source": [
    "#TODO: CREATE ONE MODEL WITH RESPECTIVE TR VALUES AND SHOW THROUGH EXAMPLE THAT IT REALLY IS FAIRER."
   ]
  },
  {
   "cell_type": "code",
   "execution_count": null,
   "metadata": {},
   "outputs": [],
   "source": []
  },
  {
   "cell_type": "code",
   "execution_count": null,
   "metadata": {},
   "outputs": [],
   "source": []
  }
 ],
 "metadata": {
  "kernelspec": {
   "display_name": "Python 3 (ipykernel)",
   "language": "python",
   "name": "python3"
  },
  "language_info": {
   "codemirror_mode": {
    "name": "ipython",
    "version": 3
   },
   "file_extension": ".py",
   "mimetype": "text/x-python",
   "name": "python",
   "nbconvert_exporter": "python",
   "pygments_lexer": "ipython3",
   "version": "3.8.13"
  }
 },
 "nbformat": 4,
 "nbformat_minor": 1
}
